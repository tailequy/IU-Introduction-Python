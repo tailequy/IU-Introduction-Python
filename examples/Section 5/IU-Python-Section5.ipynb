{
 "cells": [
  {
   "cell_type": "markdown",
   "id": "3bcb0772-0629-4771-bb5c-401a360462be",
   "metadata": {},
   "source": [
    "# Introduction to Programming with Python\n",
    "## Section 5: Errors and Exceptions"
   ]
  },
  {
   "cell_type": "markdown",
   "id": "0fb95791-c4bf-41dd-b794-5798145c0b9f",
   "metadata": {},
   "source": [
    "### 1. Errors"
   ]
  },
  {
   "cell_type": "code",
   "execution_count": 2,
   "id": "c3e6c57f-24c7-46fa-bd72-d7289081ec42",
   "metadata": {},
   "outputs": [
    {
     "ename": "SyntaxError",
     "evalue": "invalid syntax (<ipython-input-2-2fae73033167>, line 3)",
     "output_type": "error",
     "traceback": [
      "\u001b[1;36m  File \u001b[1;32m\"<ipython-input-2-2fae73033167>\"\u001b[1;36m, line \u001b[1;32m3\u001b[0m\n\u001b[1;33m    if value = 10:\u001b[0m\n\u001b[1;37m             ^\u001b[0m\n\u001b[1;31mSyntaxError\u001b[0m\u001b[1;31m:\u001b[0m invalid syntax\n"
     ]
    }
   ],
   "source": [
    "#Syntax error\n",
    "value = int(input())\n",
    "if value == 10:\n",
    "   print(\"You entered 10\") "
   ]
  },
  {
   "cell_type": "code",
   "execution_count": 4,
   "id": "86ab7c13",
   "metadata": {},
   "outputs": [
    {
     "ename": "SyntaxError",
     "evalue": "invalid syntax (<ipython-input-4-9f0eb74f777f>, line 3)",
     "output_type": "error",
     "traceback": [
      "\u001b[1;36m  File \u001b[1;32m\"<ipython-input-4-9f0eb74f777f>\"\u001b[1;36m, line \u001b[1;32m3\u001b[0m\n\u001b[1;33m    value == 10:\u001b[0m\n\u001b[1;37m                ^\u001b[0m\n\u001b[1;31mSyntaxError\u001b[0m\u001b[1;31m:\u001b[0m invalid syntax\n"
     ]
    }
   ],
   "source": [
    "#Syntax error\n",
    "value = int(input())\n",
    "value == 10:\n",
    "   print(\"You entered 10\") "
   ]
  },
  {
   "cell_type": "markdown",
   "id": "2f8af2a6",
   "metadata": {},
   "source": [
    "### 2. Exception Handling\n",
    "\n",
    "An error that occurs during program execution and disrupts the normal flow of a program is called an **exception**. \n",
    "Knowing when they may occur and putting the right code in place to deal with them so your application will not crash.\n",
    "\n",
    "Built-in Exceptions in Python: https://docs.python.org/3/library/exceptions.html"
   ]
  },
  {
   "cell_type": "code",
   "execution_count": 6,
   "id": "d85f8d53",
   "metadata": {},
   "outputs": [
    {
     "name": "stdout",
     "output_type": "stream",
     "text": [
      "0\n",
      "Input again: \n",
      "0\n",
      "Input again: \n",
      "0\n",
      "Input again: \n",
      "0\n",
      "Input again: \n",
      "3\n",
      "5 divided by 3 = 1.6666666666666667\n"
     ]
    }
   ],
   "source": [
    "# Division by zero\n",
    "while True:\n",
    "    value = input()\n",
    "    if int(value) == 0:\n",
    "        print(\"Input again: \")\n",
    "    else:\n",
    "        break\n",
    "result = str(5/int(value))\n",
    "print(\"5 divided by \" + value + \" = \" + result)"
   ]
  },
  {
   "cell_type": "code",
   "execution_count": 7,
   "id": "42307b0a",
   "metadata": {},
   "outputs": [
    {
     "name": "stdout",
     "output_type": "stream",
     "text": [
      "Enter a file name:\n",
      "abc.txt\n"
     ]
    },
    {
     "ename": "FileNotFoundError",
     "evalue": "[Errno 2] No such file or directory: 'abc.txt'",
     "output_type": "error",
     "traceback": [
      "\u001b[1;31m---------------------------------------------------------------------------\u001b[0m",
      "\u001b[1;31mFileNotFoundError\u001b[0m                         Traceback (most recent call last)",
      "\u001b[1;32m<ipython-input-7-e8fc1cd17597>\u001b[0m in \u001b[0;36m<module>\u001b[1;34m\u001b[0m\n\u001b[0;32m      2\u001b[0m \u001b[0mprint\u001b[0m\u001b[1;33m(\u001b[0m\u001b[1;34m\"Enter a file name:\"\u001b[0m\u001b[1;33m)\u001b[0m\u001b[1;33m\u001b[0m\u001b[1;33m\u001b[0m\u001b[0m\n\u001b[0;32m      3\u001b[0m \u001b[0mfile_name\u001b[0m \u001b[1;33m=\u001b[0m \u001b[0minput\u001b[0m\u001b[1;33m(\u001b[0m\u001b[1;33m)\u001b[0m\u001b[1;33m\u001b[0m\u001b[1;33m\u001b[0m\u001b[0m\n\u001b[1;32m----> 4\u001b[1;33m \u001b[0mmy_file\u001b[0m \u001b[1;33m=\u001b[0m \u001b[0mopen\u001b[0m\u001b[1;33m(\u001b[0m\u001b[0mfile_name\u001b[0m\u001b[1;33m,\u001b[0m\u001b[1;34m\"r\"\u001b[0m\u001b[1;33m)\u001b[0m\u001b[1;33m\u001b[0m\u001b[1;33m\u001b[0m\u001b[0m\n\u001b[0m\u001b[0;32m      5\u001b[0m \u001b[0mprint\u001b[0m\u001b[1;33m(\u001b[0m\u001b[0mmy_file\u001b[0m\u001b[1;33m.\u001b[0m\u001b[0mread\u001b[0m\u001b[1;33m(\u001b[0m\u001b[1;33m)\u001b[0m\u001b[1;33m)\u001b[0m\u001b[1;33m\u001b[0m\u001b[1;33m\u001b[0m\u001b[0m\n\u001b[0;32m      6\u001b[0m \u001b[0mmy_file\u001b[0m\u001b[1;33m.\u001b[0m\u001b[0mclose\u001b[0m\u001b[1;33m(\u001b[0m\u001b[1;33m)\u001b[0m\u001b[1;33m\u001b[0m\u001b[1;33m\u001b[0m\u001b[0m\n",
      "\u001b[1;31mFileNotFoundError\u001b[0m: [Errno 2] No such file or directory: 'abc.txt'"
     ]
    }
   ],
   "source": [
    "# Opening and Reading a File\n",
    "print(\"Enter a file name:\")\n",
    "file_name = input()\n",
    "my_file = open(file_name,\"r\")\n",
    "print(my_file.read())\n",
    "my_file.close()"
   ]
  },
  {
   "cell_type": "markdown",
   "id": "ce52a7b3",
   "metadata": {},
   "source": [
    "We can prevent the application from crashing when an exception occurs. The first step in doing so is to use the “try” statement preceding any block of code in which we think an exception may occur"
   ]
  },
  {
   "cell_type": "code",
   "execution_count": 17,
   "id": "8d9e41fd",
   "metadata": {},
   "outputs": [
    {
     "name": "stdout",
     "output_type": "stream",
     "text": [
      "2\n",
      "5 divided by 2 = 2.5\n",
      "We're now at the end of the program.\n"
     ]
    }
   ],
   "source": [
    "# Divide by Zero Code with Try/Except\n",
    "try:\n",
    "    value = input()\n",
    "    result = str(5/int(value))\n",
    "    print(\"5 divided by \" + value + \" = \" + result)\n",
    "except ZeroDivisionError:\n",
    "    print(\"You tried to divide by zero!\")\n",
    "print(\"We're now at the end of the program.\")"
   ]
  },
  {
   "cell_type": "code",
   "execution_count": 19,
   "id": "cf1d4c74",
   "metadata": {},
   "outputs": [
    {
     "name": "stdout",
     "output_type": "stream",
     "text": [
      "Enter a file name:\n",
      "fibo.py\n",
      "# Python 3: Fibonacci series up to n\n",
      "def fib(n):\n",
      "   a, b = 0, 1\n",
      "   while a < n:\n",
      "       print(a, end=' ')\n",
      "       a, b = b, a+b\n",
      "\n",
      "def main():\n",
      "    n = int(input(\"Enter an integer number n  = \"))\n",
      "    print(\"Fibonacci series up to \", n, \":\")\n",
      "    fib(n)\n",
      "if __name__ == \"__main__\":\n",
      "    main()\n",
      "\n",
      "End of program\n"
     ]
    }
   ],
   "source": [
    "#Try Block - Reading a File Successfully\n",
    "# Opening and Reading a File\n",
    "try:\n",
    "    print(\"Enter a file name:\")\n",
    "    file_name = input()\n",
    "    my_file = open(file_name,\"r\")\n",
    "    print(my_file.read())\n",
    "    my_file.close()\n",
    "except FileNotFoundError:\n",
    "    print(\"File not found\")\n",
    "print(\"End of program\")"
   ]
  },
  {
   "cell_type": "code",
   "execution_count": 16,
   "id": "d3872a43",
   "metadata": {},
   "outputs": [
    {
     "name": "stdout",
     "output_type": "stream",
     "text": [
      "Type an integer: a\n",
      "An error has occurred!\n"
     ]
    }
   ],
   "source": [
    "# More than one except clauses\n",
    "try:\n",
    "    value = input('Type an integer: ')\n",
    "    result = str(5 / int(value))\n",
    "    print('5 divided by ' + value)\n",
    "except ZeroDivisionError:\n",
    "    print('You tried to divide by zero!')\n",
    "except:\n",
    "    print('An error has occurred!')"
   ]
  },
  {
   "cell_type": "code",
   "execution_count": 5,
   "id": "a48e5846",
   "metadata": {},
   "outputs": [
    {
     "name": "stdout",
     "output_type": "stream",
     "text": [
      "Type an integer: 4\n",
      "5 divided by 4\n",
      "The result is 1.25\n"
     ]
    }
   ],
   "source": [
    "# The else clause will be executed when no exception is encountered. \n",
    "# If exception is detected, the else block will be ignored\n",
    "try:\n",
    "    value = input('Type an integer: ')\n",
    "    result = str(5 / int(value))\n",
    "    print('5 divided by ' + value)\n",
    "except ZeroDivisionError:\n",
    "    print('You tried to divide by zero!')\n",
    "else:\n",
    "    print('The result is ' + result)"
   ]
  },
  {
   "cell_type": "markdown",
   "id": "fdebcd67",
   "metadata": {},
   "source": [
    "Some code runs as part of the try statement regardless of whether or not an exception occurred. You can do this by adding a **“finally”** clause to the end of the try/except block."
   ]
  },
  {
   "cell_type": "code",
   "execution_count": 20,
   "id": "0cab7e46",
   "metadata": {},
   "outputs": [
    {
     "name": "stdout",
     "output_type": "stream",
     "text": [
      "Here's our finally block...\n",
      "End of program\n"
     ]
    }
   ],
   "source": [
    "#Finally Block without Error\n",
    "try:\n",
    "    my_variable = 10/10\n",
    "except ZeroDivisionError:\n",
    "    print(\"Divided by zero!\")\n",
    "finally:\n",
    "    print(\"Here's our finally block...\")\n",
    "print(\"End of program\")"
   ]
  },
  {
   "cell_type": "code",
   "execution_count": 21,
   "id": "a48c0e74",
   "metadata": {},
   "outputs": [
    {
     "name": "stdout",
     "output_type": "stream",
     "text": [
      "Divided by zero!\n",
      "Here's our finally block...\n",
      "End of program\n"
     ]
    }
   ],
   "source": [
    "#Finally Block with Error\n",
    "try:\n",
    "    my_variable = 10/0    \n",
    "except ZeroDivisionError:\n",
    "    print(\"Divided by zero!\")\n",
    "finally:\n",
    "    print(\"Here's our finally block...\")\n",
    "print(\"End of program\")"
   ]
  },
  {
   "cell_type": "code",
   "execution_count": 22,
   "id": "11550ac9",
   "metadata": {},
   "outputs": [
    {
     "name": "stdout",
     "output_type": "stream",
     "text": [
      "Here's our finally block...\n"
     ]
    },
    {
     "ename": "ZeroDivisionError",
     "evalue": "",
     "output_type": "error",
     "traceback": [
      "\u001b[1;31m---------------------------------------------------------------------------\u001b[0m",
      "\u001b[1;31mZeroDivisionError\u001b[0m                         Traceback (most recent call last)",
      "\u001b[1;32m<ipython-input-22-68186b2d10f5>\u001b[0m in \u001b[0;36m<module>\u001b[1;34m\u001b[0m\n\u001b[0;32m      1\u001b[0m \u001b[1;31m#Exception Raised by Programmer\u001b[0m\u001b[1;33m\u001b[0m\u001b[1;33m\u001b[0m\u001b[1;33m\u001b[0m\u001b[0m\n\u001b[0;32m      2\u001b[0m \u001b[1;32mtry\u001b[0m\u001b[1;33m:\u001b[0m\u001b[1;33m\u001b[0m\u001b[1;33m\u001b[0m\u001b[0m\n\u001b[1;32m----> 3\u001b[1;33m     \u001b[1;32mraise\u001b[0m \u001b[0mZeroDivisionError\u001b[0m\u001b[1;33m\u001b[0m\u001b[1;33m\u001b[0m\u001b[0m\n\u001b[0m\u001b[0;32m      4\u001b[0m \u001b[1;32mfinally\u001b[0m\u001b[1;33m:\u001b[0m\u001b[1;33m\u001b[0m\u001b[1;33m\u001b[0m\u001b[0m\n\u001b[0;32m      5\u001b[0m     \u001b[0mprint\u001b[0m\u001b[1;33m(\u001b[0m\u001b[1;34m\"Here's our finally block...\"\u001b[0m\u001b[1;33m)\u001b[0m\u001b[1;33m\u001b[0m\u001b[1;33m\u001b[0m\u001b[0m\n",
      "\u001b[1;31mZeroDivisionError\u001b[0m: "
     ]
    }
   ],
   "source": [
    "#Exception Raised by Programmer\n",
    "try:\n",
    "    raise ZeroDivisionError\n",
    "finally:\n",
    "    print(\"Here's our finally block...\")\n",
    "print(\"End of program\")"
   ]
  },
  {
   "cell_type": "code",
   "execution_count": 17,
   "id": "b74ce375",
   "metadata": {},
   "outputs": [
    {
     "name": "stdout",
     "output_type": "stream",
     "text": [
      "3\n",
      "4\n",
      "Here's our finally block...\n",
      "End of program\n"
     ]
    }
   ],
   "source": [
    "#Exception Raised by Programmer\n",
    "try:\n",
    "    a = input()\n",
    "    b = input()\n",
    "    if b==0:\n",
    "        raise ValueError\n",
    "except ZeroDivisionError:\n",
    "    print(\"Divided by zero raised by programmer\")\n",
    "finally:\n",
    "    print(\"Here's our finally block...\")\n",
    "print(\"End of program\")"
   ]
  },
  {
   "cell_type": "markdown",
   "id": "e5d8e77b",
   "metadata": {},
   "source": [
    "### 3. Logs\n",
    "\n",
    "**Debugging**:The process of locating and rectifying errors, flaws, faults, and defects in code, known as “debugging,” is improved if it is done systematically and methodically.\n",
    "\n",
    "**Logging**, or writing data to log files as the program executes, is one such tool. Logging allows a programmer to get a better sense of program flow and what is happening within the program at critical points\n",
    "\n",
    "**Logging** in Python has five different levels of severity in terms of which information is being logged. Those are, in order of lowest severity to highest, the following:\n",
    "- debug\n",
    "- info\n",
    "- warning\n",
    "- error\n",
    "- critical\n",
    "\n",
    "Caution: Once a logger or basicConfig() has been called, later calls to basicConfig() are silent ignored. Therefore, a kernel restart is needed when you want to apply a new basicConfig(). Or use reload \n"
   ]
  },
  {
   "cell_type": "code",
   "execution_count": 18,
   "id": "b1560f5f",
   "metadata": {},
   "outputs": [
    {
     "name": "stderr",
     "output_type": "stream",
     "text": [
      "WARNING:root:Warning is the third level\n",
      "ERROR:root:Error is the fourth level\n",
      "CRITICAL:root:Critical is the fifth and highest level\n"
     ]
    }
   ],
   "source": [
    "#Logging level \n",
    "import logging\n",
    "\n",
    "logging.debug(\"Debug is the lowest log level in severity\")\n",
    "logging.info(\"Info is the second log level\")\n",
    "logging.warning(\"Warning is the third level\")\n",
    "logging.error(\"Error is the fourth level\")\n",
    "logging.critical(\"Critical is the fifth and highest level\")"
   ]
  },
  {
   "cell_type": "code",
   "execution_count": 1,
   "id": "081b74dd-8a44-4675-8c74-ac3e43946354",
   "metadata": {},
   "outputs": [
    {
     "name": "stderr",
     "output_type": "stream",
     "text": [
      "DEBUG:root:Debug is the lowest log level in severity\n",
      "INFO:root:Info is the second log level\n",
      "WARNING:root:Warning is the third level\n",
      "ERROR:root:Error is the fourth level\n",
      "CRITICAL:root:Critical is the fifth and highest level\n"
     ]
    }
   ],
   "source": [
    "#Logging level, changing the logging level\n",
    "import logging\n",
    "logging.basicConfig(level=logging.DEBUG)\n",
    "\n",
    "logging.debug(\"Debug is the lowest log level in severity\")\n",
    "logging.info(\"Info is the second log level\")\n",
    "logging.warning(\"Warning is the third level\")\n",
    "logging.error(\"Error is the fourth level\")\n",
    "logging.critical(\"Critical is the fifth and highest level\")"
   ]
  },
  {
   "cell_type": "code",
   "execution_count": 19,
   "id": "2ac57f1c",
   "metadata": {},
   "outputs": [
    {
     "name": "stderr",
     "output_type": "stream",
     "text": [
      "WARNING:root:Warning is the third level\n",
      "ERROR:root:Error is the fourth level\n",
      "CRITICAL:root:Critical is the fifth and highest level\n"
     ]
    }
   ],
   "source": [
    "#Logging level, changing the logging level\n",
    "import logging\n",
    "logging.basicConfig(filename=\"example.log\", filemode=\"w\", level=logging.DEBUG)\n",
    "\n",
    "logging.debug(\"Debug is the lowest log level in severity\")\n",
    "logging.info(\"Info is the second log level\")\n",
    "logging.warning(\"Warning is the third level\")\n",
    "logging.error(\"Error is the fourth level\")\n",
    "logging.critical(\"Critical is the fifth and highest level\")"
   ]
  },
  {
   "cell_type": "code",
   "execution_count": 1,
   "id": "4ce66a72-4b9c-470d-a1c1-b56dd04fd58c",
   "metadata": {},
   "outputs": [
    {
     "name": "stderr",
     "output_type": "stream",
     "text": [
      "2023-08-21 17:10:18,192: My log message\n"
     ]
    }
   ],
   "source": [
    "#Logging level, formatting log output\n",
    "import logging\n",
    "logging.basicConfig(format=\"%(asctime)s: %(message)s\")\n",
    "logging.critical(\"My log message\")"
   ]
  },
  {
   "cell_type": "markdown",
   "id": "a8830425-af50-4ca8-995c-b2f1f33bfa32",
   "metadata": {},
   "source": [
    "#### Examples of using log"
   ]
  },
  {
   "cell_type": "code",
   "execution_count": 1,
   "id": "4d563d8c-7c82-43a6-ba3b-2c91f461980d",
   "metadata": {},
   "outputs": [],
   "source": [
    "# Source: http://ethen8181.github.io/machine-learning/python/logging.html\n",
    "\n",
    "import logging\n",
    "from imp import reload\n",
    "\n",
    "# jupyter notebook already uses logging, thus we reload the module to make it work in notebooks\n",
    "# http://stackoverflow.com/questions/18786912/get-output-from-the-logging-module-in-ipython-notebook\n",
    "reload(logging)\n",
    "\n",
    "logger = logging.getLogger(__name__)\n",
    "\n",
    "# In the following not only did we change the logging level, but\n",
    "# also specify a logging file to write the log to, and the format.\n",
    "# the format we specified here is simply the time, the level name\n",
    "# and the message that we'll later specify, for more information\n",
    "# about what format we can specify, refer to the following webpage\n",
    "# https://docs.python.org/3/library/logging.html#logrecord-attributes\n",
    "logging.basicConfig(filename='test.log', level=logging.DEBUG, format='%(asctime)s:%(levelname)s:%(message)s')\n",
    "\n",
    "def add(x, y):\n",
    "    \"\"\"Add Function\"\"\"\n",
    "    return x + y\n",
    "\n",
    "\n",
    "def subtract(x, y):\n",
    "    \"\"\"Subtract Function\"\"\"\n",
    "    return x - y\n",
    "\n",
    "\n",
    "def multiply(x, y):\n",
    "    \"\"\"Multiply Function\"\"\"\n",
    "    return x * y\n",
    "\n",
    "\n",
    "def divide(x, y):\n",
    "    \"\"\"Divide Function\"\"\"\n",
    "    try:\n",
    "        result = x / y\n",
    "    except ZeroDivisionError:\n",
    "        # by calling .exception it will produce the traceback,\n",
    "        # which is helpful for knowing where the bug occurred\n",
    "        logger.exception('Tried to divide by 0')\n",
    "    else:\n",
    "        return result\n",
    "    \n",
    "num1 = 20\n",
    "num2 = 0\n",
    "\n",
    "# add logging debugrmation instead of print statement \n",
    "# to record what was going on, note that if we were to\n",
    "# run it for multiple \n",
    "add_result = add(num1, num2)\n",
    "logging.debug('Add: {} + {} = {}'.format(num1, num2, add_result))\n",
    "\n",
    "sub_result = subtract(num1, num2)\n",
    "logging.debug('Sub: {} - {} = {}'.format(num1, num2, sub_result))\n",
    "\n",
    "mul_result = multiply(num1, num2)\n",
    "logging.debug('Mul: {} * {} = {}'.format(num1, num2, mul_result))\n",
    "\n",
    "div_result = divide(num1, num2)\n",
    "logging.debug('Div: {} / {} = {}'.format(num1, num2, div_result))"
   ]
  },
  {
   "cell_type": "markdown",
   "id": "1acda8ec-ebb1-4000-8555-f05725ac5493",
   "metadata": {},
   "source": [
    "### 3. Transfer tasks"
   ]
  },
  {
   "cell_type": "code",
   "execution_count": 21,
   "id": "b2b0b423-9863-4df4-be8a-6bbc0f707eb7",
   "metadata": {},
   "outputs": [
    {
     "name": "stdout",
     "output_type": "stream",
     "text": [
      "Length: 4\n",
      "Width: 5\n",
      "Area of rectangle is  None\n"
     ]
    }
   ],
   "source": [
    "#Task 1\n",
    "length = int(input('Length: '))\n",
    "width = int(input('Width: '))\n",
    "def area_rect(length,width):\n",
    "    area = length * width\n",
    "    return area\n",
    "area = area_rect(length, width)\n",
    "print('Area of rectangle is ', area)"
   ]
  },
  {
   "cell_type": "markdown",
   "id": "62080ca6-8db3-4365-ab9f-1c302f93ec01",
   "metadata": {},
   "source": [
    "#### Task 2\n",
    "\n",
    "Use **try except** to do the following: open a file called **personnels.csv**. If the file does not exist, create the file with file name personnels.csv and insert the header ‘Name, Age, Position’. If the file exists, append the file with ‘Jane, 20, Senior manager’, 'John, 20, Developer’ and ‘Frank, 32, CFO’. The output should look like this when opened in Excel:\n",
    "\n",
    "|Name  | Age | Position |\n",
    "|------|-----|----------|\n",
    "|Jane  |25   |Senior manager|\n",
    "|John  |20   |Developer |\n",
    "|Frank |32   |CFO       |"
   ]
  },
  {
   "cell_type": "code",
   "execution_count": 23,
   "id": "a2c1f37a",
   "metadata": {},
   "outputs": [],
   "source": [
    "#Using try-except-else structure\n",
    "try:\n",
    "    my_file = open(\"personnels.csv\",\"r\")\n",
    "#Write the header to the file, if the file does not exist    \n",
    "except FileNotFoundError:    \n",
    "    my_file = open(\"personnels.csv\",\"w\")\n",
    "    my_file.write(\"Name, Age, Position\\n\")\n",
    "    my_file.close()\n",
    "#Write the content to the file, if the file exists\n",
    "else:\n",
    "    my_file = open(\"personnels.csv\",\"a\")\n",
    "    my_file.write(\"Jane, 25, Senior manager\\n\")\n",
    "    my_file.write(\"John, 20, Developer\\n\")\n",
    "    my_file.write(\"Frank, 32, CFO\\n\")\n",
    "    my_file.close()"
   ]
  },
  {
   "cell_type": "code",
   "execution_count": null,
   "id": "fdeb9f31",
   "metadata": {},
   "outputs": [],
   "source": [
    "#Other solution by checking whether the file exist or not\n",
    "import os\n",
    "try:\n",
    "    my_file = open(\"personnels.csv\",\"r\") \n",
    "    #If the file exists, then write content ot the file\n",
    "    if os.path.exists(\"personnels.csv\")==True:\n",
    "        my_file = open(\"personnels.csv\",\"a\")\n",
    "        my_file.write(\"Jane, 25, Senior manager\\n\")\n",
    "        my_file.write(\"John, 20, Developer\\n\")\n",
    "        my_file.write(\"Frank, 32, CFO\\n\")\n",
    "        my_file.close()\n",
    "except FileNotFoundError:    \n",
    "    my_file = open(\"personnels.csv\",\"w\")\n",
    "    my_file.write(\"Name, Age, Position\\n\")\n",
    "    my_file.close()"
   ]
  }
 ],
 "metadata": {
  "kernelspec": {
   "display_name": "Python 3",
   "language": "python",
   "name": "python3"
  },
  "language_info": {
   "codemirror_mode": {
    "name": "ipython",
    "version": 3
   },
   "file_extension": ".py",
   "mimetype": "text/x-python",
   "name": "python",
   "nbconvert_exporter": "python",
   "pygments_lexer": "ipython3",
   "version": "3.7.9"
  }
 },
 "nbformat": 4,
 "nbformat_minor": 5
}
