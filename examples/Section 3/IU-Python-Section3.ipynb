{
 "cells": [
  {
   "cell_type": "markdown",
   "id": "3bcb0772-0629-4771-bb5c-401a360462be",
   "metadata": {},
   "source": [
    "# Introduction to Programming with Python\n",
    "## Section 3: Statements"
   ]
  },
  {
   "cell_type": "markdown",
   "id": "0fb95791-c4bf-41dd-b794-5798145c0b9f",
   "metadata": {},
   "source": [
    "### 1. Assignment and Expressions"
   ]
  },
  {
   "cell_type": "markdown",
   "id": "12ed0f2e-140d-48ae-a193-9b755f331d8a",
   "metadata": {},
   "source": [
    "#### Keyword: Keywords are the reserved words in Python. We cannot use a keyword as a variable name, function name or any other identifier\n",
    "Here's a list of all keywords in Python Programming:\n",
    "False, None, True, and, as, assert, async, await, break, class, continue, def, del, elif, else, except, finally, for, from, global, if, import, in, is, lambda, nonlocal, not, or, pass, raise, return, try, while, with, yield\n",
    "#### Reserved word\n",
    "In a programming language, some words already have specific meanings and cannot be reused by programmers. These are known as reserved words."
   ]
  },
  {
   "cell_type": "code",
   "execution_count": 1,
   "id": "fa5e8e5f-a355-4eb0-b985-da00ff7ad180",
   "metadata": {},
   "outputs": [
    {
     "name": "stdout",
     "output_type": "stream",
     "text": [
      "['False', 'None', 'True', 'and', 'as', 'assert', 'async', 'await', 'break', 'class', 'continue', 'def', 'del', 'elif', 'else', 'except', 'finally', 'for', 'from', 'global', 'if', 'import', 'in', 'is', 'lambda', 'nonlocal', 'not', 'or', 'pass', 'raise', 'return', 'try', 'while', 'with', 'yield']\n"
     ]
    }
   ],
   "source": [
    "#Show the keyword\n",
    "import keyword\n",
    "print(keyword.kwlist)"
   ]
  },
  {
   "cell_type": "code",
   "execution_count": null,
   "id": "cc073f9f-3570-4a35-906f-67a33a70a89f",
   "metadata": {},
   "outputs": [],
   "source": [
    "a = 5"
   ]
  },
  {
   "cell_type": "code",
   "execution_count": null,
   "id": "d1d63180-9061-471f-8979-807b2308ee4a",
   "metadata": {},
   "outputs": [],
   "source": [
    "a+=5"
   ]
  },
  {
   "cell_type": "code",
   "execution_count": null,
   "id": "c3e6c57f-24c7-46fa-bd72-d7289081ec42",
   "metadata": {},
   "outputs": [],
   "source": [
    "print(a)"
   ]
  },
  {
   "cell_type": "code",
   "execution_count": null,
   "id": "1b343257-0dde-44fb-9648-15e3e0b32f09",
   "metadata": {},
   "outputs": [],
   "source": [
    "a*=5"
   ]
  },
  {
   "cell_type": "code",
   "execution_count": null,
   "id": "a5edab9a-8b27-4224-b5f7-f73a0ed78f42",
   "metadata": {},
   "outputs": [],
   "source": [
    "print(a)"
   ]
  },
  {
   "cell_type": "code",
   "execution_count": 2,
   "id": "accd92b5-7583-4a70-a2af-ba093f948a0f",
   "metadata": {},
   "outputs": [],
   "source": [
    "a=b=c=d=50"
   ]
  },
  {
   "cell_type": "code",
   "execution_count": 3,
   "id": "8682816a-a209-439f-98e3-9e31815be49a",
   "metadata": {},
   "outputs": [
    {
     "name": "stdout",
     "output_type": "stream",
     "text": [
      "50 50 50 50\n"
     ]
    }
   ],
   "source": [
    "print(a,b,c,d)"
   ]
  },
  {
   "cell_type": "code",
   "execution_count": 4,
   "id": "d77a4686-3fce-4409-a7c0-f34ef4485fea",
   "metadata": {},
   "outputs": [
    {
     "ename": "SyntaxError",
     "evalue": "can't assign to operator (<ipython-input-4-b0b52993d2e7>, line 1)",
     "output_type": "error",
     "traceback": [
      "\u001b[1;36m  File \u001b[1;32m\"<ipython-input-4-b0b52993d2e7>\"\u001b[1;36m, line \u001b[1;32m1\u001b[0m\n\u001b[1;33m    a=b=c=d+5=10\u001b[0m\n\u001b[1;37m         ^\u001b[0m\n\u001b[1;31mSyntaxError\u001b[0m\u001b[1;31m:\u001b[0m can't assign to operator\n"
     ]
    }
   ],
   "source": [
    "a=b=c=d+5=10"
   ]
  },
  {
   "cell_type": "code",
   "execution_count": 5,
   "id": "4d54d30c-1fcb-4240-9b3b-26515d6bc170",
   "metadata": {},
   "outputs": [
    {
     "name": "stdout",
     "output_type": "stream",
     "text": [
      "Type a value:\n"
     ]
    }
   ],
   "source": [
    "print(\"Type a value:\")"
   ]
  },
  {
   "cell_type": "code",
   "execution_count": 6,
   "id": "51efd30d-7509-4635-8258-5b4b32a2a777",
   "metadata": {},
   "outputs": [
    {
     "name": "stdout",
     "output_type": "stream",
     "text": [
      "hello world\n"
     ]
    }
   ],
   "source": [
    "my_variable = input()"
   ]
  },
  {
   "cell_type": "code",
   "execution_count": 7,
   "id": "9af209f8-e689-4d04-af70-2f28e42ec912",
   "metadata": {},
   "outputs": [
    {
     "name": "stdout",
     "output_type": "stream",
     "text": [
      "hello world\n"
     ]
    }
   ],
   "source": [
    "print(my_variable)"
   ]
  },
  {
   "cell_type": "code",
   "execution_count": 11,
   "id": "d66f442e-fabb-4d5e-af41-ba3b845aff08",
   "metadata": {},
   "outputs": [
    {
     "name": "stdout",
     "output_type": "stream",
     "text": [
      "4.5\n"
     ]
    }
   ],
   "source": [
    "my_variable = input()"
   ]
  },
  {
   "cell_type": "code",
   "execution_count": 12,
   "id": "ddc340a8-30c3-4790-9c5c-d8c94e82784f",
   "metadata": {},
   "outputs": [
    {
     "name": "stdout",
     "output_type": "stream",
     "text": [
      "4.5\n"
     ]
    }
   ],
   "source": [
    "print(my_variable)"
   ]
  },
  {
   "cell_type": "code",
   "execution_count": 13,
   "id": "85ca0284-f035-4357-94a7-c3f97286f535",
   "metadata": {},
   "outputs": [
    {
     "data": {
      "text/plain": [
       "str"
      ]
     },
     "execution_count": 13,
     "metadata": {},
     "output_type": "execute_result"
    }
   ],
   "source": [
    "type(my_variable)"
   ]
  },
  {
   "cell_type": "code",
   "execution_count": 15,
   "id": "17e02b0b-fc80-4e47-842a-224c2ae478af",
   "metadata": {},
   "outputs": [
    {
     "name": "stdout",
     "output_type": "stream",
     "text": [
      "5\n"
     ]
    }
   ],
   "source": [
    "my_variable = int(input())"
   ]
  },
  {
   "cell_type": "code",
   "execution_count": 16,
   "id": "f79dcfb8-adcb-4c9f-b249-6753f42d9dda",
   "metadata": {},
   "outputs": [
    {
     "data": {
      "text/plain": [
       "int"
      ]
     },
     "execution_count": 16,
     "metadata": {},
     "output_type": "execute_result"
    }
   ],
   "source": [
    "type(my_variable)"
   ]
  },
  {
   "cell_type": "code",
   "execution_count": 17,
   "id": "63e204cc",
   "metadata": {},
   "outputs": [],
   "source": [
    "a = 5\n",
    "b= 8"
   ]
  },
  {
   "cell_type": "code",
   "execution_count": 22,
   "id": "d4496ad7",
   "metadata": {},
   "outputs": [
    {
     "ename": "SyntaxError",
     "evalue": "invalid syntax (<ipython-input-22-c9a9a0fc7e29>, line 1)",
     "output_type": "error",
     "traceback": [
      "\u001b[1;36m  File \u001b[1;32m\"<ipython-input-22-c9a9a0fc7e29>\"\u001b[1;36m, line \u001b[1;32m1\u001b[0m\n\u001b[1;33m    if a<b\u001b[0m\n\u001b[1;37m             ^\u001b[0m\n\u001b[1;31mSyntaxError\u001b[0m\u001b[1;31m:\u001b[0m invalid syntax\n"
     ]
    }
   ],
   "source": [
    "if a<b:   \n",
    "    a*=2\n",
    "else:\n",
    "    b*=2\n"
   ]
  },
  {
   "cell_type": "markdown",
   "id": "a44b49dd-5e41-4950-ab29-441a3806fcff",
   "metadata": {},
   "source": [
    "## 2. Conditional Statements and Expressions"
   ]
  },
  {
   "cell_type": "markdown",
   "id": "10084344-377b-4fb9-928e-d7c4e14e8513",
   "metadata": {},
   "source": [
    "### 2.1 If statements"
   ]
  },
  {
   "cell_type": "code",
   "execution_count": null,
   "id": "d7d1074e-7b48-4d85-922c-f196d7753cbb",
   "metadata": {},
   "outputs": [],
   "source": [
    "print(\"Enter a player's name:\")\n",
    "player_name = input()\n",
    "print(\"Is this player a starter? Enter \\'Y\\' for yes and \\'N\\' for no.\")\n",
    "player_starter = input()\n",
    "print(\"The player is: \")\n",
    "print(player_name)\n",
    "if player_starter == \"Y\":\n",
    "    print(\"(Starter)\")"
   ]
  },
  {
   "cell_type": "code",
   "execution_count": null,
   "id": "c226db03-cb0f-43e4-8da0-3543bef0720d",
   "metadata": {},
   "outputs": [],
   "source": [
    "print(\"Enter a number:\")\n",
    "my_number = input()\n",
    "if int(my_number) <10:\n",
    "    print(my_number)\n",
    "print(\"We're done\")"
   ]
  },
  {
   "cell_type": "code",
   "execution_count": 23,
   "id": "067b0b34-08f1-421c-8883-a4d386ddb56e",
   "metadata": {},
   "outputs": [
    {
     "name": "stdout",
     "output_type": "stream",
     "text": [
      "Enter a number:\n",
      "8\n",
      "Your number is less than 10.\n",
      "8\n",
      "We're done\n"
     ]
    }
   ],
   "source": [
    "print(\"Enter a number:\")\n",
    "my_number = input()\n",
    "if int(my_number) <10:\n",
    "    print(\"Your number is less than 10.\")\n",
    "    print(my_number)\n",
    "if int(my_number) >=10:\n",
    "    print(\"Your number is not less than 10.\")\n",
    "    print(my_number)\n",
    "print(\"We're done\")"
   ]
  },
  {
   "cell_type": "code",
   "execution_count": null,
   "id": "35f54e0e-9532-4194-8e2b-1def05a2dbb2",
   "metadata": {},
   "outputs": [],
   "source": [
    "print(\"Enter a string:\")\n",
    "my_str = input()\n",
    "if len(my_str) <= 1:\n",
    "    print(\"That's a very short string.\")    \n",
    "elif len(my_str) < 5:\n",
    "    print(\"That's a fairly short string.\")\n",
    "elif len(my_str) < 25:\n",
    "    print(\"That's a good size string.\")\n",
    "elif len(my_str) < 50:\n",
    "    print(\"That's a fairly long string.\")\n",
    "elif len(my_str) < 100:\n",
    "    print(\"That's a long string.\")\n",
    "else:\n",
    "    print(\"That's a very long string.\")"
   ]
  },
  {
   "cell_type": "markdown",
   "id": "85a8198e-8b00-47bf-88c3-cf7f60837447",
   "metadata": {},
   "source": [
    "#### Example: Quadratic equation"
   ]
  },
  {
   "cell_type": "code",
   "execution_count": 25,
   "id": "fa590374-5cc6-41c7-840f-4cb86bfe041b",
   "metadata": {},
   "outputs": [
    {
     "name": "stdout",
     "output_type": "stream",
     "text": [
      "Enter coefficients:\n",
      "a: \n",
      "3\n",
      "b: \n",
      "4\n",
      "c: \n",
      "1\n",
      "Real and different roots: \n",
      "x1=  -0.3333333333333333\n",
      "x2=  -1.0\n"
     ]
    }
   ],
   "source": [
    "# Python program to find roots of quadratic equation a*x^2 + b*x + c = 0\n",
    "import math \n",
    "print(\"Enter coefficients:\")\n",
    "print(\"a: \")\n",
    "a = float(input()) \n",
    "\n",
    "print(\"b: \")\n",
    "b = float(input()) \n",
    "\n",
    "print(\"c: \")\n",
    "c = float(input()) \n",
    "\n",
    "# If a is 0, then incorrect equation\n",
    "if a == 0:\n",
    "        print(\"Input correct quadratic equation\")\n",
    "else:\n",
    "    # calculating delta\n",
    "    delta = b * b - 4 * a * c\n",
    "    sqrt_val = math.sqrt(abs(delta))\n",
    "     \n",
    "    if delta > 0:\n",
    "        print(\"Real and different roots: \")\n",
    "        print(\"x1= \",(-b + sqrt_val)/(2 * a))\n",
    "        print(\"x2= \",(-b - sqrt_val)/(2 * a))\n",
    "     \n",
    "    elif delta == 0:\n",
    "        print(\"Real and same roots: \")\n",
    "        print(\"x1 = x2 = \",-b / (2 * a))\n",
    "    else:\n",
    "        print(\"Complex Roots:\")\n",
    "        print(\"x1= \",- b / (2 * a), \"+\", sqrt_val, \"i\")\n",
    "        print(\"x1= \",- b / (2 * a), \"-\",sqrt_val, \"i\") \n"
   ]
  },
  {
   "cell_type": "markdown",
   "id": "dc2585ca-e764-429c-9776-12ecdb835752",
   "metadata": {},
   "source": [
    "## 3. Loops"
   ]
  },
  {
   "cell_type": "code",
   "execution_count": 29,
   "id": "fbc7760a",
   "metadata": {},
   "outputs": [
    {
     "name": "stdout",
     "output_type": "stream",
     "text": [
      "0\n",
      "2\n",
      "4\n",
      "6\n",
      "8\n"
     ]
    }
   ],
   "source": [
    "# Write 10 times the text \"Python is amazing\" to screen\n",
    "for i in range(0,10,2):\n",
    "    print(i)"
   ]
  },
  {
   "cell_type": "code",
   "execution_count": 30,
   "id": "88d01931-872b-4aa5-a730-1cfb05753036",
   "metadata": {},
   "outputs": [
    {
     "name": "stdout",
     "output_type": "stream",
     "text": [
      "0\n",
      "1\n",
      "2\n",
      "3\n",
      "4\n",
      "5\n",
      "6\n",
      "7\n",
      "8\n",
      "9\n"
     ]
    }
   ],
   "source": [
    "#For loop\n",
    "for x in range(10):\n",
    "    print(x)"
   ]
  },
  {
   "cell_type": "code",
   "execution_count": 31,
   "id": "db341985-8e9b-4b02-9690-a96ec288d499",
   "metadata": {},
   "outputs": [
    {
     "name": "stdout",
     "output_type": "stream",
     "text": [
      "5\n",
      "6\n",
      "7\n",
      "8\n",
      "9\n"
     ]
    }
   ],
   "source": [
    "for x in range(5,10):\n",
    "    print(x)"
   ]
  },
  {
   "cell_type": "code",
   "execution_count": 32,
   "id": "10cf5e2f-bbf2-4a74-9fb9-5ca4691fbc50",
   "metadata": {},
   "outputs": [
    {
     "name": "stdout",
     "output_type": "stream",
     "text": [
      "5\n",
      "7\n",
      "9\n"
     ]
    }
   ],
   "source": [
    "for x in range(5,10,2):\n",
    "    print(x)"
   ]
  },
  {
   "cell_type": "code",
   "execution_count": 33,
   "id": "b7c21903-fe5d-4169-b9a4-6f6d1018e569",
   "metadata": {},
   "outputs": [
    {
     "name": "stdout",
     "output_type": "stream",
     "text": [
      "Player1: Franz Beckenbauer\n",
      "Player2: Gerd Muller\n",
      "Player3: Lothar Matthaus\n",
      "Player4: Manuel Neuer\n"
     ]
    }
   ],
   "source": [
    "my_players = [\"Franz Beckenbauer\",\"Gerd Muller\",\"Lothar Matthaus\",\"Manuel Neuer\"]\n",
    "for x in range(4):\n",
    "    print(\"Player\" + str(x+1) + \": \" + my_players[x])"
   ]
  },
  {
   "cell_type": "markdown",
   "id": "16ac3a9a-2a73-43d2-a873-05ff85142a01",
   "metadata": {},
   "source": [
    "### Example: Factorial of a Number"
   ]
  },
  {
   "cell_type": "code",
   "execution_count": 37,
   "id": "b2918ab9-4c55-47da-bd95-dc3251235264",
   "metadata": {},
   "outputs": [
    {
     "name": "stdout",
     "output_type": "stream",
     "text": [
      "Enter an integerr number: 1000\n",
      "The factorial of 1000 is 402387260077093773543702433923003985719374864210714632543799910429938512398629020592044208486969404800479988610197196058631666872994808558901323829669944590997424504087073759918823627727188732519779505950995276120874975462497043601418278094646496291056393887437886487337119181045825783647849977012476632889835955735432513185323958463075557409114262417474349347553428646576611667797396668820291207379143853719588249808126867838374559731746136085379534524221586593201928090878297308431392844403281231558611036976801357304216168747609675871348312025478589320767169132448426236131412508780208000261683151027341827977704784635868170164365024153691398281264810213092761244896359928705114964975419909342221566832572080821333186116811553615836546984046708975602900950537616475847728421889679646244945160765353408198901385442487984959953319101723355556602139450399736280750137837615307127761926849034352625200015888535147331611702103968175921510907788019393178114194545257223865541461062892187960223838971476088506276862967146674697562911234082439208160153780889893964518263243671616762179168909779911903754031274622289988005195444414282012187361745992642956581746628302955570299024324153181617210465832036786906117260158783520751516284225540265170483304226143974286933061690897968482590125458327168226458066526769958652682272807075781391858178889652208164348344825993266043367660176999612831860788386150279465955131156552036093988180612138558600301435694527224206344631797460594682573103790084024432438465657245014402821885252470935190620929023136493273497565513958720559654228749774011413346962715422845862377387538230483865688976461927383814900140767310446640259899490222221765904339901886018566526485061799702356193897017860040811889729918311021171229845901641921068884387121855646124960798722908519296819372388642614839657382291123125024186649353143970137428531926649875337218940694281434118520158014123344828015051399694290153483077644569099073152433278288269864602789864321139083506217095002597389863554277196742822248757586765752344220207573630569498825087968928162753848863396909959826280956121450994871701244516461260379029309120889086942028510640182154399457156805941872748998094254742173582401063677404595741785160829230135358081840096996372524230560855903700624271243416909004153690105933983835777939410970027753472000000000000000000000000000000000000000000000000000000000000000000000000000000000000000000000000000000000000000000000000000000000000000000000000000000000000000000000000000000000000000000000000000000000000000000000000000000000000000000000000000000000\n"
     ]
    }
   ],
   "source": [
    "# n! = 1*2* ... (n-1) * n\n",
    "# 5! = 1*2*3*4*5 = 120\n",
    "n = int(input(\"Enter an integerr number: \"))    \n",
    "factorial = 1    \n",
    "if n < 0:    \n",
    "   print(\" Factorial does not exist for negative numbers\")    \n",
    "elif n == 0:    \n",
    "   print(\"The factorial of 0 is 1\")    \n",
    "else:    \n",
    "   for i in range(1,n + 1):    \n",
    "       factorial = factorial*i    \n",
    "   print(\"The factorial of\",n,\"is\",factorial)    "
   ]
  },
  {
   "cell_type": "code",
   "execution_count": 41,
   "id": "be3425c8",
   "metadata": {},
   "outputs": [],
   "source": [
    "x=8\n",
    "while x<7:\n",
    "    print(x)\n",
    "    "
   ]
  },
  {
   "cell_type": "code",
   "execution_count": null,
   "id": "a590749e-33f8-4a4d-99b0-800139c456ed",
   "metadata": {},
   "outputs": [],
   "source": [
    "# while loop\n",
    "my_players = [\"Franz Beckenbauer\",\"Gerd Muller\",\"Lothar Matthaus\",\"Manuel Neuer\"]\n",
    "x = 0\n",
    "while x<4:\n",
    "    print(\"Player \" + str(x+1) + \": \" + my_players[x])\n",
    "    x += 1\n",
    "print(\"End of roster\")"
   ]
  },
  {
   "cell_type": "code",
   "execution_count": null,
   "id": "f3e5a53c-a7bb-4fc7-a671-cebfee9232dc",
   "metadata": {},
   "outputs": [],
   "source": [
    "# break\n",
    "my_players = [\"Franz Beckenbauer\",\"Gerd Muller\",\"Lothar Matthaus\",\"Manuel Neuer\"]\n",
    "for x in range(4):\n",
    "    if x > 1:\n",
    "        break\n",
    "    print(\"Player \" + str(x+1) + \": \" + my_players[x])\n",
    "print(\"End of roster\")"
   ]
  },
  {
   "cell_type": "code",
   "execution_count": 42,
   "id": "29c4291c-463b-4f34-8044-ebb4a0225c5b",
   "metadata": {},
   "outputs": [
    {
     "name": "stdout",
     "output_type": "stream",
     "text": [
      "Player 1: Franz Beckenbauer\n",
      "Player 2: Gerd Muller\n",
      "Player 4: Manuel Neuer\n",
      "End of roster\n"
     ]
    }
   ],
   "source": [
    "# continue\n",
    "my_players = [\"Franz Beckenbauer\",\"Gerd Muller\",\"Lothar Matthaus\",\"Manuel Neuer\"]\n",
    "for x in range(4):\n",
    "    if x == 2:\n",
    "        continue\n",
    "    print(\"Player \" + str(x+1) + \": \" + my_players[x])\n",
    "print(\"End of roster\")"
   ]
  },
  {
   "cell_type": "code",
   "execution_count": 43,
   "id": "467d1f5b",
   "metadata": {},
   "outputs": [
    {
     "name": "stdout",
     "output_type": "stream",
     "text": [
      "0\n",
      "1\n",
      "2\n",
      "3\n",
      "5\n",
      "6\n"
     ]
    }
   ],
   "source": [
    "for x in range(10):\n",
    "    if x==4:\n",
    "        continue\n",
    "    elif x>6:\n",
    "        break\n",
    "    print(x)"
   ]
  },
  {
   "cell_type": "code",
   "execution_count": 46,
   "id": "a9a4246c",
   "metadata": {},
   "outputs": [
    {
     "name": "stdout",
     "output_type": "stream",
     "text": [
      "10\n",
      "11\n",
      "12\n",
      "13\n",
      "14\n"
     ]
    }
   ],
   "source": [
    "x=10\n",
    "while True:\n",
    "    print(x)\n",
    "    x+=1\n",
    "    if x==15:\n",
    "        break"
   ]
  },
  {
   "cell_type": "markdown",
   "id": "a4208fac-3a45-4799-8c70-646b086724fb",
   "metadata": {},
   "source": [
    "## 4. Iterators and Comprehensions"
   ]
  },
  {
   "cell_type": "markdown",
   "id": "68813738-9be2-4364-b5dd-ad7722f45ad7",
   "metadata": {},
   "source": [
    "#### Iterators"
   ]
  },
  {
   "cell_type": "code",
   "execution_count": 47,
   "id": "1b711bb3-8874-40fc-af00-ab3c35787fa2",
   "metadata": {},
   "outputs": [
    {
     "name": "stdout",
     "output_type": "stream",
     "text": [
      "4\n",
      "8\n",
      "15\n",
      "16\n",
      "23\n",
      "42\n"
     ]
    }
   ],
   "source": [
    "# Iterator: looping through a list with an iterator\n",
    "my_list = [4,8,15,16,23,42]\n",
    "my_iterator = iter(my_list)\n",
    "print(next(my_iterator))\n",
    "print(next(my_iterator))\n",
    "print(next(my_iterator))\n",
    "print(next(my_iterator))\n",
    "print(next(my_iterator))\n",
    "print(next(my_iterator))"
   ]
  },
  {
   "cell_type": "code",
   "execution_count": null,
   "id": "ea2548eb-d1d9-412e-84ea-c4e3a3ee02cf",
   "metadata": {},
   "outputs": [],
   "source": [
    "# Iterator with for loop\n",
    "my_list = [4,8,15,16,23,42]\n",
    "my_iterator = iter(my_list)\n",
    "for x in my_iterator:\n",
    "    print(x)"
   ]
  },
  {
   "cell_type": "code",
   "execution_count": null,
   "id": "c10b925b-b6fb-4ae3-953f-0673405b5121",
   "metadata": {},
   "outputs": [],
   "source": [
    "# for loop with list\n",
    "my_list = [4,8,15,16,23,42]\n",
    "for x in my_list:\n",
    "    print(x)"
   ]
  },
  {
   "cell_type": "markdown",
   "id": "64f33aa8-f322-4ffb-a2d9-366e5409a4a0",
   "metadata": {},
   "source": [
    "#### Comrehensions"
   ]
  },
  {
   "cell_type": "code",
   "execution_count": 48,
   "id": "0c1f6eef-2c9f-477d-996f-e92bb2a71b36",
   "metadata": {},
   "outputs": [
    {
     "name": "stdout",
     "output_type": "stream",
     "text": [
      "[16, 64, 225, 256, 529, 1764]\n"
     ]
    }
   ],
   "source": [
    "# Creat a list of square numbers (basic solution)\n",
    "my_numbers = [4,8,15,16,23,42]\n",
    "my_new_number = []\n",
    "for x in my_numbers:\n",
    "    my_new_number.append(x*x)\n",
    "print(my_new_number)"
   ]
  },
  {
   "cell_type": "code",
   "execution_count": 49,
   "id": "b91dcf9d-dc37-4468-82eb-591b68dbd104",
   "metadata": {},
   "outputs": [
    {
     "name": "stdout",
     "output_type": "stream",
     "text": [
      "[16, 64, 225, 256, 529, 1764]\n"
     ]
    }
   ],
   "source": [
    "# Creat a list of square numbers (using list comprehension)\n",
    "my_numbers = [4,8,15,16,23,42]\n",
    "my_new_number = [n*n for n in my_numbers]\n",
    "print(my_new_number)"
   ]
  },
  {
   "cell_type": "code",
   "execution_count": null,
   "id": "b6205c85-dccc-4439-b12b-243003c9a605",
   "metadata": {},
   "outputs": [],
   "source": [
    "# Creat a list of square numbers (using list comprehension, with condition)\n",
    "my_numbers = [4,8,15,16,23,42]\n",
    "my_new_number = [n*n for n in my_numbers if n < 20]\n",
    "print(my_new_number)"
   ]
  },
  {
   "cell_type": "markdown",
   "id": "cf096764-7852-40ff-a824-30d35119347f",
   "metadata": {},
   "source": [
    "## 5.Transfer task"
   ]
  },
  {
   "cell_type": "markdown",
   "id": "95186057-30ea-4c00-a656-252a7db8412a",
   "metadata": {},
   "source": [
    "Write a python code for a bingo game: Start off with setting a secret number between **1 and 20**. The player has **5 chances** to guess what that secret number is. So, at the prompt the player makes a guess. If the guess is lower (higher) than the secret number, the program returns a hint: **‘higher’ (‘lower’)** and lets the player make another guess. If the player makes a correct guess at the prompt, the program returns ‘bingo!’ and exits. If the player does not manage a correct guess within the allowed 5 chances, the program returns **‘Oops, game over!’** and tells the player the secret number."
   ]
  },
  {
   "cell_type": "code",
   "execution_count": 50,
   "id": "0b30d537-8839-4734-9061-740c81393f30",
   "metadata": {},
   "outputs": [
    {
     "name": "stdout",
     "output_type": "stream",
     "text": [
      "Please make a guess, round  1 :\n",
      "10\n",
      "Higher\n",
      "Please make a guess, round  2 :\n",
      "11\n",
      "Higher\n",
      "Please make a guess, round  3 :\n",
      "12\n",
      "Higher\n",
      "Please make a guess, round  4 :\n",
      "13\n",
      "Higher\n",
      "Please make a guess, round  5 :\n",
      "15\n",
      "Higher\n",
      "Oops, game over! The secret value is  7\n"
     ]
    }
   ],
   "source": [
    "# importing the random module\n",
    "import random\n",
    "\n",
    "secret_number = random.randint(1,20)\n",
    "\n",
    "i = 0\n",
    "while True:     \n",
    "    if i == 5:\n",
    "        print(\"Oops, game over! The secret value is \",secret_number)\n",
    "        break\n",
    "    print(\"Please make a guess, round \", i+1, \":\")\n",
    "    x = int(input())\n",
    "    if x==secret_number:\n",
    "        print(\"Bingo!\")\n",
    "        break\n",
    "    elif x < secret_number:\n",
    "        print(\"Lower\")\n",
    "    else:\n",
    "        print(\"Higher\")    \n",
    "    i+=1"
   ]
  },
  {
   "cell_type": "code",
   "execution_count": null,
   "id": "819591e8-fa0d-4f36-bd38-5cb74278f434",
   "metadata": {},
   "outputs": [],
   "source": [
    "# Learning question 3"
   ]
  },
  {
   "cell_type": "code",
   "execution_count": null,
   "id": "8254d646-1189-449d-8fd0-9402cf225885",
   "metadata": {},
   "outputs": [],
   "source": [
    "my_num = 0\n",
    "int(input())\n",
    "if my_num < 0\n",
    "    print('negative')\n",
    "elif my_num > 0\n",
    "    print('positive')\n",
    "else\n",
    "    print('zero')"
   ]
  }
 ],
 "metadata": {
  "kernelspec": {
   "display_name": "Python 3",
   "language": "python",
   "name": "python3"
  },
  "language_info": {
   "codemirror_mode": {
    "name": "ipython",
    "version": 3
   },
   "file_extension": ".py",
   "mimetype": "text/x-python",
   "name": "python",
   "nbconvert_exporter": "python",
   "pygments_lexer": "ipython3",
   "version": "3.7.9"
  }
 },
 "nbformat": 4,
 "nbformat_minor": 5
}
