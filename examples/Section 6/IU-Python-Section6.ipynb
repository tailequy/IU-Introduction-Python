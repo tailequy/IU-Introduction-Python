{
 "cells": [
  {
   "cell_type": "markdown",
   "id": "3bcb0772-0629-4771-bb5c-401a360462be",
   "metadata": {},
   "source": [
    "# Introduction to Programming with Python\n",
    "## Section 6: Modules and packages"
   ]
  },
  {
   "cell_type": "markdown",
   "id": "0fb95791-c4bf-41dd-b794-5798145c0b9f",
   "metadata": {},
   "source": [
    "### 1. Usage"
   ]
  },
  {
   "cell_type": "code",
   "execution_count": 6,
   "id": "1ced36e5",
   "metadata": {},
   "outputs": [],
   "source": [
    "from python import hello"
   ]
  },
  {
   "cell_type": "code",
   "execution_count": 7,
   "id": "df366993",
   "metadata": {},
   "outputs": [
    {
     "name": "stdout",
     "output_type": "stream",
     "text": [
      "Hello Python\n"
     ]
    }
   ],
   "source": [
    "hello(\"Hello Python\")"
   ]
  },
  {
   "cell_type": "code",
   "execution_count": 8,
   "id": "c3e6c57f-24c7-46fa-bd72-d7289081ec42",
   "metadata": {},
   "outputs": [],
   "source": [
    "from math import floor"
   ]
  },
  {
   "cell_type": "code",
   "execution_count": null,
   "id": "bdd2ac25",
   "metadata": {},
   "outputs": [],
   "source": [
    "floor(6.5)"
   ]
  },
  {
   "cell_type": "code",
   "execution_count": null,
   "id": "d385c0c9",
   "metadata": {},
   "outputs": [],
   "source": [
    "floor(7)"
   ]
  },
  {
   "cell_type": "code",
   "execution_count": 11,
   "id": "b9f7f856-c6f1-4429-b8da-d6fbb60f45f2",
   "metadata": {},
   "outputs": [
    {
     "name": "stdout",
     "output_type": "stream",
     "text": [
      "6\n",
      "None\n"
     ]
    }
   ],
   "source": [
    "# Redefineing floor function\n",
    "from math import floor # 1st \n",
    "print(floor(6.5))\n",
    "\n",
    "def floor(a): #2nd\n",
    "    if a==1:\n",
    "        return \"First floor\"\n",
    "    elif a==2:\n",
    "        return \"Second floor\"\n",
    "    elif a==3:\n",
    "        return \"Third floor\"\n",
    "print(floor(7))"
   ]
  },
  {
   "cell_type": "code",
   "execution_count": 10,
   "id": "dc5bc93d",
   "metadata": {},
   "outputs": [],
   "source": [
    "math.floor(7)"
   ]
  },
  {
   "cell_type": "markdown",
   "id": "2f8af2a6",
   "metadata": {},
   "source": [
    "### 2. Namespaces\n",
    "\n",
    "In Python, a **namespace** represents a way of outlining categories of names to reduce name reuse and overwriting. Python namespaces include the following:\n",
    "- built-in namespace: contains all built-in functions and exceptions.\n",
    "- global namespace: contains all the names of variables and functions you create in your program that exist outside of functions\n",
    "- local namespace: contains only names within a given function"
   ]
  },
  {
   "cell_type": "code",
   "execution_count": 15,
   "id": "d85f8d53",
   "metadata": {},
   "outputs": [
    {
     "name": "stdout",
     "output_type": "stream",
     "text": [
      "Hello, World!\n",
      "Hello again, World!\n",
      "Hello again, World!\n",
      "Hello again, World!\n",
      "Hello again, World!\n",
      "Hello again, World!\n"
     ]
    }
   ],
   "source": [
    "#Example of namespaces\n",
    "my_str = \"Hello, World!\"\n",
    "print(my_str)\n",
    "\n",
    "def print_it_x_times(str_f,x):\n",
    "    a=0\n",
    "    while a<x:\n",
    "        print(str_f)\n",
    "        a+=1\n",
    "print_times = 5\n",
    "print_it_x_times(\"Hello again, World!\",print_times)"
   ]
  },
  {
   "cell_type": "code",
   "execution_count": 16,
   "id": "aacbab78-6808-40ee-994e-84786ddb7e98",
   "metadata": {},
   "outputs": [
    {
     "data": {
      "text/plain": [
       "6"
      ]
     },
     "execution_count": 16,
     "metadata": {},
     "output_type": "execute_result"
    }
   ],
   "source": [
    "# Avoid duplicate names, eg. floor function\n",
    "#Syntax: <library name>.<function or variable>\n",
    "import math\n",
    "math.floor(6.5)"
   ]
  },
  {
   "cell_type": "markdown",
   "id": "b727a876-2d95-414c-bc78-22e86a50b07e",
   "metadata": {},
   "source": [
    "### 3. Documentation"
   ]
  },
  {
   "cell_type": "code",
   "execution_count": null,
   "id": "bad22716-17bc-402b-95eb-baccca884d0c",
   "metadata": {},
   "outputs": [],
   "source": [
    "# Commenting your code in Python, you can improve its readability"
   ]
  },
  {
   "cell_type": "code",
   "execution_count": 17,
   "id": "f0f3cf91-1c32-4870-aa8b-33ee99580423",
   "metadata": {},
   "outputs": [],
   "source": [
    "def do_math(a,b):\n",
    "    c=a*b\n",
    "    return c"
   ]
  },
  {
   "cell_type": "code",
   "execution_count": null,
   "id": "c55713ef-e5e7-45a5-8079-722146bc4248",
   "metadata": {},
   "outputs": [],
   "source": [
    "#Easy to read code\n",
    "def get_sales_tax(item_price, tax_rate):\n",
    "    #This function returns the tax for the purchase of an item\n",
    "    #item_price is the price of the item being purchase\n",
    "    #tax_rate should be a floating-point tax rate (e.g., 0.07)\n",
    "    tax = item_price * tax_rate\n",
    "    return tax"
   ]
  },
  {
   "cell_type": "code",
   "execution_count": 18,
   "id": "a22ec671-2209-4be2-845d-44bb56bcefa0",
   "metadata": {},
   "outputs": [],
   "source": [
    "#Docstring\n",
    "def add_too_numbers(a,b):\n",
    "    \"\"\" Adds two numbers together and returns the results.\"\"\"    \n",
    "    return a + b"
   ]
  },
  {
   "cell_type": "code",
   "execution_count": 15,
   "id": "387227c5-4806-465d-9f96-55d3d4995fdf",
   "metadata": {},
   "outputs": [],
   "source": [
    "#Docstring - using help\n",
    "def add_too_numbers(a,b):\n",
    "    \"\"\" Adds two numbers together and returns the results.\"\"\"    \n",
    "    return a + b"
   ]
  },
  {
   "cell_type": "code",
   "execution_count": 13,
   "id": "6cf011f3",
   "metadata": {},
   "outputs": [
    {
     "name": "stdout",
     "output_type": "stream",
     "text": [
      "Help on function add_too_numbers in module __main__:\n",
      "\n",
      "add_too_numbers(a, b)\n",
      "    Adds two numbers together and returns the results.\n",
      "\n"
     ]
    }
   ],
   "source": [
    "help(add_too_numbers)"
   ]
  },
  {
   "cell_type": "code",
   "execution_count": 22,
   "id": "28849164-b273-4e7f-9335-4518d9e15582",
   "metadata": {},
   "outputs": [],
   "source": [
    "#Multiline docstring\n",
    "def score_chance(player):\n",
    "    \"\"\"\n",
    "    Gets a players's chance of scoring on penalty kick.\n",
    "    \n",
    "    This function returns the penalty kick scoring chance for a player specified in the function argument.\n",
    "    \n",
    "    Arguments:\n",
    "    player(string) - the name of a player\n",
    "    \n",
    "    Returns:\n",
    "    float representing the scoring chance of that player\n",
    "    \"\"\"\n",
    "    if player == \"Joe\":\n",
    "        return .54\n",
    "    elif player == \"Bob\":\n",
    "        return .46\n",
    "    else: \n",
    "        return 0"
   ]
  },
  {
   "cell_type": "code",
   "execution_count": 23,
   "id": "8e583ba7-5125-4379-ae99-f8a7d9c86282",
   "metadata": {},
   "outputs": [
    {
     "name": "stdout",
     "output_type": "stream",
     "text": [
      "Help on function score_chance in module __main__:\n",
      "\n",
      "score_chance(player)\n",
      "    Gets a players's chance of scoring on penalty kick.\n",
      "    \n",
      "    This function returns the penalty kick scoring chance for a player specified in the function argument.\n",
      "    \n",
      "    Arguments:\n",
      "    player(string) - the name of a player\n",
      "    \n",
      "    Returns:\n",
      "    float representing the scoring chance of that player\n",
      "\n"
     ]
    }
   ],
   "source": [
    "help(score_chance)"
   ]
  },
  {
   "cell_type": "markdown",
   "id": "5bc8fb25-8141-42d1-b801-6a895993a10f",
   "metadata": {},
   "source": [
    "### 4. Popular Data Science Packages"
   ]
  },
  {
   "cell_type": "markdown",
   "id": "c4bf9cd0-1b52-4549-80af-f0493b4fdd71",
   "metadata": {},
   "source": [
    "#### 4.1 Numpy\n",
    "NumPy is one of the most important libraries for data science in Python. It provides a variety of data types and functions for use in computations with arrays\n",
    "\n",
    "https://numpy.org/doc/stable/\n"
   ]
  },
  {
   "cell_type": "code",
   "execution_count": 17,
   "id": "0a181bf3",
   "metadata": {},
   "outputs": [
    {
     "name": "stdout",
     "output_type": "stream",
     "text": [
      "Requirement already satisfied: Matplotlib in c:\\programdata\\anaconda3\\lib\\site-packages (3.3.4)"
     ]
    },
    {
     "name": "stderr",
     "output_type": "stream",
     "text": [
      "WARNING: Ignoring invalid distribution -umpy (c:\\programdata\\anaconda3\\lib\\site-packages)\n",
      "WARNING: Ignoring invalid distribution -mportlib-metadata (c:\\programdata\\anaconda3\\lib\\site-packages)\n",
      "WARNING: Ignoring invalid distribution -lick (c:\\programdata\\anaconda3\\lib\\site-packages)\n",
      "WARNING: Ignoring invalid distribution -cipy (c:\\programdata\\anaconda3\\lib\\site-packages)\n",
      "WARNING: Ignoring invalid distribution -andas (c:\\programdata\\anaconda3\\lib\\site-packages)\n",
      "WARNING: Ignoring invalid distribution -umpy (c:\\programdata\\anaconda3\\lib\\site-packages)\n",
      "WARNING: Ignoring invalid distribution -mportlib-metadata (c:\\programdata\\anaconda3\\lib\\site-packages)\n",
      "WARNING: Ignoring invalid distribution -lick (c:\\programdata\\anaconda3\\lib\\site-packages)\n",
      "WARNING: Ignoring invalid distribution -cipy (c:\\programdata\\anaconda3\\lib\\site-packages)\n",
      "WARNING: Ignoring invalid distribution -andas (c:\\programdata\\anaconda3\\lib\\site-packages)\n",
      "WARNING: Ignoring invalid distribution -umpy (c:\\programdata\\anaconda3\\lib\\site-packages)\n",
      "WARNING: Ignoring invalid distribution -mportlib-metadata (c:\\programdata\\anaconda3\\lib\\site-packages)\n",
      "WARNING: Ignoring invalid distribution -lick (c:\\programdata\\anaconda3\\lib\\site-packages)\n",
      "WARNING: Ignoring invalid distribution -cipy (c:\\programdata\\anaconda3\\lib\\site-packages)\n",
      "WARNING: Ignoring invalid distribution -andas (c:\\programdata\\anaconda3\\lib\\site-packages)\n",
      "WARNING: Ignoring invalid distribution -umpy (c:\\programdata\\anaconda3\\lib\\site-packages)\n",
      "WARNING: Ignoring invalid distribution -mportlib-metadata (c:\\programdata\\anaconda3\\lib\\site-packages)\n",
      "WARNING: Ignoring invalid distribution -lick (c:\\programdata\\anaconda3\\lib\\site-packages)\n",
      "WARNING: Ignoring invalid distribution -cipy (c:\\programdata\\anaconda3\\lib\\site-packages)\n",
      "WARNING: Ignoring invalid distribution -andas (c:\\programdata\\anaconda3\\lib\\site-packages)\n",
      "WARNING: Ignoring invalid distribution -umpy (c:\\programdata\\anaconda3\\lib\\site-packages)\n",
      "WARNING: Ignoring invalid distribution -mportlib-metadata (c:\\programdata\\anaconda3\\lib\\site-packages)\n",
      "WARNING: Ignoring invalid distribution -lick (c:\\programdata\\anaconda3\\lib\\site-packages)\n",
      "WARNING: Ignoring invalid distribution -cipy (c:\\programdata\\anaconda3\\lib\\site-packages)\n",
      "WARNING: Ignoring invalid distribution -andas (c:\\programdata\\anaconda3\\lib\\site-packages)\n",
      "WARNING: Ignoring invalid distribution -umpy (c:\\programdata\\anaconda3\\lib\\site-packages)\n",
      "WARNING: Ignoring invalid distribution -mportlib-metadata (c:\\programdata\\anaconda3\\lib\\site-packages)\n",
      "WARNING: Ignoring invalid distribution -lick (c:\\programdata\\anaconda3\\lib\\site-packages)\n",
      "WARNING: Ignoring invalid distribution -cipy (c:\\programdata\\anaconda3\\lib\\site-packages)\n",
      "WARNING: Ignoring invalid distribution -andas (c:\\programdata\\anaconda3\\lib\\site-packages)\n"
     ]
    },
    {
     "name": "stdout",
     "output_type": "stream",
     "text": [
      "\n",
      "Requirement already satisfied: kiwisolver>=1.0.1 in c:\\programdata\\anaconda3\\lib\\site-packages (from Matplotlib) (1.3.1)\n",
      "Requirement already satisfied: python-dateutil>=2.1 in c:\\programdata\\anaconda3\\lib\\site-packages (from Matplotlib) (2.8.2)\n",
      "Requirement already satisfied: cycler>=0.10 in c:\\programdata\\anaconda3\\lib\\site-packages (from Matplotlib) (0.10.0)\n",
      "Requirement already satisfied: pillow>=6.2.0 in c:\\programdata\\anaconda3\\lib\\site-packages (from Matplotlib) (9.5.0)\n",
      "Requirement already satisfied: numpy>=1.15 in c:\\programdata\\anaconda3\\lib\\site-packages (from Matplotlib) (1.21.6)\n",
      "Requirement already satisfied: pyparsing!=2.0.4,!=2.1.2,!=2.1.6,>=2.0.3 in c:\\programdata\\anaconda3\\lib\\site-packages (from Matplotlib) (2.4.7)\n",
      "Requirement already satisfied: six in c:\\programdata\\anaconda3\\lib\\site-packages (from cycler>=0.10->Matplotlib) (1.16.0)\n"
     ]
    }
   ],
   "source": [
    "!pip install Matplotlib"
   ]
  },
  {
   "cell_type": "code",
   "execution_count": 18,
   "id": "11c80633",
   "metadata": {},
   "outputs": [
    {
     "data": {
      "text/plain": [
       "str"
      ]
     },
     "execution_count": 18,
     "metadata": {},
     "output_type": "execute_result"
    }
   ],
   "source": [
    "mystr='hello'\n",
    "type(mystr)"
   ]
  },
  {
   "cell_type": "code",
   "execution_count": 25,
   "id": "591dbb3e-df7d-4c37-a3bf-22050eb02d45",
   "metadata": {},
   "outputs": [
    {
     "name": "stdout",
     "output_type": "stream",
     "text": [
      "<class 'numpy.ndarray'>\n",
      "First array=[ 0  5 10 15 20 25]\n",
      "Second array=[  0  25  50  75 100 125]\n",
      "First array sum=75\n",
      "Second array sum=375\n",
      "First array mean=12.5\n",
      "Second array mean=62.5\n",
      "First array standard deviation=8.539125638299666\n",
      "Second array standard deviation=42.69562819149833\n"
     ]
    }
   ],
   "source": [
    "import numpy \n",
    "# Create a simple NumPy array \n",
    "my_array = numpy.array([0, 5, 10, 15, 20, 25]) \n",
    "# Print the data type (ndarray) \n",
    "print(type(my_array)) \n",
    "# Multiply the array by 5 and assign it to a new array \n",
    "my_squares_array = my_array * 5 \n",
    "# Print the array values \n",
    "print(\"First array=\" + str(my_array)) \n",
    "print(\"Second array=\" + str(my_squares_array)) \n",
    "# Compute and print the sums \n",
    "print(\"First array sum=\" + str(my_array.sum())) \n",
    "print(\"Second array sum=\" + str(my_squares_array.sum())) \n",
    "# Compute and print the means \n",
    "print(\"First array mean=\" + str(my_array.mean())) \n",
    "print(\"Second array mean=\" + str(my_squares_array.mean())) \n",
    "# Compute and print the standard deviations \n",
    "print(\"First array standard deviation=\" + str(my_array.std())) \n",
    "print(\"Second array standard deviation=\" + str(my_squares_array.std())) "
   ]
  },
  {
   "cell_type": "markdown",
   "id": "0f0f9b00-f700-4b02-af7c-42c68e49fd12",
   "metadata": {},
   "source": [
    "#### 4.2 Matplotlib\n",
    "Matplotlib is a library that provides a wide range of flexible, customizable, and easy-to-use plotting functions for displaying data. Matplotlib includes functions for graphs, histograms, bar charts, scatterplots, and more. The library can plot a wide range of data types, including arrays from NumPy.\n",
    "\n",
    "https://matplotlib.org/stable/gallery/index\n"
   ]
  },
  {
   "cell_type": "code",
   "execution_count": 26,
   "id": "86b9eff6-0eb4-4178-9770-a848b9e10a0f",
   "metadata": {},
   "outputs": [
    {
     "data": {
      "image/png": "[encoded data removed]",
      "text/plain": [
       "<Figure size 432x288 with 1 Axes>"
      ]
     },
     "metadata": {
      "needs_background": "light"
     },
     "output_type": "display_data"
    }
   ],
   "source": [
    "# Matplotlib Simple Plot\n",
    "import numpy \n",
    "import matplotlib.pyplot as plt \n",
    "my_array = numpy.array([1, 10, 5, 4, 19, 0, 2, 8]) \n",
    "plt.plot(my_array) \n",
    "plt.show()"
   ]
  },
  {
   "cell_type": "code",
   "execution_count": 29,
   "id": "8f26aec8-e722-44c6-9eab-4a67b10154e4",
   "metadata": {},
   "outputs": [
    {
     "data": {
      "image/png": "[encoded data removed]",
      "text/plain": [
       "<Figure size 432x288 with 1 Axes>"
      ]
     },
     "metadata": {},
     "output_type": "display_data"
    }
   ],
   "source": [
    "# Matplotlib Simple Pie Chart\n",
    "import matplotlib.pyplot as plt \n",
    "categories = 'Cars', 'Trucks', 'SUVs', 'Motorcycles', 'Minivans'\n",
    "quantities = [250, 150, 175, 70, 90] \n",
    "fig, axl = plt.subplots() \n",
    "axl.pie(quantities, labels=categories, autopct='%1.1f%%', shadow=True, startangle=90) \n",
    "axl.axis('equal') \n",
    "plt.show() "
   ]
  },
  {
   "cell_type": "code",
   "execution_count": 31,
   "id": "91d448a4-9661-44a4-9881-eee30bb95c9b",
   "metadata": {},
   "outputs": [
    {
     "data": {
      "text/plain": [
       "<BarContainer object of 7 artists>"
      ]
     },
     "execution_count": 31,
     "metadata": {},
     "output_type": "execute_result"
    },
    {
     "data": {
      "image/png": "[encoded data removed]",
      "text/plain": [
       "<Figure size 432x288 with 1 Axes>"
      ]
     },
     "metadata": {
      "needs_background": "light"
     },
     "output_type": "display_data"
    }
   ],
   "source": [
    "#Matplotlib histpgram\n",
    "#A histogram is a graph used to represent the frequency distribution of a few data points of one variable\n",
    "import numpy\n",
    "import matplotlib.pyplot as plt\n",
    "# Create an array of temperatures\n",
    "temperatures = numpy.array([10, 19, 18, 16, 15, 10, 5])\n",
    "months = numpy.array([6, 7, 8, 9, 10, 11, 12])\n",
    "# Plot the temperature histogram\n",
    "fig, ax = plt.subplots()\n",
    "ax.set_xlabel('Month')\n",
    "ax.set_ylabel('Temperature in celcius')\n",
    "ax.set_title('Temperature Variation')\n",
    "ax.bar(months, temperatures)"
   ]
  },
  {
   "cell_type": "markdown",
   "id": "46bbb7a4-ad07-4ded-a7ba-361ff534db7e",
   "metadata": {},
   "source": [
    "#### 4.3 SciPy\n",
    "SciPy offers a range of functions used for scientific computations\n",
    "https://scipy.org/\n"
   ]
  },
  {
   "cell_type": "code",
   "execution_count": 34,
   "id": "663a7ac0-bdd8-4280-936a-48904e8925d5",
   "metadata": {},
   "outputs": [
    {
     "data": {
      "image/png": "[encoded data removed]",
      "text/plain": [
       "<Figure size 432x288 with 1 Axes>"
      ]
     },
     "metadata": {
      "needs_background": "light"
     },
     "output_type": "display_data"
    }
   ],
   "source": [
    "#SciPy Interpolation Plot\n",
    "import numpy as np\n",
    "import matplotlib.pyplot as plt \n",
    "from scipy import interpolate \n",
    "x = numpy.arange(0, 10) \n",
    "y=x*x*x \n",
    "f = interpolate.interp1d(x, y) \n",
    "intx = np.arange(0, 9, 0.1) \n",
    "inty = f(intx) \n",
    "plt.plot(x, y, \"o\", intx, inty, \"-\")\n",
    "plt.grid()\n",
    "plt.show() "
   ]
  },
  {
   "cell_type": "markdown",
   "id": "c24c66f6-938d-4f55-9285-f48b6ac314a0",
   "metadata": {},
   "source": [
    "SciPy allows you to quickly build random data sets from which you can run calculations and try out functionality of the library. The example below creates a sample of 500 data points in a normal distribution, graphed in a histogram with Matplotlib:"
   ]
  },
  {
   "cell_type": "code",
   "execution_count": 35,
   "id": "cb3e6b12-f3f1-4f77-a472-c91e54c4c2a8",
   "metadata": {},
   "outputs": [
    {
     "data": {
      "text/plain": [
       "[]"
      ]
     },
     "execution_count": 35,
     "metadata": {},
     "output_type": "execute_result"
    },
    {
     "data": {
      "image/png": "[encoded data removed]",
      "text/plain": [
       "<Figure size 432x288 with 1 Axes>"
      ]
     },
     "metadata": {
      "needs_background": "light"
     },
     "output_type": "display_data"
    }
   ],
   "source": [
    "import scipy.stats \n",
    "import numpy \n",
    "import matplotlib.pyplot as plt \n",
    "my_data = scipy.stats.norm.rvs(size=500) \n",
    "plt.hist(my_data, bins=50) \n",
    "plt.plot() "
   ]
  },
  {
   "cell_type": "code",
   "execution_count": 38,
   "id": "23f10370-a813-4241-9f79-6bcaab128f0f",
   "metadata": {},
   "outputs": [
    {
     "data": {
      "text/plain": [
       "<matplotlib.legend.Legend at 0x16b5c3cc0c8>"
      ]
     },
     "execution_count": 38,
     "metadata": {},
     "output_type": "execute_result"
    },
    {
     "data": {
      "image/png": "[encoded data removed]",
      "text/plain": [
       "<Figure size 432x288 with 1 Axes>"
      ]
     },
     "metadata": {
      "needs_background": "light"
     },
     "output_type": "display_data"
    }
   ],
   "source": [
    "#Using scipy to fit a curve\n",
    "import numpy\n",
    "from scipy.optimize import curve_fit\n",
    "import matplotlib.pyplot as plt\n",
    "# Create an array of temperatures\n",
    "temperatures = numpy.array([10, 19, 18, 16, 15, 10, 5])\n",
    "months = numpy.array([6, 7, 8, 9, 10, 11, 12])\n",
    "# Define the objective function\n",
    "def objective(x, a, b, c):\n",
    "    return a*numpy.sin(b*x) + c\n",
    "# Curve fit – fit the temperatures with the objective function\n",
    "popt, pcov = curve_fit(objective, months, temperatures)\n",
    "a, b, c = popt\n",
    "# Plot the histogram of temperatures\n",
    "fig, ax = plt.subplots()\n",
    "ax.set_xlabel('Month')\n",
    "ax.set_ylabel('Temperature in celcius')\n",
    "ax.set_title('Temperature Variation')\n",
    "ax.bar(months, temperatures, color='lightsteelblue', label='Actual')\n",
    "# Plot the curve-fitted result\n",
    "y_line = objective(months, a, b, c)\n",
    "ax.plot(months, y_line, '--', color='red', label='Curve-fitted')\n",
    "ax.legend()"
   ]
  },
  {
   "cell_type": "markdown",
   "id": "ea2b8628-78f8-4e9f-bb37-4f7690123081",
   "metadata": {},
   "source": [
    "#### 4.4 Pandas\n",
    "\n",
    "Pandas provides a variety of data structures for use in scientific applications. Pandas data structures are high-performance, extremely efficient, and fairly easy to use. The library also includes a range of functions for manipulating data in those data structures\n",
    "https://pandas.pydata.org/"
   ]
  },
  {
   "cell_type": "code",
   "execution_count": null,
   "id": "8731f7bc",
   "metadata": {},
   "outputs": [],
   "source": [
    "!pip install pandas"
   ]
  },
  {
   "cell_type": "code",
   "execution_count": 20,
   "id": "11e3867b",
   "metadata": {},
   "outputs": [],
   "source": [
    "import pandas as pd\n",
    "df = pd.read_csv(\"iris.data\")"
   ]
  },
  {
   "cell_type": "code",
   "execution_count": 21,
   "id": "caf746a0",
   "metadata": {},
   "outputs": [
    {
     "data": {
      "text/html": [
       "<div>\n",
       "<style scoped>\n",
       "    .dataframe tbody tr th:only-of-type {\n",
       "        vertical-align: middle;\n",
       "    }\n",
       "\n",
       "    .dataframe tbody tr th {\n",
       "        vertical-align: top;\n",
       "    }\n",
       "\n",
       "    .dataframe thead th {\n",
       "        text-align: right;\n",
       "    }\n",
       "</style>\n",
       "<table border=\"1\" class=\"dataframe\">\n",
       "  <thead>\n",
       "    <tr style=\"text-align: right;\">\n",
       "      <th></th>\n",
       "      <th>5.1</th>\n",
       "      <th>3.5</th>\n",
       "      <th>1.4</th>\n",
       "      <th>0.2</th>\n",
       "      <th>Iris-setosa</th>\n",
       "    </tr>\n",
       "  </thead>\n",
       "  <tbody>\n",
       "    <tr>\n",
       "      <th>0</th>\n",
       "      <td>4.9</td>\n",
       "      <td>3.0</td>\n",
       "      <td>1.4</td>\n",
       "      <td>0.2</td>\n",
       "      <td>Iris-setosa</td>\n",
       "    </tr>\n",
       "    <tr>\n",
       "      <th>1</th>\n",
       "      <td>4.7</td>\n",
       "      <td>3.2</td>\n",
       "      <td>1.3</td>\n",
       "      <td>0.2</td>\n",
       "      <td>Iris-setosa</td>\n",
       "    </tr>\n",
       "    <tr>\n",
       "      <th>2</th>\n",
       "      <td>4.6</td>\n",
       "      <td>3.1</td>\n",
       "      <td>1.5</td>\n",
       "      <td>0.2</td>\n",
       "      <td>Iris-setosa</td>\n",
       "    </tr>\n",
       "    <tr>\n",
       "      <th>3</th>\n",
       "      <td>5.0</td>\n",
       "      <td>3.6</td>\n",
       "      <td>1.4</td>\n",
       "      <td>0.2</td>\n",
       "      <td>Iris-setosa</td>\n",
       "    </tr>\n",
       "    <tr>\n",
       "      <th>4</th>\n",
       "      <td>5.4</td>\n",
       "      <td>3.9</td>\n",
       "      <td>1.7</td>\n",
       "      <td>0.4</td>\n",
       "      <td>Iris-setosa</td>\n",
       "    </tr>\n",
       "    <tr>\n",
       "      <th>...</th>\n",
       "      <td>...</td>\n",
       "      <td>...</td>\n",
       "      <td>...</td>\n",
       "      <td>...</td>\n",
       "      <td>...</td>\n",
       "    </tr>\n",
       "    <tr>\n",
       "      <th>144</th>\n",
       "      <td>6.7</td>\n",
       "      <td>3.0</td>\n",
       "      <td>5.2</td>\n",
       "      <td>2.3</td>\n",
       "      <td>Iris-virginica</td>\n",
       "    </tr>\n",
       "    <tr>\n",
       "      <th>145</th>\n",
       "      <td>6.3</td>\n",
       "      <td>2.5</td>\n",
       "      <td>5.0</td>\n",
       "      <td>1.9</td>\n",
       "      <td>Iris-virginica</td>\n",
       "    </tr>\n",
       "    <tr>\n",
       "      <th>146</th>\n",
       "      <td>6.5</td>\n",
       "      <td>3.0</td>\n",
       "      <td>5.2</td>\n",
       "      <td>2.0</td>\n",
       "      <td>Iris-virginica</td>\n",
       "    </tr>\n",
       "    <tr>\n",
       "      <th>147</th>\n",
       "      <td>6.2</td>\n",
       "      <td>3.4</td>\n",
       "      <td>5.4</td>\n",
       "      <td>2.3</td>\n",
       "      <td>Iris-virginica</td>\n",
       "    </tr>\n",
       "    <tr>\n",
       "      <th>148</th>\n",
       "      <td>5.9</td>\n",
       "      <td>3.0</td>\n",
       "      <td>5.1</td>\n",
       "      <td>1.8</td>\n",
       "      <td>Iris-virginica</td>\n",
       "    </tr>\n",
       "  </tbody>\n",
       "</table>\n",
       "<p>149 rows × 5 columns</p>\n",
       "</div>"
      ],
      "text/plain": [
       "     5.1  3.5  1.4  0.2     Iris-setosa\n",
       "0    4.9  3.0  1.4  0.2     Iris-setosa\n",
       "1    4.7  3.2  1.3  0.2     Iris-setosa\n",
       "2    4.6  3.1  1.5  0.2     Iris-setosa\n",
       "3    5.0  3.6  1.4  0.2     Iris-setosa\n",
       "4    5.4  3.9  1.7  0.4     Iris-setosa\n",
       "..   ...  ...  ...  ...             ...\n",
       "144  6.7  3.0  5.2  2.3  Iris-virginica\n",
       "145  6.3  2.5  5.0  1.9  Iris-virginica\n",
       "146  6.5  3.0  5.2  2.0  Iris-virginica\n",
       "147  6.2  3.4  5.4  2.3  Iris-virginica\n",
       "148  5.9  3.0  5.1  1.8  Iris-virginica\n",
       "\n",
       "[149 rows x 5 columns]"
      ]
     },
     "execution_count": 21,
     "metadata": {},
     "output_type": "execute_result"
    }
   ],
   "source": []
  },
  {
   "cell_type": "code",
   "execution_count": 41,
   "id": "d79d8543-fa46-4a3f-a147-3b3a172dbda9",
   "metadata": {},
   "outputs": [
    {
     "data": {
      "text/html": [
       "<div>\n",
       "<style scoped>\n",
       "    .dataframe tbody tr th:only-of-type {\n",
       "        vertical-align: middle;\n",
       "    }\n",
       "\n",
       "    .dataframe tbody tr th {\n",
       "        vertical-align: top;\n",
       "    }\n",
       "\n",
       "    .dataframe thead th {\n",
       "        text-align: right;\n",
       "    }\n",
       "</style>\n",
       "<table border=\"1\" class=\"dataframe\">\n",
       "  <thead>\n",
       "    <tr style=\"text-align: right;\">\n",
       "      <th></th>\n",
       "      <th>model</th>\n",
       "      <th>mpg</th>\n",
       "      <th>cyl</th>\n",
       "      <th>disp</th>\n",
       "      <th>hp</th>\n",
       "      <th>drat</th>\n",
       "      <th>wt</th>\n",
       "      <th>qsec</th>\n",
       "      <th>vs</th>\n",
       "      <th>am</th>\n",
       "      <th>gear</th>\n",
       "      <th>carb</th>\n",
       "    </tr>\n",
       "  </thead>\n",
       "  <tbody>\n",
       "    <tr>\n",
       "      <th>0</th>\n",
       "      <td>Mazda RX4</td>\n",
       "      <td>21.0</td>\n",
       "      <td>6</td>\n",
       "      <td>160.0</td>\n",
       "      <td>110</td>\n",
       "      <td>3.90</td>\n",
       "      <td>2.620</td>\n",
       "      <td>16.46</td>\n",
       "      <td>0</td>\n",
       "      <td>1</td>\n",
       "      <td>4</td>\n",
       "      <td>4</td>\n",
       "    </tr>\n",
       "    <tr>\n",
       "      <th>1</th>\n",
       "      <td>Mazda RX4 Wag</td>\n",
       "      <td>21.0</td>\n",
       "      <td>6</td>\n",
       "      <td>160.0</td>\n",
       "      <td>110</td>\n",
       "      <td>3.90</td>\n",
       "      <td>2.875</td>\n",
       "      <td>17.02</td>\n",
       "      <td>0</td>\n",
       "      <td>1</td>\n",
       "      <td>4</td>\n",
       "      <td>4</td>\n",
       "    </tr>\n",
       "    <tr>\n",
       "      <th>2</th>\n",
       "      <td>Datsun 710</td>\n",
       "      <td>22.8</td>\n",
       "      <td>4</td>\n",
       "      <td>108.0</td>\n",
       "      <td>93</td>\n",
       "      <td>3.85</td>\n",
       "      <td>2.320</td>\n",
       "      <td>18.61</td>\n",
       "      <td>1</td>\n",
       "      <td>1</td>\n",
       "      <td>4</td>\n",
       "      <td>1</td>\n",
       "    </tr>\n",
       "    <tr>\n",
       "      <th>3</th>\n",
       "      <td>Hornet 4 Drive</td>\n",
       "      <td>21.4</td>\n",
       "      <td>6</td>\n",
       "      <td>258.0</td>\n",
       "      <td>110</td>\n",
       "      <td>3.08</td>\n",
       "      <td>3.215</td>\n",
       "      <td>19.44</td>\n",
       "      <td>1</td>\n",
       "      <td>0</td>\n",
       "      <td>3</td>\n",
       "      <td>1</td>\n",
       "    </tr>\n",
       "    <tr>\n",
       "      <th>4</th>\n",
       "      <td>Hornet Sportabout</td>\n",
       "      <td>18.7</td>\n",
       "      <td>8</td>\n",
       "      <td>360.0</td>\n",
       "      <td>175</td>\n",
       "      <td>3.15</td>\n",
       "      <td>3.440</td>\n",
       "      <td>17.02</td>\n",
       "      <td>0</td>\n",
       "      <td>0</td>\n",
       "      <td>3</td>\n",
       "      <td>2</td>\n",
       "    </tr>\n",
       "  </tbody>\n",
       "</table>\n",
       "</div>"
      ],
      "text/plain": [
       "               model   mpg  cyl   disp   hp  drat     wt   qsec  vs  am  gear  \\\n",
       "0          Mazda RX4  21.0    6  160.0  110  3.90  2.620  16.46   0   1     4   \n",
       "1      Mazda RX4 Wag  21.0    6  160.0  110  3.90  2.875  17.02   0   1     4   \n",
       "2         Datsun 710  22.8    4  108.0   93  3.85  2.320  18.61   1   1     4   \n",
       "3     Hornet 4 Drive  21.4    6  258.0  110  3.08  3.215  19.44   1   0     3   \n",
       "4  Hornet Sportabout  18.7    8  360.0  175  3.15  3.440  17.02   0   0     3   \n",
       "\n",
       "   carb  \n",
       "0     4  \n",
       "1     4  \n",
       "2     1  \n",
       "3     1  \n",
       "4     2  "
      ]
     },
     "execution_count": 41,
     "metadata": {},
     "output_type": "execute_result"
    }
   ],
   "source": [
    "import pandas\n",
    "car_data = pandas.read_csv(\"mtcars.csv\")\n",
    "car_data.head()                          "
   ]
  },
  {
   "cell_type": "code",
   "execution_count": 43,
   "id": "f0584e27-410b-4fb0-8a39-e70e5db1754e",
   "metadata": {},
   "outputs": [
    {
     "data": {
      "text/html": [
       "<div>\n",
       "<style scoped>\n",
       "    .dataframe tbody tr th:only-of-type {\n",
       "        vertical-align: middle;\n",
       "    }\n",
       "\n",
       "    .dataframe tbody tr th {\n",
       "        vertical-align: top;\n",
       "    }\n",
       "\n",
       "    .dataframe thead th {\n",
       "        text-align: right;\n",
       "    }\n",
       "</style>\n",
       "<table border=\"1\" class=\"dataframe\">\n",
       "  <thead>\n",
       "    <tr style=\"text-align: right;\">\n",
       "      <th></th>\n",
       "      <th>model</th>\n",
       "      <th>mpg</th>\n",
       "      <th>cyl</th>\n",
       "      <th>disp</th>\n",
       "      <th>hp</th>\n",
       "      <th>drat</th>\n",
       "      <th>wt</th>\n",
       "      <th>qsec</th>\n",
       "      <th>vs</th>\n",
       "      <th>am</th>\n",
       "      <th>gear</th>\n",
       "      <th>carb</th>\n",
       "    </tr>\n",
       "  </thead>\n",
       "  <tbody>\n",
       "    <tr>\n",
       "      <th>17</th>\n",
       "      <td>Fiat 128</td>\n",
       "      <td>32.4</td>\n",
       "      <td>4</td>\n",
       "      <td>78.7</td>\n",
       "      <td>66</td>\n",
       "      <td>4.08</td>\n",
       "      <td>2.200</td>\n",
       "      <td>19.47</td>\n",
       "      <td>1</td>\n",
       "      <td>1</td>\n",
       "      <td>4</td>\n",
       "      <td>1</td>\n",
       "    </tr>\n",
       "    <tr>\n",
       "      <th>18</th>\n",
       "      <td>Honda Civic</td>\n",
       "      <td>30.4</td>\n",
       "      <td>4</td>\n",
       "      <td>75.7</td>\n",
       "      <td>52</td>\n",
       "      <td>4.93</td>\n",
       "      <td>1.615</td>\n",
       "      <td>18.52</td>\n",
       "      <td>1</td>\n",
       "      <td>1</td>\n",
       "      <td>4</td>\n",
       "      <td>2</td>\n",
       "    </tr>\n",
       "    <tr>\n",
       "      <th>19</th>\n",
       "      <td>Toyota Corolla</td>\n",
       "      <td>33.9</td>\n",
       "      <td>4</td>\n",
       "      <td>71.1</td>\n",
       "      <td>65</td>\n",
       "      <td>4.22</td>\n",
       "      <td>1.835</td>\n",
       "      <td>19.90</td>\n",
       "      <td>1</td>\n",
       "      <td>1</td>\n",
       "      <td>4</td>\n",
       "      <td>1</td>\n",
       "    </tr>\n",
       "    <tr>\n",
       "      <th>25</th>\n",
       "      <td>Fiat X1-9</td>\n",
       "      <td>27.3</td>\n",
       "      <td>4</td>\n",
       "      <td>79.0</td>\n",
       "      <td>66</td>\n",
       "      <td>4.08</td>\n",
       "      <td>1.935</td>\n",
       "      <td>18.90</td>\n",
       "      <td>1</td>\n",
       "      <td>1</td>\n",
       "      <td>4</td>\n",
       "      <td>1</td>\n",
       "    </tr>\n",
       "    <tr>\n",
       "      <th>26</th>\n",
       "      <td>Porsche 914-2</td>\n",
       "      <td>26.0</td>\n",
       "      <td>4</td>\n",
       "      <td>120.3</td>\n",
       "      <td>91</td>\n",
       "      <td>4.43</td>\n",
       "      <td>2.140</td>\n",
       "      <td>16.70</td>\n",
       "      <td>0</td>\n",
       "      <td>1</td>\n",
       "      <td>5</td>\n",
       "      <td>2</td>\n",
       "    </tr>\n",
       "    <tr>\n",
       "      <th>27</th>\n",
       "      <td>Lotus Europa</td>\n",
       "      <td>30.4</td>\n",
       "      <td>4</td>\n",
       "      <td>95.1</td>\n",
       "      <td>113</td>\n",
       "      <td>3.77</td>\n",
       "      <td>1.513</td>\n",
       "      <td>16.90</td>\n",
       "      <td>1</td>\n",
       "      <td>1</td>\n",
       "      <td>5</td>\n",
       "      <td>2</td>\n",
       "    </tr>\n",
       "  </tbody>\n",
       "</table>\n",
       "</div>"
      ],
      "text/plain": [
       "             model   mpg  cyl   disp   hp  drat     wt   qsec  vs  am  gear  \\\n",
       "17        Fiat 128  32.4    4   78.7   66  4.08  2.200  19.47   1   1     4   \n",
       "18     Honda Civic  30.4    4   75.7   52  4.93  1.615  18.52   1   1     4   \n",
       "19  Toyota Corolla  33.9    4   71.1   65  4.22  1.835  19.90   1   1     4   \n",
       "25       Fiat X1-9  27.3    4   79.0   66  4.08  1.935  18.90   1   1     4   \n",
       "26   Porsche 914-2  26.0    4  120.3   91  4.43  2.140  16.70   0   1     5   \n",
       "27    Lotus Europa  30.4    4   95.1  113  3.77  1.513  16.90   1   1     5   \n",
       "\n",
       "    carb  \n",
       "17     1  \n",
       "18     2  \n",
       "19     1  \n",
       "25     1  \n",
       "26     2  \n",
       "27     2  "
      ]
     },
     "execution_count": 43,
     "metadata": {},
     "output_type": "execute_result"
    }
   ],
   "source": [
    "efficient_cars = car_data[\"mpg\"]>25\n",
    "car_data[efficient_cars]"
   ]
  },
  {
   "cell_type": "code",
   "execution_count": 22,
   "id": "11d1ab4a-b3e6-41a0-8262-1b20d456b842",
   "metadata": {},
   "outputs": [
    {
     "data": {
      "text/html": [
       "<div>\n",
       "<style scoped>\n",
       "    .dataframe tbody tr th:only-of-type {\n",
       "        vertical-align: middle;\n",
       "    }\n",
       "\n",
       "    .dataframe tbody tr th {\n",
       "        vertical-align: top;\n",
       "    }\n",
       "\n",
       "    .dataframe thead th {\n",
       "        text-align: right;\n",
       "    }\n",
       "</style>\n",
       "<table border=\"1\" class=\"dataframe\">\n",
       "  <thead>\n",
       "    <tr style=\"text-align: right;\">\n",
       "      <th></th>\n",
       "      <th>Sepal_Length</th>\n",
       "      <th>Sepal_Width</th>\n",
       "      <th>Petal_Length</th>\n",
       "      <th>Petal_Width</th>\n",
       "      <th>Class</th>\n",
       "    </tr>\n",
       "  </thead>\n",
       "  <tbody>\n",
       "    <tr>\n",
       "      <th>0</th>\n",
       "      <td>5.1</td>\n",
       "      <td>3.5</td>\n",
       "      <td>1.4</td>\n",
       "      <td>0.2</td>\n",
       "      <td>Iris-setosa</td>\n",
       "    </tr>\n",
       "    <tr>\n",
       "      <th>1</th>\n",
       "      <td>4.9</td>\n",
       "      <td>3.0</td>\n",
       "      <td>1.4</td>\n",
       "      <td>0.2</td>\n",
       "      <td>Iris-setosa</td>\n",
       "    </tr>\n",
       "    <tr>\n",
       "      <th>2</th>\n",
       "      <td>4.7</td>\n",
       "      <td>3.2</td>\n",
       "      <td>1.3</td>\n",
       "      <td>0.2</td>\n",
       "      <td>Iris-setosa</td>\n",
       "    </tr>\n",
       "    <tr>\n",
       "      <th>3</th>\n",
       "      <td>4.6</td>\n",
       "      <td>3.1</td>\n",
       "      <td>1.5</td>\n",
       "      <td>0.2</td>\n",
       "      <td>Iris-setosa</td>\n",
       "    </tr>\n",
       "    <tr>\n",
       "      <th>4</th>\n",
       "      <td>5.0</td>\n",
       "      <td>3.6</td>\n",
       "      <td>1.4</td>\n",
       "      <td>0.2</td>\n",
       "      <td>Iris-setosa</td>\n",
       "    </tr>\n",
       "  </tbody>\n",
       "</table>\n",
       "</div>"
      ],
      "text/plain": [
       "   Sepal_Length  Sepal_Width  Petal_Length  Petal_Width        Class\n",
       "0           5.1          3.5           1.4          0.2  Iris-setosa\n",
       "1           4.9          3.0           1.4          0.2  Iris-setosa\n",
       "2           4.7          3.2           1.3          0.2  Iris-setosa\n",
       "3           4.6          3.1           1.5          0.2  Iris-setosa\n",
       "4           5.0          3.6           1.4          0.2  Iris-setosa"
      ]
     },
     "execution_count": 22,
     "metadata": {},
     "output_type": "execute_result"
    }
   ],
   "source": [
    "#Using pandas to read a csv file.\n",
    "import pandas\n",
    "# Read csv from URL\n",
    "csv_url = \"https://archive.ics.uci.edu/ml/machine-learning-databases/iris/iris.data\"\n",
    "# Set the column names\n",
    "col_names =['Sepal_Length','Sepal_Width','Petal_Length','Petal_Width','Class']\n",
    "iris_dataframe = pandas.read_csv(csv_url, names=col_names)\n",
    "iris_dataframe.head()"
   ]
  },
  {
   "cell_type": "markdown",
   "id": "4fe452d9-807a-4845-aa7a-4ecbcb352f3a",
   "metadata": {},
   "source": [
    "#### 4.5 Scikit-Learn\n",
    "Scikit-Learn provides functions to support machine learning in Python. It includes algorithms for classification, regression, and clustering\n",
    "https://scikit-learn.org/stable/"
   ]
  },
  {
   "cell_type": "code",
   "execution_count": 23,
   "id": "b4a00f19-e79b-463b-9730-c7a7fb5ff1fe",
   "metadata": {},
   "outputs": [
    {
     "name": "stdout",
     "output_type": "stream",
     "text": [
      "              precision    recall  f1-score   support\n",
      "\n",
      "           0      1.000     1.000     1.000        21\n",
      "           1      0.750     0.778     0.764        27\n",
      "           2      0.769     0.741     0.755        27\n",
      "\n",
      "    accuracy                          0.827        75\n",
      "   macro avg      0.840     0.840     0.839        75\n",
      "weighted avg      0.827     0.827     0.827        75\n",
      "\n"
     ]
    }
   ],
   "source": [
    "#Using scikit-learn to do classification\n",
    "import pandas\n",
    "from sklearn.model_selection import train_test_split\n",
    "from sklearn.linear_model import LogisticRegression\n",
    "from sklearn import metrics\n",
    "# Read csv from URL\n",
    "csv_url = \"https://archive.ics.uci.edu/ml/machine-learning-databases/iris/iris.data\"\n",
    "col_names =['Sepal_Length','Sepal_Width','Petal_Length','Petal_Width','Class']\n",
    "iris_dataframe = pandas.read_csv(csv_url, names=col_names)\n",
    "# X = Measurements, Y = Classification\n",
    "X = iris_dataframe.iloc[:,:-1]\n",
    "Y = iris_dataframe.iloc[:,-1]\n",
    "# Converting into numpy array with sepal length and sepal width\n",
    "X = X.to_numpy()[:,(0,1)]\n",
    "Y = Y.replace({'Iris-setosa':0, 'Iris-versicolor':1, 'Iris-virginica':2})\n",
    "# Splitting into train and test sets\n",
    "X_train, X_test, y_train, Y_test = train_test_split(X,Y,test_size=0.5, random_state=42)\n",
    "# Run logistic regression\n",
    "log_reg = LogisticRegression()\n",
    "log_reg.fit(X,Y)\n",
    "# Testing the logistic regression model\n",
    "training_prediction = log_reg.predict(X_train)\n",
    "test_prediction = log_reg.predict(X_test)\n",
    "print(metrics.classification_report(y_train, training_prediction, digits=3))"
   ]
  },
  {
   "cell_type": "markdown",
   "id": "7e3d8e4f-57c1-4b7c-841b-d5b04451660d",
   "metadata": {},
   "source": [
    "### Transfer task\n",
    "Use matplotlib to plot the iris dataset\n",
    "https://archive.ics.uci.edu/ml/machine-learning-databases/iris/iris.data\n",
    "Two scatter plots are required: one with sepal length vs sepal width and the other with petal length vs petal width. \n",
    "The plots should contain a title, axis labels and a legend (with blue for Setosa, green for Versicolor and red for Virginia)."
   ]
  },
  {
   "cell_type": "code",
   "execution_count": 2,
   "id": "5e4409f1-cbb7-4274-b566-dae59e558a1c",
   "metadata": {},
   "outputs": [
    {
     "data": {
      "image/png": "[encoded data removed]",
      "text/plain": [
       "<Figure size 576x432 with 1 Axes>"
      ]
     },
     "metadata": {
      "needs_background": "light"
     },
     "output_type": "display_data"
    }
   ],
   "source": [
    "import numpy as np\n",
    "import pandas\n",
    "import matplotlib.pyplot as plt\n",
    "\n",
    "# Read csv from URL\n",
    "csv_url = \"https://archive.ics.uci.edu/ml/machine-learning-databases/iris/iris.data\"\n",
    "col_names =['Sepal_Length','Sepal_Width','Petal_Length','Petal_Width','Class']\n",
    "X = pandas.read_csv(\"iris.data\", names=col_names)\n",
    "\n",
    "plt.figure(figsize=(8, 6))\n",
    "\n",
    "plt.scatter(X.iloc[:50, 0], X.iloc[:50, 1],\n",
    "            color='blue', marker='o', label='Iris-Setosa')\n",
    "plt.scatter(X.iloc[50:100, 0], X.iloc[50:100, 1],\n",
    "            color='green', marker='s', label='Iris-Versicolor')\n",
    "plt.scatter(X.iloc[100:150, 0], X.iloc[100:150, 1],\n",
    "            color='red', marker='v', label='Iris-Virginica')\n",
    "plt.xlabel('Sepal length [cm]', fontsize=15)\n",
    "plt.ylabel('Sepal width [cm]', fontsize=15)\n",
    "plt.legend(loc='upper left', fontsize=15)\n",
    "plt.title(\"Iris dataset\", fontsize=15)\n",
    "\n",
    "plt.tight_layout()\n",
    "plt.grid()\n",
    "plt.show()"
   ]
  },
  {
   "cell_type": "code",
   "execution_count": 3,
   "id": "68c90280-4cd8-4fb8-a5ec-10a828fb778c",
   "metadata": {},
   "outputs": [
    {
     "data": {
      "image/png": "[encoded data removed]",
      "text/plain": [
       "<Figure size 576x432 with 1 Axes>"
      ]
     },
     "metadata": {
      "needs_background": "light"
     },
     "output_type": "display_data"
    }
   ],
   "source": [
    "import numpy as np\n",
    "import pandas\n",
    "import matplotlib.pyplot as plt\n",
    "\n",
    "# Read csv from URL\n",
    "csv_url = \"https://archive.ics.uci.edu/ml/machine-learning-databases/iris/iris.data\"\n",
    "col_names =['Sepal_Length','Sepal_Width','Petal_Length','Petal_Width','Class']\n",
    "X = pandas.read_csv(csv_url, names=col_names)\n",
    "\n",
    "plt.figure(figsize=(8, 6))\n",
    "\n",
    "plt.scatter(X.iloc[:50, 2], X.iloc[:50, 3],\n",
    "            color='blue', marker='o', label='Iris-Setosa')\n",
    "plt.scatter(X.iloc[50:100, 2], X.iloc[50:100, 3],\n",
    "            color='green', marker='s', label='Iris-Versicolor')\n",
    "plt.scatter(X.iloc[100:150, 2], X.iloc[100:150, 3],\n",
    "            color='red', marker='v', label='Iris-Virginica')\n",
    "plt.xlabel('Petal length [cm]', fontsize=15)\n",
    "plt.ylabel('Petal width [cm]', fontsize=15)\n",
    "plt.legend(loc='upper left', fontsize=15)\n",
    "plt.title(\"Iris dataset\", fontsize=15)\n",
    "\n",
    "plt.tight_layout()\n",
    "plt.grid()\n",
    "plt.show()"
   ]
  }
 ],
 "metadata": {
  "kernelspec": {
   "display_name": "Python 3",
   "language": "python",
   "name": "python3"
  },
  "language_info": {
   "codemirror_mode": {
    "name": "ipython",
    "version": 3
   },
   "file_extension": ".py",
   "mimetype": "text/x-python",
   "name": "python",
   "nbconvert_exporter": "python",
   "pygments_lexer": "ipython3",
   "version": "3.7.9"
  }
 },
 "nbformat": 4,
 "nbformat_minor": 5
}
