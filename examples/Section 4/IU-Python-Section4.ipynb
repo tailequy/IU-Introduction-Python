{
 "cells": [
  {
   "cell_type": "markdown",
   "id": "3bcb0772-0629-4771-bb5c-401a360462be",
   "metadata": {},
   "source": [
    "# Introduction to Programming with Python\n",
    "## Section 4: Functions"
   ]
  },
  {
   "cell_type": "markdown",
   "id": "0fb95791-c4bf-41dd-b794-5798145c0b9f",
   "metadata": {},
   "source": [
    "### 1. Function Declaration"
   ]
  },
  {
   "cell_type": "code",
   "execution_count": 2,
   "id": "c3e6c57f-24c7-46fa-bd72-d7289081ec42",
   "metadata": {},
   "outputs": [
    {
     "name": "stdout",
     "output_type": "stream",
     "text": [
      "Your two numbers are 1 and 2.\n",
      "1 plus 2 equals 3.\n",
      "1 minus 2 equals -1.\n",
      "1 times 2 equals 2.\n",
      "1 divided by 2 equals 0.5.\n"
     ]
    }
   ],
   "source": [
    "int_1 = 1\n",
    "int_2 = 2\n",
    "print(\"Your two numbers are \" + str(int_1) + \" and \" + str(int_2)+\".\")\n",
    "int_3 = int_1 + int_2\n",
    "print(str(int_1)+ \" plus \" + str(int_2) + \" equals \" + str(int_3)+\".\")\n",
    "int_3 = int_1 - int_2\n",
    "print(str(int_1)+ \" minus \"+ str(int_2) + \" equals \" + str(int_3)+\".\")\n",
    "int_3 = int_1 * int_2\n",
    "print(str(int_1)+ \" times \"+ str(int_2) + \" equals \" + str(int_3)+\".\")\n",
    "int_3 = int_1 / int_2\n",
    "print(str(int_1)+ \" divided by \"+ str(int_2) + \" equals \" + str(int_3)+\".\")"
   ]
  },
  {
   "cell_type": "code",
   "execution_count": 3,
   "id": "3a4dbffd",
   "metadata": {},
   "outputs": [
    {
     "name": "stdout",
     "output_type": "stream",
     "text": [
      "Your two numbers are 1 and 2.\n",
      "1 plus 2 equals 3.\n",
      "1 minus 2 equals -1.\n",
      "1 times 2 equals 2.\n",
      "1 divided by 2 equals 0.5.\n",
      "Your two numbers are 5 and 10.\n",
      "5 plus 10 equals 15.\n",
      "5 minus 10 equals -5.\n",
      "5 times 10 equals 50.\n",
      "5 divided by 10 equals 0.5.\n"
     ]
    }
   ],
   "source": [
    "int_1 = 1\n",
    "int_2 = 2\n",
    "print(\"Your two numbers are \" + str(int_1) + \" and \" + str(int_2)+\".\")\n",
    "int_3 = int_1 + int_2\n",
    "print(str(int_1)+ \" plus \" + str(int_2) + \" equals \" + str(int_3)+\".\")\n",
    "int_3 = int_1 - int_2\n",
    "print(str(int_1)+ \" minus \"+ str(int_2) + \" equals \" + str(int_3)+\".\")\n",
    "int_3 = int_1 * int_2\n",
    "print(str(int_1)+ \" times \"+ str(int_2) + \" equals \" + str(int_3)+\".\")\n",
    "int_3 = int_1 / int_2\n",
    "print(str(int_1)+ \" divided by \"+ str(int_2) + \" equals \" + str(int_3)+\".\")\n",
    "\n",
    "int_1 = 5\n",
    "int_2 = 10\n",
    "print(\"Your two numbers are \" + str(int_1) + \" and \" + str(int_2)+\".\")\n",
    "int_3 = int_1 + int_2\n",
    "print(str(int_1)+ \" plus \" + str(int_2) + \" equals \" + str(int_3)+\".\")\n",
    "int_3 = int_1 - int_2\n",
    "print(str(int_1)+ \" minus \"+ str(int_2) + \" equals \" + str(int_3)+\".\")\n",
    "int_3 = int_1 * int_2\n",
    "print(str(int_1)+ \" times \"+ str(int_2) + \" equals \" + str(int_3)+\".\")\n",
    "int_3 = int_1 / int_2\n",
    "print(str(int_1)+ \" divided by \"+ str(int_2) + \" equals \" + str(int_3)+\".\")"
   ]
  },
  {
   "cell_type": "code",
   "execution_count": 5,
   "id": "1b343257-0dde-44fb-9648-15e3e0b32f09",
   "metadata": {},
   "outputs": [
    {
     "name": "stdout",
     "output_type": "stream",
     "text": [
      "my_name is equal to: Aaron\n"
     ]
    }
   ],
   "source": [
    "#Print function\n",
    "my_name = \"Aaron\"\n",
    "print(\"my_name is equal to: \" + my_name)\n",
    "your_name = \"Kaylee\""
   ]
  },
  {
   "cell_type": "code",
   "execution_count": 6,
   "id": "a5edab9a-8b27-4224-b5f7-f73a0ed78f42",
   "metadata": {},
   "outputs": [],
   "source": [
    "#One of the world's simplest functions\n",
    "def my_first_function():\n",
    "    print(\"I can't believe I'm a function!\")"
   ]
  },
  {
   "cell_type": "code",
   "execution_count": 7,
   "id": "accd92b5-7583-4a70-a2af-ba093f948a0f",
   "metadata": {},
   "outputs": [
    {
     "name": "stdout",
     "output_type": "stream",
     "text": [
      "I'm not in a function!\n",
      "I can't believe I'm a function!\n",
      "I'm not in a function anymore!\n"
     ]
    }
   ],
   "source": [
    "print(\"I'm not in a function!\")\n",
    "my_first_function()\n",
    "print(\"I'm not in a function anymore!\")"
   ]
  },
  {
   "cell_type": "code",
   "execution_count": null,
   "id": "6ed8653d",
   "metadata": {},
   "outputs": [],
   "source": [
    "def my_function():\n",
    "    a = 10\n",
    "    b = 10\n",
    "    \n",
    "def second_function():\n",
    "    "
   ]
  },
  {
   "cell_type": "markdown",
   "id": "1e489a28",
   "metadata": {},
   "source": [
    "### 2. Scope"
   ]
  },
  {
   "cell_type": "markdown",
   "id": "06ac21f0",
   "metadata": {},
   "source": [
    "Scope refers to the definition of variables or functions in Python. If, in a given line of code, the interpreter recognizes\n",
    "a particular variable or function, that variable or function is said to be in scope. If the interpreter does not recognize it, it is said to be out of scope"
   ]
  },
  {
   "cell_type": "markdown",
   "id": "6dbb1f30",
   "metadata": {},
   "source": [
    "#### Scope for variables"
   ]
  },
  {
   "cell_type": "code",
   "execution_count": 1,
   "id": "6e63f472",
   "metadata": {},
   "outputs": [],
   "source": [
    "#Example out of scope, NameError: name 'this_new_variable' is not defined\n",
    "this_new_variable = 4\n",
    "if this_new_variable == 5:\n",
    "    print(\"In scope\")"
   ]
  },
  {
   "cell_type": "code",
   "execution_count": 9,
   "id": "9db7172e",
   "metadata": {},
   "outputs": [
    {
     "ename": "NameError",
     "evalue": "name 'this_new_variable' is not defined",
     "output_type": "error",
     "traceback": [
      "\u001b[1;31m---------------------------------------------------------------------------\u001b[0m",
      "\u001b[1;31mNameError\u001b[0m                                 Traceback (most recent call last)",
      "\u001b[1;32m<ipython-input-9-aadc71900a55>\u001b[0m in \u001b[0;36m<module>\u001b[1;34m\u001b[0m\n\u001b[0;32m      1\u001b[0m \u001b[1;31m#Example out of scope, NameError: name 'this_new_variable' is not defined\u001b[0m\u001b[1;33m\u001b[0m\u001b[1;33m\u001b[0m\u001b[1;33m\u001b[0m\u001b[0m\n\u001b[1;32m----> 2\u001b[1;33m \u001b[1;32mif\u001b[0m \u001b[0mthis_new_variable\u001b[0m \u001b[1;33m==\u001b[0m \u001b[1;36m5\u001b[0m\u001b[1;33m:\u001b[0m\u001b[1;33m\u001b[0m\u001b[1;33m\u001b[0m\u001b[0m\n\u001b[0m\u001b[0;32m      3\u001b[0m     \u001b[0mprint\u001b[0m\u001b[1;33m(\u001b[0m\u001b[1;34m\"In scope\"\u001b[0m\u001b[1;33m)\u001b[0m\u001b[1;33m\u001b[0m\u001b[1;33m\u001b[0m\u001b[0m\n\u001b[0;32m      4\u001b[0m \u001b[0mthis_new_variable\u001b[0m \u001b[1;33m=\u001b[0m \u001b[1;36m0\u001b[0m\u001b[1;33m\u001b[0m\u001b[1;33m\u001b[0m\u001b[0m\n",
      "\u001b[1;31mNameError\u001b[0m: name 'this_new_variable' is not defined"
     ]
    }
   ],
   "source": [
    "#Example out of scope, NameError: name 'this_new_variable' is not defined\n",
    "#Variable this_new_variable is defined after using\n",
    "if this_new_variable == 5:\n",
    "    print(\"In scope\")\n",
    "this_new_variable = 0"
   ]
  },
  {
   "cell_type": "markdown",
   "id": "e07f70b5",
   "metadata": {},
   "source": [
    "#### Scope for functions"
   ]
  },
  {
   "cell_type": "code",
   "execution_count": 10,
   "id": "2d31e2b6",
   "metadata": {},
   "outputs": [
    {
     "name": "stdout",
     "output_type": "stream",
     "text": [
      "I'm not in a function!\n"
     ]
    },
    {
     "ename": "NameError",
     "evalue": "name 'my_function' is not defined",
     "output_type": "error",
     "traceback": [
      "\u001b[1;31m---------------------------------------------------------------------------\u001b[0m",
      "\u001b[1;31mNameError\u001b[0m                                 Traceback (most recent call last)",
      "\u001b[1;32m<ipython-input-10-62501ec2c567>\u001b[0m in \u001b[0;36m<module>\u001b[1;34m\u001b[0m\n\u001b[0;32m      1\u001b[0m \u001b[0mprint\u001b[0m\u001b[1;33m(\u001b[0m\u001b[1;34m\"I'm not in a function!\"\u001b[0m\u001b[1;33m)\u001b[0m\u001b[1;33m\u001b[0m\u001b[1;33m\u001b[0m\u001b[0m\n\u001b[1;32m----> 2\u001b[1;33m \u001b[0mmy_function\u001b[0m\u001b[1;33m(\u001b[0m\u001b[1;33m)\u001b[0m\u001b[1;33m\u001b[0m\u001b[1;33m\u001b[0m\u001b[0m\n\u001b[0m\u001b[0;32m      3\u001b[0m \u001b[0mprint\u001b[0m\u001b[1;33m(\u001b[0m\u001b[1;34m\"I'm not in a function anymore!\"\u001b[0m\u001b[1;33m)\u001b[0m\u001b[1;33m\u001b[0m\u001b[1;33m\u001b[0m\u001b[0m\n\u001b[0;32m      4\u001b[0m \u001b[1;33m\u001b[0m\u001b[0m\n\u001b[0;32m      5\u001b[0m \u001b[1;32mdef\u001b[0m \u001b[0mmy_function\u001b[0m\u001b[1;33m(\u001b[0m\u001b[1;33m)\u001b[0m\u001b[1;33m:\u001b[0m\u001b[1;33m\u001b[0m\u001b[1;33m\u001b[0m\u001b[0m\n",
      "\u001b[1;31mNameError\u001b[0m: name 'my_function' is not defined"
     ]
    }
   ],
   "source": [
    "# NameError: name 'my_function' is not defined\n",
    "print(\"I'm not in a function!\")\n",
    "my_function()\n",
    "print(\"I'm not in a function anymore!\")\n",
    "\n",
    "def my_function():\n",
    "    print(\"I can't believe I'm a function!\")"
   ]
  },
  {
   "cell_type": "code",
   "execution_count": 11,
   "id": "e90549c6",
   "metadata": {},
   "outputs": [
    {
     "name": "stdout",
     "output_type": "stream",
     "text": [
      "Starting program...\n",
      "Nice function!\n",
      "my_variable = I love functions!\n",
      "Ending program..\n"
     ]
    }
   ],
   "source": [
    "#A Very Simple Program\n",
    "def my_function():\n",
    "    print(\"Nice function!\")\n",
    "    my_variable = \"I love functions!\"\n",
    "    print(\"my_variable = \" + my_variable)\n",
    "print(\"Starting program...\")\n",
    "my_function()\n",
    "print(\"Ending program..\")"
   ]
  },
  {
   "cell_type": "code",
   "execution_count": 2,
   "id": "2a1a60d5",
   "metadata": {},
   "outputs": [
    {
     "name": "stdout",
     "output_type": "stream",
     "text": [
      "Starting program...\n",
      "Nice function!\n",
      "my_variable = I love functions!\n",
      "Ending program..\n"
     ]
    }
   ],
   "source": [
    "#Function variable scope, NameError: name 'my_variable' is not defined\n",
    "my_variable = \"Quit\"\n",
    "def my_function():\n",
    "    print(\"Nice function!\")\n",
    "    my_variable = \"I love functions!\"\n",
    "    print(\"my_variable = \" + my_variable)\n",
    "print(\"Starting program...\")\n",
    "my_function()\n",
    "if my_variable ==\"Quit\":\n",
    "    print(\"Ending program..\")"
   ]
  },
  {
   "cell_type": "code",
   "execution_count": 13,
   "id": "e1d8a2cc",
   "metadata": {},
   "outputs": [
    {
     "name": "stdout",
     "output_type": "stream",
     "text": [
      "my_variable = Outside of the function\n",
      "my_variable = Inside of the function\n",
      "my_variable = Outside of the function\n"
     ]
    }
   ],
   "source": [
    "#Fun with variable scope\n",
    "\n",
    "def my_function():\n",
    "    my_variable = \"Inside of the function\"\n",
    "    print(\"my_variable = \" + my_variable)\n",
    "\n",
    "my_variable = \"Outside of the function\"\n",
    "print(\"my_variable = \" + my_variable)\n",
    "my_function()\n",
    "print(\"my_variable = \" + my_variable)"
   ]
  },
  {
   "cell_type": "code",
   "execution_count": 3,
   "id": "901b1cd2",
   "metadata": {},
   "outputs": [
    {
     "name": "stdout",
     "output_type": "stream",
     "text": [
      "my_variable = Inside of the function\n",
      "my_variable = Inside of the function\n"
     ]
    }
   ],
   "source": [
    "#Fun with variable scope\n",
    "my_variable = \"Outside of the function\"\n",
    "def my_function():\n",
    "    global my_variable\n",
    "    my_variable = \"Inside of the function\"\n",
    "    print(\"my_variable = \" + my_variable)\n",
    "my_function()\n",
    "print(\"my_variable = \" + my_variable)"
   ]
  },
  {
   "cell_type": "code",
   "execution_count": 8,
   "id": "e39ef4d5",
   "metadata": {},
   "outputs": [
    {
     "name": "stdout",
     "output_type": "stream",
     "text": [
      "x =  10\n",
      "x = 5\n",
      "x = 5\n"
     ]
    }
   ],
   "source": [
    "x = 10\n",
    "def my_function():\n",
    "    global x #refer to global variable\n",
    "    x = 5\n",
    "    print(\"x = \" + str(x))\n",
    "print(\"x = \", x)\n",
    "my_function()\n",
    "print(\"x = \" + str(x))"
   ]
  },
  {
   "cell_type": "code",
   "execution_count": 10,
   "id": "4a22d225",
   "metadata": {},
   "outputs": [
    {
     "name": "stdout",
     "output_type": "stream",
     "text": [
      "In my_function, x = 10\n",
      "In my_nested_function, x = 100\n",
      "Outside of functions, x = 1\n"
     ]
    }
   ],
   "source": [
    "#Nested functions\n",
    "\n",
    "x = 1\n",
    "\n",
    "def my_function():\n",
    "    x = 10\n",
    "    print(\"In my_function, x = \"+ str(x))\n",
    "    \n",
    "    def my_nested_function():\n",
    "        x = 100\n",
    "        print(\"In my_nested_function, x = \"+ str(x))\n",
    "    \n",
    "    my_nested_function()\n",
    "    \n",
    "my_function()\n",
    "print(\"Outside of functions, x = \"+ str(x))"
   ]
  },
  {
   "cell_type": "code",
   "execution_count": 13,
   "id": "862af5e1",
   "metadata": {},
   "outputs": [
    {
     "name": "stdout",
     "output_type": "stream",
     "text": [
      "In my_function, x = 10\n",
      "In my_nested_function, x = 100\n",
      "Outside of functions, x = 10\n"
     ]
    }
   ],
   "source": [
    "#Nested functions\n",
    "#Access to the global varibale\n",
    "\n",
    "x = 1\n",
    "\n",
    "def my_function():\n",
    "    global x\n",
    "    x = 10\n",
    "    print(\"In my_function, x = \"+ str(x))\n",
    "    \n",
    "    def my_nested_function():        \n",
    "        x = 100\n",
    "        print(\"In my_nested_function, x = \"+ str(x))\n",
    "    \n",
    "    my_nested_function()\n",
    "    \n",
    "my_function()\n",
    "print(\"Outside of functions, x = \"+ str(x))"
   ]
  },
  {
   "cell_type": "code",
   "execution_count": 14,
   "id": "6f9365e2",
   "metadata": {},
   "outputs": [
    {
     "name": "stdout",
     "output_type": "stream",
     "text": [
      "In my_function, x = 10\n",
      "In my_nested_function, x = 100\n",
      "At the end of my_function, x = 100\n",
      "Outside of functions, x = 1\n"
     ]
    }
   ],
   "source": [
    "#Nested functions\n",
    "#Access to the varibale created in the parent function (applied in the nested functions)\n",
    "\n",
    "x = 1\n",
    "\n",
    "def my_function():    \n",
    "    x = 10\n",
    "    print(\"In my_function, x = \"+ str(x))\n",
    "    \n",
    "    def my_nested_function():        \n",
    "        nonlocal x\n",
    "        x = 100\n",
    "        print(\"In my_nested_function, x = \"+ str(x))\n",
    "    \n",
    "    my_nested_function()\n",
    "    print(\"At the end of my_function, x = \"+ str(x))\n",
    "    \n",
    "my_function()\n",
    "print(\"Outside of functions, x = \"+ str(x))"
   ]
  },
  {
   "cell_type": "markdown",
   "id": "6e4d8836",
   "metadata": {},
   "source": [
    "### 3. Arguments"
   ]
  },
  {
   "cell_type": "markdown",
   "id": "070fc470",
   "metadata": {},
   "source": [
    "Functions can receive data from the calling program through **parameters**. The values that are passed into the function via the parameters are called **arguments**."
   ]
  },
  {
   "cell_type": "code",
   "execution_count": 16,
   "id": "a365ba1d",
   "metadata": {},
   "outputs": [
    {
     "name": "stdout",
     "output_type": "stream",
     "text": [
      "The sum of 1, 2, and 3 is: 6\n",
      "The sum of 10, 20, and 30 is: 60\n",
      "The sum of -123, 9271, and 20 is: 9168\n"
     ]
    }
   ],
   "source": [
    "#A function with three arguments\n",
    "def add_three_numbers(a, b, c):\n",
    "    the_sum = a+b+c\n",
    "    print(\"The sum of \" + str(a) +\", \" + str(b)+\", and \"+str(c)+\" is: \"+ str(the_sum))\n",
    "add_three_numbers(1, 2, 3)\n",
    "add_three_numbers(10, 20, 30)\n",
    "add_three_numbers(-123, 9271,20)"
   ]
  },
  {
   "cell_type": "code",
   "execution_count": 24,
   "id": "b85acb34",
   "metadata": {},
   "outputs": [
    {
     "ename": "TypeError",
     "evalue": "add_three_numbers() missing 1 required positional argument: 'c'",
     "output_type": "error",
     "traceback": [
      "\u001b[1;31m---------------------------------------------------------------------------\u001b[0m",
      "\u001b[1;31mTypeError\u001b[0m                                 Traceback (most recent call last)",
      "\u001b[1;32m<ipython-input-24-43a5719f3b12>\u001b[0m in \u001b[0;36m<module>\u001b[1;34m\u001b[0m\n\u001b[0;32m      3\u001b[0m     \u001b[0mthe_sum\u001b[0m \u001b[1;33m=\u001b[0m \u001b[0ma\u001b[0m\u001b[1;33m+\u001b[0m\u001b[0mb\u001b[0m\u001b[1;33m+\u001b[0m\u001b[0mc\u001b[0m\u001b[1;33m\u001b[0m\u001b[1;33m\u001b[0m\u001b[0m\n\u001b[0;32m      4\u001b[0m     \u001b[0mprint\u001b[0m\u001b[1;33m(\u001b[0m\u001b[1;34m\"The sum of \"\u001b[0m \u001b[1;33m+\u001b[0m \u001b[0mstr\u001b[0m\u001b[1;33m(\u001b[0m\u001b[0ma\u001b[0m\u001b[1;33m)\u001b[0m \u001b[1;33m+\u001b[0m\u001b[1;34m\", \"\u001b[0m \u001b[1;33m+\u001b[0m \u001b[0mstr\u001b[0m\u001b[1;33m(\u001b[0m\u001b[0mb\u001b[0m\u001b[1;33m)\u001b[0m\u001b[1;33m+\u001b[0m\u001b[1;34m\", and \"\u001b[0m\u001b[1;33m+\u001b[0m\u001b[0mstr\u001b[0m\u001b[1;33m(\u001b[0m\u001b[0mc\u001b[0m\u001b[1;33m)\u001b[0m\u001b[1;33m+\u001b[0m\u001b[1;34m\" is: \"\u001b[0m\u001b[1;33m+\u001b[0m \u001b[0mstr\u001b[0m\u001b[1;33m(\u001b[0m\u001b[0mthe_sum\u001b[0m\u001b[1;33m)\u001b[0m\u001b[1;33m)\u001b[0m\u001b[1;33m\u001b[0m\u001b[1;33m\u001b[0m\u001b[0m\n\u001b[1;32m----> 5\u001b[1;33m \u001b[0madd_three_numbers\u001b[0m\u001b[1;33m(\u001b[0m\u001b[1;36m1\u001b[0m\u001b[1;33m,\u001b[0m \u001b[1;36m2\u001b[0m\u001b[1;33m)\u001b[0m\u001b[1;33m\u001b[0m\u001b[1;33m\u001b[0m\u001b[0m\n\u001b[0m\u001b[0;32m      6\u001b[0m \u001b[0madd_three_numbers\u001b[0m\u001b[1;33m(\u001b[0m\u001b[1;36m10\u001b[0m\u001b[1;33m,\u001b[0m \u001b[1;36m20\u001b[0m\u001b[1;33m,\u001b[0m \u001b[1;36m30\u001b[0m\u001b[1;33m)\u001b[0m\u001b[1;33m\u001b[0m\u001b[1;33m\u001b[0m\u001b[0m\n\u001b[0;32m      7\u001b[0m \u001b[0madd_three_numbers\u001b[0m\u001b[1;33m(\u001b[0m\u001b[1;33m-\u001b[0m\u001b[1;36m123\u001b[0m\u001b[1;33m,\u001b[0m \u001b[1;36m9271\u001b[0m\u001b[1;33m,\u001b[0m \u001b[1;33m-\u001b[0m\u001b[1;36m712\u001b[0m\u001b[1;33m)\u001b[0m\u001b[1;33m\u001b[0m\u001b[1;33m\u001b[0m\u001b[0m\n",
      "\u001b[1;31mTypeError\u001b[0m: add_three_numbers() missing 1 required positional argument: 'c'"
     ]
    }
   ],
   "source": [
    "# Missing argument error: TypeError: add_three_numbers() missing 1 required positional argument: 'c'\n",
    "\n",
    "def add_three_numbers(a, b, c):\n",
    "    the_sum = a+b+c\n",
    "    print(\"The sum of \" + str(a) +\", \" + str(b)+\", and \"+str(c)+\" is: \"+ str(the_sum))\n",
    "add_three_numbers(1, 2)\n",
    "add_three_numbers(10, 20, 30)\n",
    "add_three_numbers(-123, 9271, -712)"
   ]
  },
  {
   "cell_type": "code",
   "execution_count": 26,
   "id": "bce3c460",
   "metadata": {},
   "outputs": [
    {
     "ename": "TypeError",
     "evalue": "add_three_numbers() takes 3 positional arguments but 4 were given",
     "output_type": "error",
     "traceback": [
      "\u001b[1;31m---------------------------------------------------------------------------\u001b[0m",
      "\u001b[1;31mTypeError\u001b[0m                                 Traceback (most recent call last)",
      "\u001b[1;32m<ipython-input-26-3932aec4253f>\u001b[0m in \u001b[0;36m<module>\u001b[1;34m\u001b[0m\n\u001b[0;32m      4\u001b[0m     \u001b[0mthe_sum\u001b[0m \u001b[1;33m=\u001b[0m \u001b[0ma\u001b[0m\u001b[1;33m+\u001b[0m\u001b[0mb\u001b[0m\u001b[1;33m+\u001b[0m\u001b[0mc\u001b[0m\u001b[1;33m\u001b[0m\u001b[1;33m\u001b[0m\u001b[0m\n\u001b[0;32m      5\u001b[0m     \u001b[0mprint\u001b[0m\u001b[1;33m(\u001b[0m\u001b[1;34m\"The sum of \"\u001b[0m \u001b[1;33m+\u001b[0m \u001b[0mstr\u001b[0m\u001b[1;33m(\u001b[0m\u001b[0ma\u001b[0m\u001b[1;33m)\u001b[0m \u001b[1;33m+\u001b[0m\u001b[1;34m\", \"\u001b[0m \u001b[1;33m+\u001b[0m \u001b[0mstr\u001b[0m\u001b[1;33m(\u001b[0m\u001b[0mb\u001b[0m\u001b[1;33m)\u001b[0m\u001b[1;33m+\u001b[0m\u001b[1;34m\", and \"\u001b[0m\u001b[1;33m+\u001b[0m\u001b[0mstr\u001b[0m\u001b[1;33m(\u001b[0m\u001b[0mc\u001b[0m\u001b[1;33m)\u001b[0m\u001b[1;33m+\u001b[0m\u001b[1;34m\" is: \"\u001b[0m\u001b[1;33m+\u001b[0m \u001b[0mstr\u001b[0m\u001b[1;33m(\u001b[0m\u001b[0mthe_sum\u001b[0m\u001b[1;33m)\u001b[0m\u001b[1;33m)\u001b[0m\u001b[1;33m\u001b[0m\u001b[1;33m\u001b[0m\u001b[0m\n\u001b[1;32m----> 6\u001b[1;33m \u001b[0madd_three_numbers\u001b[0m\u001b[1;33m(\u001b[0m\u001b[1;36m1\u001b[0m\u001b[1;33m,\u001b[0m \u001b[1;36m2\u001b[0m\u001b[1;33m,\u001b[0m \u001b[1;36m4\u001b[0m\u001b[1;33m,\u001b[0m \u001b[1;36m5\u001b[0m\u001b[1;33m)\u001b[0m\u001b[1;33m\u001b[0m\u001b[1;33m\u001b[0m\u001b[0m\n\u001b[0m\u001b[0;32m      7\u001b[0m \u001b[0madd_three_numbers\u001b[0m\u001b[1;33m(\u001b[0m\u001b[1;36m10\u001b[0m\u001b[1;33m,\u001b[0m \u001b[1;36m20\u001b[0m\u001b[1;33m,\u001b[0m \u001b[1;36m30\u001b[0m\u001b[1;33m)\u001b[0m\u001b[1;33m\u001b[0m\u001b[1;33m\u001b[0m\u001b[0m\n\u001b[0;32m      8\u001b[0m \u001b[0madd_three_numbers\u001b[0m\u001b[1;33m(\u001b[0m\u001b[1;33m-\u001b[0m\u001b[1;36m123\u001b[0m\u001b[1;33m,\u001b[0m \u001b[1;36m9271\u001b[0m\u001b[1;33m,\u001b[0m \u001b[1;33m-\u001b[0m\u001b[1;36m712\u001b[0m\u001b[1;33m)\u001b[0m\u001b[1;33m\u001b[0m\u001b[1;33m\u001b[0m\u001b[0m\n",
      "\u001b[1;31mTypeError\u001b[0m: add_three_numbers() takes 3 positional arguments but 4 were given"
     ]
    }
   ],
   "source": [
    "#Too Many Arguments Error: TypeError: add_three_numbers() takes 3 positional arguments but 4 were given\n",
    "\n",
    "def add_three_numbers(a, b, c):\n",
    "    the_sum = a+b+c\n",
    "    print(\"The sum of \" + str(a) +\", \" + str(b)+\", and \"+str(c)+\" is: \"+ str(the_sum))\n",
    "add_three_numbers(1, 2, 4, 5)\n",
    "add_three_numbers(10, 20, 30)\n",
    "add_three_numbers(-123, 9271, -712)"
   ]
  },
  {
   "cell_type": "code",
   "execution_count": 28,
   "id": "793f4634",
   "metadata": {},
   "outputs": [
    {
     "name": "stdout",
     "output_type": "stream",
     "text": [
      "Alyssa\n",
      "Phone: 423-192-2311\n",
      "Adress: 152 Wander Lane\n",
      "Age: 23\n"
     ]
    }
   ],
   "source": [
    "# Parameters can be of any type, just like variables\n",
    "def person_info(name, phone, address, age):\n",
    "    print(name)\n",
    "    print(\"Phone: \"+phone)\n",
    "    print(\"Adress: \"+address)\n",
    "    print(\"Age: \"+ str(age))\n",
    "\n",
    "person_info(\"Alyssa\",\"423-192-2311\",\"152 Wander Lane\", 23)"
   ]
  },
  {
   "cell_type": "code",
   "execution_count": 18,
   "id": "304286c9",
   "metadata": {},
   "outputs": [
    {
     "name": "stdout",
     "output_type": "stream",
     "text": [
      "Name: Alyssa\n",
      "Phone: 423-192-2311\n",
      "Adress: 152 Wander Lane\n",
      "Age:  23\n",
      "Name: Hayden\n",
      "Phone: 312-910-2238\n",
      "Adress: 51 Cosmo Drive\n",
      "Age:  45\n",
      "Name: Rylan\n",
      "Phone: 763-821-0028\n",
      "Adress: 8162 Grizzly Way\n",
      "Age:  32\n"
     ]
    }
   ],
   "source": [
    "# Passing Arguments in Various Orders\n",
    "def person_info(name, phone, address, age):\n",
    "    print(\"Name:\", name)\n",
    "    print(\"Phone: \"+phone)\n",
    "    print(\"Adress: \"+address)\n",
    "    print(\"Age: \",age)\n",
    "\n",
    "person_info(\"Alyssa\",\"423-192-2311\",\"152 Wander Lane\", 23) #positional arguments\n",
    "person_info(name = \"Hayden\",phone = \"312-910-2238\",address = \"51 Cosmo Drive\", age = 45)\n",
    "person_info(age = 32, name = \"Rylan\",address = \"8162 Grizzly Way\",phone = \"763-821-0028\") #Various Orders\n"
   ]
  },
  {
   "cell_type": "code",
   "execution_count": 19,
   "id": "2cb2e7ef",
   "metadata": {},
   "outputs": [
    {
     "name": "stdout",
     "output_type": "stream",
     "text": [
      "Sum is: 7\n",
      "Product is: 6\n",
      "Sum is: 11\n",
      "Product is: 30\n",
      "Sum is: 19\n",
      "Product is: 150\n",
      "Sum is: 36\n",
      "Product is: 1000\n"
     ]
    }
   ],
   "source": [
    "# Default Arguments: \n",
    "#  - If that argument is not passed in during the function call, the argument will assume the default value\n",
    "#  - If the argument is passed in during the function call, the passed in value overrides the default value\n",
    "# All default arguments are specified on the right-hand side of the argument list\n",
    "def do_math(a, b=1, c=2, d=3):\n",
    "    result = a+b+c+d\n",
    "    print(\"Sum is: \"+str(result))\n",
    "    result = a*b*c*d\n",
    "    print(\"Product is: \"+ str(result))\n",
    "\n",
    "do_math(1)\n",
    "do_math(1, 5)\n",
    "do_math(1, 5, 10)\n",
    "do_math(1, 5, 10, 20)"
   ]
  },
  {
   "cell_type": "code",
   "execution_count": 32,
   "id": "4f86c582",
   "metadata": {},
   "outputs": [
    {
     "name": "stdout",
     "output_type": "stream",
     "text": [
      "11\n",
      "(11, -1)\n"
     ]
    }
   ],
   "source": [
    "# Return values\n",
    "# A return statement simply uses the keyword “return” followed by a value or set of values that you want to return to the program at the point you called the function\n",
    "# The return statement will exit your function, so make sure you do not have code that you want to run placed inside your function after your return statement\n",
    "def return_one_thing(a, b):\n",
    "    result = a + b\n",
    "    return result\n",
    "\n",
    "def return_two_things(a, b):\n",
    "    result1 = a + b\n",
    "    result2 = a - b\n",
    "    return result1,result2\n",
    "print(return_one_thing(5,6))\n",
    "print(return_two_things(5,6))"
   ]
  },
  {
   "cell_type": "code",
   "execution_count": 1,
   "id": "22b5ae62",
   "metadata": {},
   "outputs": [],
   "source": [
    "def return_one_thing(a, b):\n",
    "    result = a + b\n",
    "    #return result\n",
    "\n",
    "c = return_one_thing(5,6)"
   ]
  },
  {
   "cell_type": "code",
   "execution_count": 8,
   "id": "aae471b3",
   "metadata": {},
   "outputs": [],
   "source": [
    "def return_two_things(a, b):\n",
    "    result1 = a + b\n",
    "    result2 = a - b\n",
    "    return result1,result2\n",
    "d,e = return_two_things(5,6)"
   ]
  },
  {
   "cell_type": "code",
   "execution_count": 9,
   "id": "5012b185",
   "metadata": {},
   "outputs": [
    {
     "name": "stdout",
     "output_type": "stream",
     "text": [
      "11\n",
      "-1\n"
     ]
    }
   ],
   "source": [
    "print(d)\n",
    "print(e)"
   ]
  },
  {
   "cell_type": "markdown",
   "id": "c3002eb4",
   "metadata": {},
   "source": [
    "### 4. Transfer task"
   ]
  },
  {
   "cell_type": "code",
   "execution_count": 34,
   "id": "2e541436",
   "metadata": {},
   "outputs": [
    {
     "name": "stdout",
     "output_type": "stream",
     "text": [
      "name: Jane  age: 25  position: Senior manager\n",
      "name: Frank  age: 32  position: CFO\n",
      "name: Maria  age: 20  position: Director\n",
      "name: John  age: 20  position: Developer\n"
     ]
    }
   ],
   "source": [
    "def personal_info(name='John', age=20, position='Developer'):\n",
    "    print('name:',name,' age:',age,' position:',position)\n",
    "personal_info(age=25,position='Senior manager',name='Jane')\n",
    "personal_info('Frank',32,'CFO')\n",
    "personal_info(position='Director',name='Maria')\n",
    "personal_info()"
   ]
  },
  {
   "cell_type": "code",
   "execution_count": 35,
   "id": "276e572f",
   "metadata": {},
   "outputs": [
    {
     "name": "stdout",
     "output_type": "stream",
     "text": [
      "Level 1 (before)= 28\n",
      "Level 2= 47\n",
      "Level 1 (after)= 28\n",
      "Level 0= 47\n"
     ]
    }
   ],
   "source": [
    "secret = 15\n",
    "def funct():\n",
    "    secret = 28\n",
    "    print('Level 1 (before)=',secret)\n",
    "    def nested_funct():\n",
    "        global secret\n",
    "        secret = 47\n",
    "        print('Level 2=', secret)\n",
    "    nested_funct()\n",
    "    print('Level 1 (after)=', secret)\n",
    "funct()\n",
    "print('Level 0=',secret)"
   ]
  },
  {
   "cell_type": "code",
   "execution_count": 10,
   "id": "80c84821",
   "metadata": {},
   "outputs": [
    {
     "name": "stdout",
     "output_type": "stream",
     "text": [
      "4\n",
      "5\n"
     ]
    },
    {
     "ename": "TypeError",
     "evalue": "'<' not supported between instances of 'NoneType' and 'int'",
     "output_type": "error",
     "traceback": [
      "\u001b[1;31m---------------------------------------------------------------------------\u001b[0m",
      "\u001b[1;31mTypeError\u001b[0m                                 Traceback (most recent call last)",
      "\u001b[1;32m<ipython-input-10-d0e02930e132>\u001b[0m in \u001b[0;36m<module>\u001b[1;34m\u001b[0m\n\u001b[0;32m      1\u001b[0m \u001b[0ma\u001b[0m\u001b[1;33m=\u001b[0m\u001b[0mint\u001b[0m\u001b[1;33m(\u001b[0m\u001b[0minput\u001b[0m\u001b[1;33m(\u001b[0m\u001b[1;33m)\u001b[0m\u001b[1;33m)\u001b[0m\u001b[1;33m\u001b[0m\u001b[1;33m\u001b[0m\u001b[0m\n\u001b[0;32m      2\u001b[0m \u001b[0mb\u001b[0m\u001b[1;33m=\u001b[0m\u001b[0mint\u001b[0m\u001b[1;33m(\u001b[0m\u001b[0minput\u001b[0m\u001b[1;33m(\u001b[0m\u001b[1;33m)\u001b[0m\u001b[1;33m)\u001b[0m\u001b[1;33m\u001b[0m\u001b[1;33m\u001b[0m\u001b[0m\n\u001b[1;32m----> 3\u001b[1;33m \u001b[1;32mif\u001b[0m \u001b[0mc\u001b[0m \u001b[1;33m<\u001b[0m \u001b[0ma\u001b[0m \u001b[1;33m+\u001b[0m \u001b[0mb\u001b[0m\u001b[1;33m:\u001b[0m\u001b[1;33m\u001b[0m\u001b[1;33m\u001b[0m\u001b[0m\n\u001b[0m\u001b[0;32m      4\u001b[0m     \u001b[0mprint\u001b[0m\u001b[1;33m(\u001b[0m\u001b[1;34m'Less than a + b'\u001b[0m\u001b[1;33m)\u001b[0m\u001b[1;33m\u001b[0m\u001b[1;33m\u001b[0m\u001b[0m\n\u001b[0;32m      5\u001b[0m     \u001b[0ma\u001b[0m \u001b[1;33m=\u001b[0m \u001b[0mb\u001b[0m \u001b[1;33m=\u001b[0m \u001b[0mc\u001b[0m \u001b[1;33m=\u001b[0m \u001b[1;36m1\u001b[0m\u001b[1;33m\u001b[0m\u001b[1;33m\u001b[0m\u001b[0m\n",
      "\u001b[1;31mTypeError\u001b[0m: '<' not supported between instances of 'NoneType' and 'int'"
     ]
    }
   ],
   "source": [
    "a=int(input())\n",
    "b=int(input())\n",
    "if c < a + b:\n",
    "    print('Less than a + b')\n",
    "    a = b = c = 1\n",
    "print(a,b,c)"
   ]
  },
  {
   "cell_type": "code",
   "execution_count": null,
   "id": "8bbfca41",
   "metadata": {},
   "outputs": [],
   "source": []
  }
 ],
 "metadata": {
  "kernelspec": {
   "display_name": "Python 3",
   "language": "python",
   "name": "python3"
  },
  "language_info": {
   "codemirror_mode": {
    "name": "ipython",
    "version": 3
   },
   "file_extension": ".py",
   "mimetype": "text/x-python",
   "name": "python",
   "nbconvert_exporter": "python",
   "pygments_lexer": "ipython3",
   "version": "3.7.9"
  }
 },
 "nbformat": 4,
 "nbformat_minor": 5
}
