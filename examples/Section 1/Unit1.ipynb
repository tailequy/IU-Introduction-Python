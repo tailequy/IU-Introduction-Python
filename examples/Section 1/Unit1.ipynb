{
 "cells": [
  {
   "cell_type": "markdown",
   "id": "84718d35-f26e-472a-ab04-633fc56cac09",
   "metadata": {},
   "source": [
    "# Introduction to Programming Python\n",
    "## 1. Cheat sheet for JupyterLab"
   ]
  },
  {
   "cell_type": "markdown",
   "id": "23b0d50f-c022-4bcc-91ed-40c8f72f6df5",
   "metadata": {},
   "source": [
    "### Text Style"
   ]
  },
  {
   "cell_type": "raw",
   "id": "634cb56f-51e5-4b78-a187-2fe9ecafb863",
   "metadata": {},
   "source": [
    "# Title\n",
    "## Heading \n",
    "### Subheading \n",
    "**Bold text**\n",
    "\n",
    "*Italic text*\n",
    "\n",
    "'Monospace text'"
   ]
  },
  {
   "cell_type": "markdown",
   "id": "be94bb1b-5a78-4743-b815-40e524e2b284",
   "metadata": {},
   "source": [
    "# Title\n",
    "## Heading \n",
    "### Subheading \n",
    "**Bold text**\n",
    "\n",
    "*Italic text*\n",
    "\n",
    "'Monospace text'"
   ]
  },
  {
   "cell_type": "markdown",
   "id": "58a61dd5-ba72-4054-b6de-ac133e9c312d",
   "metadata": {},
   "source": [
    "### Section Style"
   ]
  },
  {
   "cell_type": "raw",
   "id": "2d9666a0-fe23-483a-8570-c83ac74a4fb7",
   "metadata": {},
   "source": [
    ">Indentation (>Indentation)\n",
    "- Bullet points (bullet 1, bullet 2) (- Bullet)\n",
    "\n",
    "1. Numbered items (item 1, item 2) (1. Item)\n",
    "\n",
    "<div class=\"alert alert-info\"> Blue coloured box for tips and notes </div>\n",
    "\n",
    "<div class=\"alert alert-warning\">Orange (or Green) coloured box for examples</div>\n",
    "\n",
    "<div class=\"alert alert-danger\">Red coloured box for warnings </div>"
   ]
  },
  {
   "cell_type": "markdown",
   "id": "54c5621f-9237-42d7-8077-766613534dd4",
   "metadata": {},
   "source": [
    ">Indentation (>Indentation)\n",
    "- Bullet points (bullet 1, bullet 2) (- Bullet)\n",
    "\n",
    "1. Numbered items (item 1, item 2) (1. Item)\n",
    "\n",
    "<div class=\"alert alert-info\"> Blue coloured box for tips and notes </div>\n",
    "\n",
    "<div class=\"alert alert-warning\">Orange (or Green) coloured box for examples</div>\n",
    "\n",
    "<div class=\"alert alert-danger\">Red coloured box for warnings </div>"
   ]
  },
  {
   "cell_type": "markdown",
   "id": "132641bd-ee63-42fd-9540-ab3f2fc00e9a",
   "metadata": {},
   "source": [
    "## 2. Example "
   ]
  },
  {
   "cell_type": "code",
   "execution_count": 4,
   "id": "6755d723-166f-4b32-bbee-f8be3b73394b",
   "metadata": {},
   "outputs": [],
   "source": [
    "# Python 3: Fibonacci series up to n\n",
    "def fib(n):\n",
    "   a, b = 0, 1\n",
    "   while a < n:\n",
    "       print(a, end=' ')\n",
    "       a, b = b, a+b"
   ]
  },
  {
   "cell_type": "code",
   "execution_count": 5,
   "id": "7489ca2a-0207-43fe-8f17-7c2e9dc62a0c",
   "metadata": {},
   "outputs": [],
   "source": [
    "def main():\n",
    "    n = int(input(\"Enter an integer number n  = \"))\n",
    "    print(\"Fibonacci series up to \", n, \":\")\n",
    "    fib(n)"
   ]
  },
  {
   "cell_type": "code",
   "execution_count": 6,
   "id": "15489418-efd2-4d0b-b174-03cd608c0777",
   "metadata": {},
   "outputs": [
    {
     "name": "stdout",
     "output_type": "stream",
     "text": [
      "Enter an integer number n  = 1000\n",
      "Fibonacci series up to  1000 :\n",
      "0 1 1 2 3 5 8 13 21 34 55 89 144 233 377 610 987 "
     ]
    }
   ],
   "source": [
    "if __name__ == \"__main__\":\n",
    "    main()"
   ]
  },
  {
   "cell_type": "code",
   "execution_count": null,
   "id": "0dc13502-0bc9-441c-8344-33c29bba8194",
   "metadata": {},
   "outputs": [],
   "source": []
  }
 ],
 "metadata": {
  "kernelspec": {
   "display_name": "Python 3",
   "language": "python",
   "name": "python3"
  },
  "language_info": {
   "codemirror_mode": {
    "name": "ipython",
    "version": 3
   },
   "file_extension": ".py",
   "mimetype": "text/x-python",
   "name": "python",
   "nbconvert_exporter": "python",
   "pygments_lexer": "ipython3",
   "version": "3.7.9"
  }
 },
 "nbformat": 4,
 "nbformat_minor": 5
}
