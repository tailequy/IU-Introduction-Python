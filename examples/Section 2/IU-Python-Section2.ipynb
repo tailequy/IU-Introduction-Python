{
 "cells": [
  {
   "cell_type": "markdown",
   "id": "3bcb0772-0629-4771-bb5c-401a360462be",
   "metadata": {},
   "source": [
    "# Introduction to Programming with Python\n",
    "## Section 2: Variable and data types"
   ]
  },
  {
   "cell_type": "markdown",
   "id": "0fb95791-c4bf-41dd-b794-5798145c0b9f",
   "metadata": {},
   "source": [
    "### 1. Variables and value assignment"
   ]
  },
  {
   "cell_type": "code",
   "execution_count": 30,
   "id": "2131b1dd-b5bb-4448-8417-471ae565d6c7",
   "metadata": {},
   "outputs": [],
   "source": [
    "#\"\"\"\n",
    "#Examples of variable definition and assignment\n",
    "#\"\"\""
   ]
  },
  {
   "cell_type": "code",
   "execution_count": 1,
   "id": "5b43ad9e-ad60-459a-bf18-5a8c5848cd49",
   "metadata": {},
   "outputs": [],
   "source": [
    "weight = 73"
   ]
  },
  {
   "cell_type": "code",
   "execution_count": 2,
   "id": "184582af-822a-45b2-a25b-f43c30f734b7",
   "metadata": {},
   "outputs": [
    {
     "ename": "SyntaxError",
     "evalue": "invalid syntax (<ipython-input-2-cd2cd417bc89>, line 1)",
     "output_type": "error",
     "traceback": [
      "\u001b[1;36m  File \u001b[1;32m\"<ipython-input-2-cd2cd417bc89>\"\u001b[1;36m, line \u001b[1;32m1\u001b[0m\n\u001b[1;33m    $weight = 73\u001b[0m\n\u001b[1;37m    ^\u001b[0m\n\u001b[1;31mSyntaxError\u001b[0m\u001b[1;31m:\u001b[0m invalid syntax\n"
     ]
    }
   ],
   "source": [
    "$weight = 73"
   ]
  },
  {
   "cell_type": "code",
   "execution_count": 3,
   "id": "9106a54a-1751-4823-a041-48e0292c8f63",
   "metadata": {},
   "outputs": [
    {
     "name": "stdout",
     "output_type": "stream",
     "text": [
      "73\n"
     ]
    }
   ],
   "source": [
    "print(weight)"
   ]
  },
  {
   "cell_type": "code",
   "execution_count": 4,
   "id": "63d6c503-6201-4242-ac12-cff0c5a62708",
   "metadata": {},
   "outputs": [],
   "source": [
    "player_weight = 73"
   ]
  },
  {
   "cell_type": "code",
   "execution_count": 5,
   "id": "366cb168-ac14-4e33-aae2-546f9df50712",
   "metadata": {},
   "outputs": [],
   "source": [
    "player_weight = 70 + 3"
   ]
  },
  {
   "cell_type": "code",
   "execution_count": 6,
   "id": "e9ab4073-87da-4397-bad7-d5354c56983c",
   "metadata": {},
   "outputs": [
    {
     "ename": "SyntaxError",
     "evalue": "invalid character in identifier (<ipython-input-6-534c3865419f>, line 1)",
     "output_type": "error",
     "traceback": [
      "\u001b[1;36m  File \u001b[1;32m\"<ipython-input-6-534c3865419f>\"\u001b[1;36m, line \u001b[1;32m1\u001b[0m\n\u001b[1;33m    player_weight − 3 = 70\u001b[0m\n\u001b[1;37m                  ^\u001b[0m\n\u001b[1;31mSyntaxError\u001b[0m\u001b[1;31m:\u001b[0m invalid character in identifier\n"
     ]
    }
   ],
   "source": [
    "player_weight − 3 = 70"
   ]
  },
  {
   "cell_type": "code",
   "execution_count": 7,
   "id": "f3aa994c-4b30-41b0-97d1-85ac63521582",
   "metadata": {},
   "outputs": [],
   "source": [
    "another_player_weight = 80"
   ]
  },
  {
   "cell_type": "code",
   "execution_count": 8,
   "id": "2d31430a-37e2-48af-9d27-454216020185",
   "metadata": {},
   "outputs": [],
   "source": [
    "player_weight = another_player_weight"
   ]
  },
  {
   "cell_type": "code",
   "execution_count": 10,
   "id": "a6a9ce1d-315a-4eb1-a10f-ce5dbf357682",
   "metadata": {},
   "outputs": [],
   "source": [
    "player_weight = another_player_weight + 10 - 3"
   ]
  },
  {
   "cell_type": "code",
   "execution_count": 11,
   "id": "cc073f9f-3570-4a35-906f-67a33a70a89f",
   "metadata": {},
   "outputs": [
    {
     "name": "stdout",
     "output_type": "stream",
     "text": [
      "87\n"
     ]
    }
   ],
   "source": [
    "print(player_weight)"
   ]
  },
  {
   "cell_type": "markdown",
   "id": "a44b49dd-5e41-4950-ab29-441a3806fcff",
   "metadata": {},
   "source": [
    "## 2. Numbers"
   ]
  },
  {
   "cell_type": "code",
   "execution_count": 18,
   "id": "f86e2e8a-4408-4251-8b91-17a7092686f0",
   "metadata": {},
   "outputs": [],
   "source": [
    "player_weight = 73.6"
   ]
  },
  {
   "cell_type": "code",
   "execution_count": 16,
   "id": "955c4dd7-29d9-404f-a781-0b3be565eba2",
   "metadata": {},
   "outputs": [],
   "source": [
    "another_varibale = 0.05"
   ]
  },
  {
   "cell_type": "code",
   "execution_count": 17,
   "id": "ceefa994-2cb4-46d7-9539-3065ad4dadd9",
   "metadata": {},
   "outputs": [],
   "source": [
    "yet_another_variable = -15.82715"
   ]
  },
  {
   "cell_type": "code",
   "execution_count": 19,
   "id": "9dfcf75d-02a6-4783-a5a6-68410ffa21d3",
   "metadata": {},
   "outputs": [
    {
     "name": "stdout",
     "output_type": "stream",
     "text": [
      "73.6\n"
     ]
    }
   ],
   "source": [
    "print(player_weight)"
   ]
  },
  {
   "cell_type": "code",
   "execution_count": 20,
   "id": "ab8c9310-321b-416e-8d93-a88ef963a9c9",
   "metadata": {},
   "outputs": [
    {
     "name": "stdout",
     "output_type": "stream",
     "text": [
      "0.05\n"
     ]
    }
   ],
   "source": [
    "print(another_varibale)"
   ]
  },
  {
   "cell_type": "code",
   "execution_count": 21,
   "id": "0fb006b2-5e90-4698-81d2-a1696d5bd23a",
   "metadata": {},
   "outputs": [
    {
     "name": "stdout",
     "output_type": "stream",
     "text": [
      "-15.82715\n"
     ]
    }
   ],
   "source": [
    "print(yet_another_variable)"
   ]
  },
  {
   "cell_type": "code",
   "execution_count": 22,
   "id": "0ddd87f0-c5b2-4cef-a9ec-b0afd50a4f14",
   "metadata": {},
   "outputs": [],
   "source": [
    "scientific_float = 4.5e7"
   ]
  },
  {
   "cell_type": "code",
   "execution_count": 23,
   "id": "877fd696-ea53-447a-bb04-2dfe1b1b2a51",
   "metadata": {},
   "outputs": [
    {
     "name": "stdout",
     "output_type": "stream",
     "text": [
      "45000000.0\n"
     ]
    }
   ],
   "source": [
    "print(scientific_float)"
   ]
  },
  {
   "cell_type": "code",
   "execution_count": 24,
   "id": "0b7d09c6-bb92-43a7-8274-04773528fff7",
   "metadata": {},
   "outputs": [],
   "source": [
    "another_scientific_float = 4.5e-7"
   ]
  },
  {
   "cell_type": "code",
   "execution_count": 25,
   "id": "2a766739-2548-42a0-a4dc-740d36327174",
   "metadata": {},
   "outputs": [
    {
     "name": "stdout",
     "output_type": "stream",
     "text": [
      "4.5e-07\n"
     ]
    }
   ],
   "source": [
    "print(another_scientific_float)"
   ]
  },
  {
   "cell_type": "code",
   "execution_count": 26,
   "id": "e453cfdb-8b02-43ab-968c-f238b20308c6",
   "metadata": {},
   "outputs": [
    {
     "name": "stdout",
     "output_type": "stream",
     "text": [
      "0.0000004500\n"
     ]
    }
   ],
   "source": [
    "print(\"%.10f\" %another_scientific_float) #print float number with specific decimal places "
   ]
  },
  {
   "cell_type": "code",
   "execution_count": 31,
   "id": "9f731636-9ac7-4f98-8c5f-cb6738730bff",
   "metadata": {},
   "outputs": [],
   "source": [
    "#Complex number: a + bJ where a and b are floating point numbers and J iss the square root of -1 (imaginary portion of the number)\n",
    "complex_number = 1 +6J"
   ]
  },
  {
   "cell_type": "code",
   "execution_count": 32,
   "id": "8fc94b14-3acc-46a6-be15-9d5495a28a20",
   "metadata": {},
   "outputs": [
    {
     "name": "stdout",
     "output_type": "stream",
     "text": [
      "(1+6j)\n"
     ]
    }
   ],
   "source": [
    "print(complex_number)"
   ]
  },
  {
   "cell_type": "code",
   "execution_count": 33,
   "id": "00c13c8f-d84e-4166-8fc0-82360dce9236",
   "metadata": {},
   "outputs": [],
   "source": [
    "#Octa value and hexadecimal value: 0o<octal>, 0x<hex>\n",
    "octal_value = 0o71"
   ]
  },
  {
   "cell_type": "code",
   "execution_count": 35,
   "id": "b596bffe-11ce-469d-93e0-5f5dbcf09442",
   "metadata": {},
   "outputs": [
    {
     "name": "stdout",
     "output_type": "stream",
     "text": [
      "57\n"
     ]
    }
   ],
   "source": [
    "print(octal_value)"
   ]
  },
  {
   "cell_type": "code",
   "execution_count": 37,
   "id": "8e04b4ee-b48f-4cd4-8d07-5cbe3cab9dce",
   "metadata": {},
   "outputs": [],
   "source": [
    "hex_value = 0x71"
   ]
  },
  {
   "cell_type": "code",
   "execution_count": 38,
   "id": "f2dd7127-268a-48d9-9ecf-c0a86492b78d",
   "metadata": {},
   "outputs": [
    {
     "name": "stdout",
     "output_type": "stream",
     "text": [
      "113\n"
     ]
    }
   ],
   "source": [
    "print(hex_value)"
   ]
  },
  {
   "cell_type": "markdown",
   "id": "f92009dc-8ccb-46c3-835c-9ef0b4c171a4",
   "metadata": {},
   "source": [
    "### Operators"
   ]
  },
  {
   "cell_type": "code",
   "execution_count": 39,
   "id": "403107a3-bd7a-4919-8fe8-c163451bfb6e",
   "metadata": {},
   "outputs": [],
   "source": [
    "my_float = 20.5"
   ]
  },
  {
   "cell_type": "code",
   "execution_count": 40,
   "id": "fa60f641-913f-492a-bf8a-81a6058e5771",
   "metadata": {},
   "outputs": [],
   "source": [
    "my_int = 5"
   ]
  },
  {
   "cell_type": "code",
   "execution_count": 41,
   "id": "2b0b3a8a-1dda-4924-a2a0-3be3909024df",
   "metadata": {},
   "outputs": [
    {
     "data": {
      "text/plain": [
       "25.5"
      ]
     },
     "execution_count": 41,
     "metadata": {},
     "output_type": "execute_result"
    }
   ],
   "source": [
    "my_int + my_float"
   ]
  },
  {
   "cell_type": "code",
   "execution_count": 42,
   "id": "12bb8443-fdbe-499e-8041-92e6bf95b371",
   "metadata": {},
   "outputs": [
    {
     "data": {
      "text/plain": [
       "-15.5"
      ]
     },
     "execution_count": 42,
     "metadata": {},
     "output_type": "execute_result"
    }
   ],
   "source": [
    "my_int - my_float"
   ]
  },
  {
   "cell_type": "code",
   "execution_count": 43,
   "id": "990b8cb9-5b37-4b1b-bc1a-a2b2d318f64e",
   "metadata": {},
   "outputs": [
    {
     "data": {
      "text/plain": [
       "102.5"
      ]
     },
     "execution_count": 43,
     "metadata": {},
     "output_type": "execute_result"
    }
   ],
   "source": [
    "my_int * my_float"
   ]
  },
  {
   "cell_type": "code",
   "execution_count": 44,
   "id": "db7e3413-1124-4571-a655-edc38ca74170",
   "metadata": {},
   "outputs": [
    {
     "data": {
      "text/plain": [
       "0.24390243902439024"
      ]
     },
     "execution_count": 44,
     "metadata": {},
     "output_type": "execute_result"
    }
   ],
   "source": [
    "my_int / my_float"
   ]
  },
  {
   "cell_type": "code",
   "execution_count": 45,
   "id": "ea63aa57-678e-4970-b532-921f23376e60",
   "metadata": {},
   "outputs": [
    {
     "data": {
      "text/plain": [
       "0.0"
      ]
     },
     "execution_count": 45,
     "metadata": {},
     "output_type": "execute_result"
    }
   ],
   "source": [
    "my_int // my_float"
   ]
  },
  {
   "cell_type": "code",
   "execution_count": 46,
   "id": "d7fbe165-d7a4-48cf-bb65-7569e33e5b97",
   "metadata": {},
   "outputs": [
    {
     "data": {
      "text/plain": [
       "0"
      ]
     },
     "execution_count": 46,
     "metadata": {},
     "output_type": "execute_result"
    }
   ],
   "source": [
    "int(my_int / my_float)"
   ]
  },
  {
   "cell_type": "code",
   "execution_count": 47,
   "id": "637e8fbd-f6df-4e45-be26-13138b1e2597",
   "metadata": {},
   "outputs": [
    {
     "data": {
      "text/plain": [
       "5.0"
      ]
     },
     "execution_count": 47,
     "metadata": {},
     "output_type": "execute_result"
    }
   ],
   "source": [
    "my_int % my_float"
   ]
  },
  {
   "cell_type": "markdown",
   "id": "dc2585ca-e764-429c-9776-12ecdb835752",
   "metadata": {},
   "source": [
    "## 3. Strings"
   ]
  },
  {
   "cell_type": "code",
   "execution_count": 48,
   "id": "88d01931-872b-4aa5-a730-1cfb05753036",
   "metadata": {},
   "outputs": [],
   "source": [
    "player_name = \"Franz Beckenbauer\""
   ]
  },
  {
   "cell_type": "code",
   "execution_count": 49,
   "id": "bc2a9257-2f57-40de-979c-45c2fab77063",
   "metadata": {},
   "outputs": [
    {
     "name": "stdout",
     "output_type": "stream",
     "text": [
      "Franz Beckenbauer\n"
     ]
    }
   ],
   "source": [
    "print(player_name)"
   ]
  },
  {
   "cell_type": "code",
   "execution_count": 50,
   "id": "257cf612-71ff-463d-97b0-bef551244435",
   "metadata": {},
   "outputs": [],
   "source": [
    "another_string = \"This is a string! I love it!\""
   ]
  },
  {
   "cell_type": "code",
   "execution_count": 51,
   "id": "b3935d04-3573-498e-9e43-e3e6ef6f3215",
   "metadata": {},
   "outputs": [
    {
     "name": "stdout",
     "output_type": "stream",
     "text": [
      "This is a string! I love it!\n"
     ]
    }
   ],
   "source": [
    "print(another_string)"
   ]
  },
  {
   "cell_type": "code",
   "execution_count": 52,
   "id": "14e53689-8b7a-4a56-b6d4-9e4709e68742",
   "metadata": {},
   "outputs": [
    {
     "data": {
      "text/plain": [
       "'T'"
      ]
     },
     "execution_count": 52,
     "metadata": {},
     "output_type": "execute_result"
    }
   ],
   "source": [
    "another_string[0]"
   ]
  },
  {
   "cell_type": "code",
   "execution_count": 54,
   "id": "b80e2053-28bc-42d5-8f58-db7d245ddbbf",
   "metadata": {},
   "outputs": [
    {
     "name": "stdout",
     "output_type": "stream",
     "text": [
      "Hello string in Python\n"
     ]
    }
   ],
   "source": [
    "print(\"Hello string in Python\")"
   ]
  },
  {
   "cell_type": "code",
   "execution_count": 55,
   "id": "b86db074-ee68-4a2d-aaf1-d681a5bd813f",
   "metadata": {},
   "outputs": [
    {
     "name": "stdout",
     "output_type": "stream",
     "text": [
      "Hello string in Python\n"
     ]
    }
   ],
   "source": [
    "print('Hello string in Python')"
   ]
  },
  {
   "cell_type": "code",
   "execution_count": 56,
   "id": "ad909160-51ac-455e-9995-8e2196d601f4",
   "metadata": {},
   "outputs": [
    {
     "ename": "SyntaxError",
     "evalue": "EOL while scanning string literal (<ipython-input-56-9dcdb637f2d7>, line 1)",
     "output_type": "error",
     "traceback": [
      "\u001b[1;36m  File \u001b[1;32m\"<ipython-input-56-9dcdb637f2d7>\"\u001b[1;36m, line \u001b[1;32m1\u001b[0m\n\u001b[1;33m    print(\"Hello string in Python')\u001b[0m\n\u001b[1;37m                                   ^\u001b[0m\n\u001b[1;31mSyntaxError\u001b[0m\u001b[1;31m:\u001b[0m EOL while scanning string literal\n"
     ]
    }
   ],
   "source": [
    "print(\"Hello string in Python')"
   ]
  },
  {
   "cell_type": "code",
   "execution_count": 57,
   "id": "5a6eb4c9-7c4a-4034-a13d-c5f0b5c32f97",
   "metadata": {},
   "outputs": [
    {
     "ename": "SyntaxError",
     "evalue": "invalid syntax (<ipython-input-57-b3c8fe0ed954>, line 1)",
     "output_type": "error",
     "traceback": [
      "\u001b[1;36m  File \u001b[1;32m\"<ipython-input-57-b3c8fe0ed954>\"\u001b[1;36m, line \u001b[1;32m1\u001b[0m\n\u001b[1;33m    my_string = \"Bob said, \"All your base are belong to us!\"\"\u001b[0m\n\u001b[1;37m                              ^\u001b[0m\n\u001b[1;31mSyntaxError\u001b[0m\u001b[1;31m:\u001b[0m invalid syntax\n"
     ]
    }
   ],
   "source": [
    "my_string = \"Bob said, \"All your base are belong to us!\"\""
   ]
  },
  {
   "cell_type": "code",
   "execution_count": 58,
   "id": "91665760-6590-4344-9321-665ac312cce1",
   "metadata": {},
   "outputs": [],
   "source": [
    "my_string = \"Bob said, \\\"All your base are belong to us!\\\"\""
   ]
  },
  {
   "cell_type": "code",
   "execution_count": 59,
   "id": "ee0a843e-8756-47b4-882a-7f8136f93078",
   "metadata": {},
   "outputs": [
    {
     "name": "stdout",
     "output_type": "stream",
     "text": [
      "Bob said, \"All your base are belong to us!\"\n"
     ]
    }
   ],
   "source": [
    "print(my_string)"
   ]
  },
  {
   "cell_type": "code",
   "execution_count": 60,
   "id": "e4d7bb02-7c9e-428e-a9f5-be912655a475",
   "metadata": {},
   "outputs": [],
   "source": [
    "my_string = \"This is an escaped string.\\nIt's really \\\"nice!\\\"\""
   ]
  },
  {
   "cell_type": "code",
   "execution_count": 61,
   "id": "5c803ff2-e21f-45c8-a09c-991e3baee6f2",
   "metadata": {},
   "outputs": [
    {
     "name": "stdout",
     "output_type": "stream",
     "text": [
      "This is an escaped string.\n",
      "It's really \"nice!\"\n"
     ]
    }
   ],
   "source": [
    "print(my_string)"
   ]
  },
  {
   "cell_type": "code",
   "execution_count": 62,
   "id": "0f2c5a27-951a-4ec7-b90d-5a80638375bc",
   "metadata": {},
   "outputs": [],
   "source": [
    "my_string = \"This is an escaped string.\\tIt's really \\\"nice!\\\"\""
   ]
  },
  {
   "cell_type": "code",
   "execution_count": 63,
   "id": "87c2a164-6bfc-4ed0-a4bc-0f2452b24e28",
   "metadata": {},
   "outputs": [
    {
     "name": "stdout",
     "output_type": "stream",
     "text": [
      "This is an escaped string.\tIt's really \"nice!\"\n"
     ]
    }
   ],
   "source": [
    "print(my_string)"
   ]
  },
  {
   "cell_type": "code",
   "execution_count": 72,
   "id": "a2c06b6c-3263-48ec-8f4b-0289b9977c9d",
   "metadata": {},
   "outputs": [],
   "source": [
    "my_string = r\"This is an escaped string.\\nIt's really \\\"nice!\\\"\""
   ]
  },
  {
   "cell_type": "code",
   "execution_count": 73,
   "id": "8b50f2f3-74da-4dfd-a354-1dfee124472a",
   "metadata": {},
   "outputs": [
    {
     "name": "stdout",
     "output_type": "stream",
     "text": [
      "This is an escaped string.\\nIt's really \\\"nice!\\\"\n"
     ]
    }
   ],
   "source": [
    "print(my_string)"
   ]
  },
  {
   "cell_type": "code",
   "execution_count": 74,
   "id": "f68be603-5ede-48fc-8f6e-b338e659644c",
   "metadata": {},
   "outputs": [],
   "source": [
    "my_string = \"\"\"This text goes on...\n",
    "and on...\n",
    "and on...\"\"\""
   ]
  },
  {
   "cell_type": "code",
   "execution_count": 75,
   "id": "8b6b0e2a-d9a5-490a-b46d-7f411d5a0d8f",
   "metadata": {},
   "outputs": [
    {
     "name": "stdout",
     "output_type": "stream",
     "text": [
      "This text goes on...\n",
      "and on...\n",
      "and on...\n"
     ]
    }
   ],
   "source": [
    "print(my_string)"
   ]
  },
  {
   "cell_type": "markdown",
   "id": "b34b2f0e-32d5-4da2-89ce-3f266383743e",
   "metadata": {},
   "source": [
    "### String operators"
   ]
  },
  {
   "cell_type": "code",
   "execution_count": 81,
   "id": "44c57419-34a3-4d8b-804d-a22f84abbdbd",
   "metadata": {},
   "outputs": [
    {
     "name": "stdout",
     "output_type": "stream",
     "text": [
      "Hello Python\n"
     ]
    }
   ],
   "source": [
    "string1 = \"Hello \"\n",
    "string2 = \"Python\"\n",
    "string_combined = string1+string2\n",
    "print(string_combined)"
   ]
  },
  {
   "cell_type": "code",
   "execution_count": 82,
   "id": "94d20588-4e91-4b24-bd92-6693ac2464d0",
   "metadata": {},
   "outputs": [
    {
     "name": "stdout",
     "output_type": "stream",
     "text": [
      "Hello Python Hello Python \n",
      "Hello Python Hello Python Hello Python \n",
      "Hello Python Hello Python Hello Python Hello Python \n",
      "Hello Python Hello Python Hello Python Hello Python Hello Python \n"
     ]
    }
   ],
   "source": [
    "string1 = \"Hello Python \"\n",
    "print(string1*2)\n",
    "print(string1*3)\n",
    "print(string1*4)\n",
    "print(string1*5)"
   ]
  },
  {
   "cell_type": "code",
   "execution_count": 83,
   "id": "47a38f89-cdff-408f-967d-53a9bce9dc64",
   "metadata": {},
   "outputs": [],
   "source": [
    "#String slicing operator “[]”"
   ]
  },
  {
   "cell_type": "code",
   "execution_count": 88,
   "id": "4fa19b5c-3b44-4610-acde-ca7f4f20ba0c",
   "metadata": {},
   "outputs": [],
   "source": [
    "my_string = \"HELLOWORLD\""
   ]
  },
  {
   "cell_type": "code",
   "execution_count": 86,
   "id": "ba2fee7d-7554-4e08-bddc-f00af3d61afb",
   "metadata": {},
   "outputs": [],
   "source": [
    "# String:       \tH\tE\tL\tL\tO\tW\tO\tR\tL\tD\n",
    "#Positive index \t0\t1\t2\t3\t4\t5\t6\t7\t8\t9\n",
    "#Negative index \t-10\t-9\t-8\t-7\t-6\t-5\t-4\t-3\t-2\t-1"
   ]
  },
  {
   "cell_type": "code",
   "execution_count": 92,
   "id": "a1dcd9a5-785a-45e8-99c1-20e6bcf9c873",
   "metadata": {},
   "outputs": [
    {
     "name": "stdout",
     "output_type": "stream",
     "text": [
      "E\n",
      "R\n",
      "ELLO\n",
      "ELLOWO\n",
      "LLOWORLD\n",
      "HELLO\n",
      "HELLOWOR\n",
      "LD\n",
      "DLROWOLLEH\n",
      "HLOOL\n"
     ]
    }
   ],
   "source": [
    "print(my_string[1])\n",
    "print(my_string[-3])\n",
    "print(my_string[1:5])\n",
    "print(my_string[1:-3])\n",
    "print(my_string[2:])\n",
    "print(my_string[:5])\n",
    "print(my_string[:-2])\n",
    "print(my_string[-2:])\n",
    "print(my_string[::-1])\n",
    "print(my_string[::2])"
   ]
  },
  {
   "cell_type": "code",
   "execution_count": 93,
   "id": "4373a68c-41f5-416a-9621-f97eff388585",
   "metadata": {},
   "outputs": [],
   "source": [
    "my_string = 'Hello Python'"
   ]
  },
  {
   "cell_type": "code",
   "execution_count": 94,
   "id": "df3342df-001c-469d-8a8d-06066f1fe9e4",
   "metadata": {},
   "outputs": [
    {
     "data": {
      "text/plain": [
       "12"
      ]
     },
     "execution_count": 94,
     "metadata": {},
     "output_type": "execute_result"
    }
   ],
   "source": [
    "#Length of the string\n",
    "len(my_string) "
   ]
  },
  {
   "cell_type": "code",
   "execution_count": 95,
   "id": "13bc663c-55d8-4b71-9a6a-ad0420d058c7",
   "metadata": {},
   "outputs": [
    {
     "data": {
      "text/plain": [
       "6"
      ]
     },
     "execution_count": 95,
     "metadata": {},
     "output_type": "execute_result"
    }
   ],
   "source": [
    "#Get the index\n",
    "my_string.index(\"P\")"
   ]
  },
  {
   "cell_type": "code",
   "execution_count": 99,
   "id": "2fa9ecec-1fba-4ff1-8936-96486443eae0",
   "metadata": {},
   "outputs": [
    {
     "data": {
      "text/plain": [
       "2"
      ]
     },
     "execution_count": 99,
     "metadata": {},
     "output_type": "execute_result"
    }
   ],
   "source": [
    "#Count the frequence\n",
    "my_string.count(\"l\")"
   ]
  },
  {
   "cell_type": "code",
   "execution_count": 100,
   "id": "51ea07a0-8bf7-4ea9-9377-565627a33e16",
   "metadata": {},
   "outputs": [
    {
     "data": {
      "text/plain": [
       "'HELLO PYTHON'"
      ]
     },
     "execution_count": 100,
     "metadata": {},
     "output_type": "execute_result"
    }
   ],
   "source": [
    "#Upercase\n",
    "my_string.upper()"
   ]
  },
  {
   "cell_type": "code",
   "execution_count": 101,
   "id": "1b805291-8c27-497e-839d-b2366e17ce1c",
   "metadata": {},
   "outputs": [
    {
     "data": {
      "text/plain": [
       "'hello python'"
      ]
     },
     "execution_count": 101,
     "metadata": {},
     "output_type": "execute_result"
    }
   ],
   "source": [
    "#Lower\n",
    "my_string.lower()"
   ]
  },
  {
   "cell_type": "code",
   "execution_count": 102,
   "id": "1722e99a-203d-4736-9d0e-abd85cc77496",
   "metadata": {},
   "outputs": [
    {
     "name": "stdout",
     "output_type": "stream",
     "text": [
      "My name is Joe and I'm 28 years old.\n"
     ]
    }
   ],
   "source": [
    "#Format method\n",
    "age_var = 28\n",
    "my_str = \"My name is {name} and I'm {age} years old.\".format(name=\"Joe\",age=age_var)\n",
    "print(my_str)"
   ]
  },
  {
   "cell_type": "code",
   "execution_count": 103,
   "id": "53bfc8e8-3920-4753-8163-fe0e5c4c4a0a",
   "metadata": {},
   "outputs": [
    {
     "name": "stdout",
     "output_type": "stream",
     "text": [
      "T-E-S-T\n"
     ]
    }
   ],
   "source": [
    "print((\"-\").join(\"TEST\"))"
   ]
  },
  {
   "cell_type": "code",
   "execution_count": 105,
   "id": "dd9d32bc-568d-4f92-b081-60d3b30d6437",
   "metadata": {},
   "outputs": [
    {
     "name": "stdout",
     "output_type": "stream",
     "text": [
      "['This', 'is', 'a', 'string']\n"
     ]
    }
   ],
   "source": [
    "print(\"This is a string\".split(\" \"))"
   ]
  },
  {
   "cell_type": "code",
   "execution_count": 106,
   "id": "c6a032ac-1216-454b-a634-eddfa43b2a15",
   "metadata": {},
   "outputs": [
    {
     "name": "stdout",
     "output_type": "stream",
     "text": [
      "I LOVE PYTHON\n"
     ]
    }
   ],
   "source": [
    "print(\"I love Python\".upper())"
   ]
  },
  {
   "cell_type": "code",
   "execution_count": 107,
   "id": "ee3952c8-3715-4fad-8fe4-bae38d66a2a6",
   "metadata": {},
   "outputs": [
    {
     "name": "stdout",
     "output_type": "stream",
     "text": [
      "i love python\n"
     ]
    }
   ],
   "source": [
    "print(\"I love Python\".lower())"
   ]
  },
  {
   "cell_type": "code",
   "execution_count": 108,
   "id": "2c186a7e-07eb-4858-b7a7-9d9925392e1a",
   "metadata": {},
   "outputs": [
    {
     "name": "stdout",
     "output_type": "stream",
     "text": [
      "Python  ==  amazing\n"
     ]
    }
   ],
   "source": [
    "print(\"Python is amazing\".replace(\"is\",\" == \"))"
   ]
  },
  {
   "cell_type": "markdown",
   "id": "a4208fac-3a45-4799-8c70-646b086724fb",
   "metadata": {},
   "source": [
    "## 4. Collections"
   ]
  },
  {
   "cell_type": "markdown",
   "id": "b94c956b-db61-46d1-9f43-849ef4d1a7e2",
   "metadata": {},
   "source": [
    "### 4.1. Set"
   ]
  },
  {
   "cell_type": "code",
   "execution_count": 110,
   "id": "96741117-f99c-4944-87b2-d9a66ad74c0a",
   "metadata": {},
   "outputs": [],
   "source": [
    "an_empty_set = {}"
   ]
  },
  {
   "cell_type": "code",
   "execution_count": 115,
   "id": "ac565edb-2263-4718-854f-e0b038477ea1",
   "metadata": {},
   "outputs": [
    {
     "name": "stdout",
     "output_type": "stream",
     "text": [
      "{}\n"
     ]
    }
   ],
   "source": [
    "print(an_empty_set)"
   ]
  },
  {
   "cell_type": "code",
   "execution_count": 111,
   "id": "06def394-c007-49df-8759-3ba0fb42fbaf",
   "metadata": {},
   "outputs": [],
   "source": [
    "a_string_set = {\"Red\",\"Green\",\"Blue\"}"
   ]
  },
  {
   "cell_type": "code",
   "execution_count": 116,
   "id": "342d7b74-6ba4-45ff-8730-fe671312a53d",
   "metadata": {},
   "outputs": [
    {
     "name": "stdout",
     "output_type": "stream",
     "text": [
      "{'Red', 'Blue', 'Green'}\n"
     ]
    }
   ],
   "source": [
    "print(a_string_set)"
   ]
  },
  {
   "cell_type": "code",
   "execution_count": 112,
   "id": "7382d6de-4e6b-4cf7-8790-e2747102292e",
   "metadata": {},
   "outputs": [],
   "source": [
    "a_number_set = {5,0,-2,991}"
   ]
  },
  {
   "cell_type": "code",
   "execution_count": 117,
   "id": "cf78363d-b0f0-4795-88f7-92d131325398",
   "metadata": {},
   "outputs": [
    {
     "name": "stdout",
     "output_type": "stream",
     "text": [
      "{0, 5, -2, 991}\n"
     ]
    }
   ],
   "source": [
    "print(a_number_set)"
   ]
  },
  {
   "cell_type": "code",
   "execution_count": 113,
   "id": "547de471-751a-4d97-bcc8-1cea7cdd8c41",
   "metadata": {},
   "outputs": [],
   "source": [
    "a_mixed_set = {\"Hi!\", -8, 4.52, 4+9.2J}"
   ]
  },
  {
   "cell_type": "code",
   "execution_count": 118,
   "id": "69cc9317-0af8-422c-b4d1-63a365f82858",
   "metadata": {},
   "outputs": [
    {
     "name": "stdout",
     "output_type": "stream",
     "text": [
      "{-8, 'Hi!', 4.52, (4+9.2j)}\n"
     ]
    }
   ],
   "source": [
    "print(a_mixed_set)"
   ]
  },
  {
   "cell_type": "markdown",
   "id": "9e0f068e-8fbe-45ca-90ca-27ba9f424307",
   "metadata": {},
   "source": [
    "#### Set methods"
   ]
  },
  {
   "cell_type": "code",
   "execution_count": 126,
   "id": "8eeeb2ab-350d-4562-bb69-f781a3dfcb0b",
   "metadata": {},
   "outputs": [],
   "source": [
    "#Add element to the set\n",
    "a_string_set = {\"Red\",\"Green\",\"Blue\"}"
   ]
  },
  {
   "cell_type": "code",
   "execution_count": 127,
   "id": "d0ac58ff-20f1-4799-9b0d-00bbbe5c095a",
   "metadata": {},
   "outputs": [
    {
     "name": "stdout",
     "output_type": "stream",
     "text": [
      "{'Red', 'Blue', 'Green'}\n"
     ]
    }
   ],
   "source": [
    "print(a_string_set)"
   ]
  },
  {
   "cell_type": "code",
   "execution_count": 128,
   "id": "2a6fe468-ffe7-47da-b8f0-86646acb66d0",
   "metadata": {},
   "outputs": [],
   "source": [
    "a_string_set.add(\"Yellow\")"
   ]
  },
  {
   "cell_type": "code",
   "execution_count": 129,
   "id": "a8bfd0e2-d9ad-4b91-8cd8-6c02cc8e31d3",
   "metadata": {},
   "outputs": [
    {
     "name": "stdout",
     "output_type": "stream",
     "text": [
      "{'Yellow', 'Red', 'Blue', 'Green'}\n"
     ]
    }
   ],
   "source": [
    "print(a_string_set)"
   ]
  },
  {
   "cell_type": "code",
   "execution_count": 130,
   "id": "784105c8-333a-4672-803b-88c33d47b99f",
   "metadata": {},
   "outputs": [],
   "source": [
    "#Remove element from the set\n",
    "a_string_set.remove(\"Red\")"
   ]
  },
  {
   "cell_type": "code",
   "execution_count": 131,
   "id": "ee8a6c92-d608-4c93-acaa-72c9f98a8d9b",
   "metadata": {},
   "outputs": [
    {
     "name": "stdout",
     "output_type": "stream",
     "text": [
      "{'Yellow', 'Blue', 'Green'}\n"
     ]
    }
   ],
   "source": [
    "print(a_string_set)"
   ]
  },
  {
   "cell_type": "code",
   "execution_count": null,
   "id": "385f3824-8a70-4195-ab6e-9675c07c937d",
   "metadata": {},
   "outputs": [],
   "source": [
    "#Remove all elements from the set"
   ]
  },
  {
   "cell_type": "code",
   "execution_count": 132,
   "id": "2aaa7e14-edc5-47c4-8a03-8f71fd4eed71",
   "metadata": {},
   "outputs": [],
   "source": [
    "a_string_set.clear()"
   ]
  },
  {
   "cell_type": "code",
   "execution_count": 133,
   "id": "169c7fd6-6d91-4f5e-9b26-a5682fe522db",
   "metadata": {},
   "outputs": [
    {
     "name": "stdout",
     "output_type": "stream",
     "text": [
      "set()\n"
     ]
    }
   ],
   "source": [
    "print(a_string_set)"
   ]
  },
  {
   "cell_type": "code",
   "execution_count": 134,
   "id": "ba706457-1de2-4ef8-8c61-202e73496f07",
   "metadata": {},
   "outputs": [],
   "source": [
    "#Check whether an element exist in a set or not\n",
    "a_string_set = {\"Red\",\"Green\",\"Blue\"}"
   ]
  },
  {
   "cell_type": "code",
   "execution_count": 135,
   "id": "5804eb98-1be7-4ad9-83ad-2a0d34a9c731",
   "metadata": {},
   "outputs": [
    {
     "data": {
      "text/plain": [
       "True"
      ]
     },
     "execution_count": 135,
     "metadata": {},
     "output_type": "execute_result"
    }
   ],
   "source": [
    "\"Red\" in a_string_set"
   ]
  },
  {
   "cell_type": "code",
   "execution_count": 136,
   "id": "e1348780-a47e-40f1-a7c2-33ac5b451c4f",
   "metadata": {},
   "outputs": [
    {
     "data": {
      "text/plain": [
       "False"
      ]
     },
     "execution_count": 136,
     "metadata": {},
     "output_type": "execute_result"
    }
   ],
   "source": [
    "\"Yellow\" in a_string_set"
   ]
  },
  {
   "cell_type": "code",
   "execution_count": 137,
   "id": "2ae6291d-86bc-4b33-a238-331c98ceb061",
   "metadata": {},
   "outputs": [],
   "source": [
    "#Frozen set\n",
    "my_frozen_set = frozenset({1, 92.5, \"Frozen!!!\"})"
   ]
  },
  {
   "cell_type": "code",
   "execution_count": 138,
   "id": "dec51e14-f819-4d7c-813f-605d939b8da4",
   "metadata": {},
   "outputs": [
    {
     "name": "stdout",
     "output_type": "stream",
     "text": [
      "frozenset({1, 92.5, 'Frozen!!!'})\n"
     ]
    }
   ],
   "source": [
    "print(my_frozen_set)"
   ]
  },
  {
   "cell_type": "code",
   "execution_count": 139,
   "id": "a2593ebc-ce37-4c33-8c8b-056ba557c135",
   "metadata": {},
   "outputs": [
    {
     "ename": "AttributeError",
     "evalue": "'frozenset' object has no attribute 'add'",
     "output_type": "error",
     "traceback": [
      "\u001b[1;31m---------------------------------------------------------------------------\u001b[0m",
      "\u001b[1;31mAttributeError\u001b[0m                            Traceback (most recent call last)",
      "\u001b[1;32m<ipython-input-139-629ec6c80bc4>\u001b[0m in \u001b[0;36m<module>\u001b[1;34m\u001b[0m\n\u001b[1;32m----> 1\u001b[1;33m \u001b[0mmy_frozen_set\u001b[0m\u001b[1;33m.\u001b[0m\u001b[0madd\u001b[0m\u001b[1;33m(\u001b[0m\u001b[1;34m\"Let me in!\"\u001b[0m\u001b[1;33m)\u001b[0m\u001b[1;33m\u001b[0m\u001b[1;33m\u001b[0m\u001b[0m\n\u001b[0m",
      "\u001b[1;31mAttributeError\u001b[0m: 'frozenset' object has no attribute 'add'"
     ]
    }
   ],
   "source": [
    "my_frozen_set.add(\"Let me in!\")"
   ]
  },
  {
   "cell_type": "markdown",
   "id": "4dc7bc21-f58c-4dfc-bef1-f72dbcaf180a",
   "metadata": {},
   "source": [
    "### 4.2. List"
   ]
  },
  {
   "cell_type": "code",
   "execution_count": 169,
   "id": "06a2e499-f547-4433-9998-76b4adeeb49a",
   "metadata": {},
   "outputs": [],
   "source": [
    "my_list = [1, 2.6, \"Bob\", 5+7.2J, 2.6]"
   ]
  },
  {
   "cell_type": "code",
   "execution_count": 170,
   "id": "54c54d57-ae5d-487e-80e6-558d547896c0",
   "metadata": {},
   "outputs": [
    {
     "name": "stdout",
     "output_type": "stream",
     "text": [
      "[1, 2.6, 'Bob', (5+7.2j), 2.6]\n"
     ]
    }
   ],
   "source": [
    "print(my_list)"
   ]
  },
  {
   "cell_type": "code",
   "execution_count": 172,
   "id": "e40decb1-130e-4589-a0a0-dc16ef1a9ee1",
   "metadata": {},
   "outputs": [
    {
     "data": {
      "text/plain": [
       "['Bob', (5+7.2j), 2.6]"
      ]
     },
     "execution_count": 172,
     "metadata": {},
     "output_type": "execute_result"
    }
   ],
   "source": [
    "#Slicing\n",
    "my_list[2:5]"
   ]
  },
  {
   "cell_type": "code",
   "execution_count": 158,
   "id": "2d5490fc-cbfa-4fa5-97c0-03746008b228",
   "metadata": {},
   "outputs": [],
   "source": [
    "my_list.append(\"Janet\")"
   ]
  },
  {
   "cell_type": "code",
   "execution_count": 159,
   "id": "0c79d076-7642-4bc2-87b3-1f7736b222d8",
   "metadata": {},
   "outputs": [
    {
     "name": "stdout",
     "output_type": "stream",
     "text": [
      "[1, 2.6, 'Bob', (5+7.2j), 2.6, 'Janet']\n"
     ]
    }
   ],
   "source": [
    "print(my_list)"
   ]
  },
  {
   "cell_type": "code",
   "execution_count": 160,
   "id": "61f902dd-ae8d-4364-a066-1b3356572259",
   "metadata": {},
   "outputs": [],
   "source": [
    "my_list.insert(2,\"John\")"
   ]
  },
  {
   "cell_type": "code",
   "execution_count": 161,
   "id": "f716cd8d-4a57-48bc-a20d-7148d3565dcb",
   "metadata": {},
   "outputs": [
    {
     "name": "stdout",
     "output_type": "stream",
     "text": [
      "[1, 2.6, 'John', 'Bob', (5+7.2j), 2.6, 'Janet']\n"
     ]
    }
   ],
   "source": [
    "print(my_list)"
   ]
  },
  {
   "cell_type": "code",
   "execution_count": 162,
   "id": "58474596-23c8-49ae-9a10-318b825014ea",
   "metadata": {},
   "outputs": [],
   "source": [
    "my_list.remove(\"John\")"
   ]
  },
  {
   "cell_type": "code",
   "execution_count": 163,
   "id": "b9fc1b6e-1e8e-406e-a6c2-32b28116279a",
   "metadata": {},
   "outputs": [
    {
     "name": "stdout",
     "output_type": "stream",
     "text": [
      "[1, 2.6, 'Bob', (5+7.2j), 2.6, 'Janet']\n"
     ]
    }
   ],
   "source": [
    "print(my_list)"
   ]
  },
  {
   "cell_type": "code",
   "execution_count": 164,
   "id": "dcb54425-9f59-4da5-ba77-eeab632b0c68",
   "metadata": {},
   "outputs": [
    {
     "data": {
      "text/plain": [
       "2"
      ]
     },
     "execution_count": 164,
     "metadata": {},
     "output_type": "execute_result"
    }
   ],
   "source": [
    "my_list.count(2.6)"
   ]
  },
  {
   "cell_type": "code",
   "execution_count": 165,
   "id": "1892bfdb-13a4-487b-b217-572f1ffaf622",
   "metadata": {},
   "outputs": [],
   "source": [
    "my_list.remove(2.6)"
   ]
  },
  {
   "cell_type": "code",
   "execution_count": 166,
   "id": "4cb40b4c-bcda-4b87-b9d5-a615a0e36129",
   "metadata": {},
   "outputs": [
    {
     "name": "stdout",
     "output_type": "stream",
     "text": [
      "[1, 'Bob', (5+7.2j), 2.6, 'Janet']\n"
     ]
    }
   ],
   "source": [
    "print(my_list)"
   ]
  },
  {
   "cell_type": "code",
   "execution_count": 167,
   "id": "185c9cff-778e-4e45-952f-c234cb6093aa",
   "metadata": {},
   "outputs": [],
   "source": [
    "my_list.clear()"
   ]
  },
  {
   "cell_type": "code",
   "execution_count": 168,
   "id": "1b711bb3-8874-40fc-af00-ab3c35787fa2",
   "metadata": {},
   "outputs": [
    {
     "name": "stdout",
     "output_type": "stream",
     "text": [
      "[]\n"
     ]
    }
   ],
   "source": [
    "print(my_list)"
   ]
  },
  {
   "cell_type": "markdown",
   "id": "9d7d03b7-6aac-4d0f-9e7b-062a4762d642",
   "metadata": {},
   "source": [
    "### 4.3. Tuple"
   ]
  },
  {
   "cell_type": "code",
   "execution_count": 173,
   "id": "4d42eb60-f7bf-40e3-9dde-67313720f5a7",
   "metadata": {},
   "outputs": [],
   "source": [
    "my_tuple = (7, 4.5+2.1J, -991.71, \"What a great tuple!\")"
   ]
  },
  {
   "cell_type": "code",
   "execution_count": 174,
   "id": "3b555d20-82c6-4085-85d7-e9f7383508c5",
   "metadata": {},
   "outputs": [
    {
     "name": "stdout",
     "output_type": "stream",
     "text": [
      "(7, (4.5+2.1j), -991.71, 'What a great tuple!')\n"
     ]
    }
   ],
   "source": [
    "print(my_tuple)"
   ]
  },
  {
   "cell_type": "code",
   "execution_count": 176,
   "id": "f18f6c97-6e0d-4fc8-b354-42ecbc888404",
   "metadata": {},
   "outputs": [
    {
     "data": {
      "text/plain": [
       "1"
      ]
     },
     "execution_count": 176,
     "metadata": {},
     "output_type": "execute_result"
    }
   ],
   "source": [
    "my_tuple.count(7)"
   ]
  },
  {
   "cell_type": "code",
   "execution_count": 177,
   "id": "282e7273-d935-40c5-b656-48f26527436d",
   "metadata": {},
   "outputs": [
    {
     "ename": "AttributeError",
     "evalue": "'tuple' object has no attribute 'remove'",
     "output_type": "error",
     "traceback": [
      "\u001b[1;31m---------------------------------------------------------------------------\u001b[0m",
      "\u001b[1;31mAttributeError\u001b[0m                            Traceback (most recent call last)",
      "\u001b[1;32m<ipython-input-177-5ad943f8ed70>\u001b[0m in \u001b[0;36m<module>\u001b[1;34m\u001b[0m\n\u001b[1;32m----> 1\u001b[1;33m \u001b[0mmy_tuple\u001b[0m\u001b[1;33m.\u001b[0m\u001b[0mremove\u001b[0m\u001b[1;33m(\u001b[0m\u001b[1;36m7\u001b[0m\u001b[1;33m)\u001b[0m\u001b[1;33m\u001b[0m\u001b[1;33m\u001b[0m\u001b[0m\n\u001b[0m",
      "\u001b[1;31mAttributeError\u001b[0m: 'tuple' object has no attribute 'remove'"
     ]
    }
   ],
   "source": [
    "my_tuple.remove(7)"
   ]
  },
  {
   "cell_type": "markdown",
   "id": "7e307f4d-698f-4a44-91dd-48ec69a31a2a",
   "metadata": {},
   "source": [
    "### 4.4. Dictionary"
   ]
  },
  {
   "cell_type": "code",
   "execution_count": 178,
   "id": "52ad2baf-1528-45a6-b705-e0615cf78b71",
   "metadata": {},
   "outputs": [],
   "source": [
    "my_dictionary = {\"Hair color\":\"Brown\", \"Eye color\":\"Hazel\",\"Age\":31}"
   ]
  },
  {
   "cell_type": "code",
   "execution_count": 179,
   "id": "ac33f0ff-f597-4bfc-954b-c7198d0274a3",
   "metadata": {},
   "outputs": [
    {
     "name": "stdout",
     "output_type": "stream",
     "text": [
      "{'Hair color': 'Brown', 'Eye color': 'Hazel', 'Age': 31}\n"
     ]
    }
   ],
   "source": [
    "print(my_dictionary)"
   ]
  },
  {
   "cell_type": "code",
   "execution_count": 180,
   "id": "504c116b-0d95-4d9d-8aff-950fe43bdeee",
   "metadata": {},
   "outputs": [
    {
     "data": {
      "text/plain": [
       "'Hazel'"
      ]
     },
     "execution_count": 180,
     "metadata": {},
     "output_type": "execute_result"
    }
   ],
   "source": [
    "my_dictionary[\"Eye color\"]"
   ]
  },
  {
   "cell_type": "code",
   "execution_count": 181,
   "id": "8d7c4f70-9a20-4aa3-9285-c18535f6ffd9",
   "metadata": {},
   "outputs": [
    {
     "data": {
      "text/plain": [
       "31"
      ]
     },
     "execution_count": 181,
     "metadata": {},
     "output_type": "execute_result"
    }
   ],
   "source": [
    "my_dictionary.get(\"Age\")"
   ]
  },
  {
   "cell_type": "markdown",
   "id": "2765f249-aa02-464c-af3f-9521f1ce42df",
   "metadata": {},
   "source": [
    "## 5. Files"
   ]
  },
  {
   "cell_type": "code",
   "execution_count": 182,
   "id": "eb72e765-6421-44da-800f-ec36bb3bd278",
   "metadata": {},
   "outputs": [],
   "source": [
    "#Open a file for writing w: write, x: create, a: append, r: read\n",
    "my_file = open(\"myfile.txt\",\"w\")"
   ]
  },
  {
   "cell_type": "code",
   "execution_count": 183,
   "id": "cf03e060-478a-4fb1-abfc-1b04d63026ad",
   "metadata": {},
   "outputs": [
    {
     "data": {
      "text/plain": [
       "34"
      ]
     },
     "execution_count": 183,
     "metadata": {},
     "output_type": "execute_result"
    }
   ],
   "source": [
    "my_file.write(\"I'm writing to a file in Python!!!\")"
   ]
  },
  {
   "cell_type": "code",
   "execution_count": 184,
   "id": "b0fb4ff9-7e68-4fc0-b90e-89c98ea61d7b",
   "metadata": {},
   "outputs": [],
   "source": [
    "my_file.close()"
   ]
  },
  {
   "cell_type": "code",
   "execution_count": 189,
   "id": "42a3a6d9-11c6-469d-8bf5-1c9512319e5a",
   "metadata": {},
   "outputs": [],
   "source": [
    "#Open a file for reading\n",
    "my_file = open(\"myfile.txt\",\"r\")"
   ]
  },
  {
   "cell_type": "code",
   "execution_count": 190,
   "id": "fbc8c180-5a63-41f8-8b93-d53eae8b577e",
   "metadata": {},
   "outputs": [
    {
     "name": "stdout",
     "output_type": "stream",
     "text": [
      "I'm writing to a file in Python!!!\n"
     ]
    }
   ],
   "source": [
    "print(my_file.read())"
   ]
  },
  {
   "cell_type": "code",
   "execution_count": 191,
   "id": "190d7242-7a8d-46b8-a85e-5399d932e9cd",
   "metadata": {},
   "outputs": [],
   "source": [
    "my_file.close()"
   ]
  },
  {
   "cell_type": "code",
   "execution_count": 192,
   "id": "5f800861-e4ff-45f0-807f-055290dc8aff",
   "metadata": {},
   "outputs": [
    {
     "ename": "FileExistsError",
     "evalue": "[Errno 17] File exists: 'myfile.txt'",
     "output_type": "error",
     "traceback": [
      "\u001b[1;31m---------------------------------------------------------------------------\u001b[0m",
      "\u001b[1;31mFileExistsError\u001b[0m                           Traceback (most recent call last)",
      "\u001b[1;32m<ipython-input-192-68f9d87f7ed9>\u001b[0m in \u001b[0;36m<module>\u001b[1;34m\u001b[0m\n\u001b[1;32m----> 1\u001b[1;33m \u001b[0mmy_file\u001b[0m \u001b[1;33m=\u001b[0m \u001b[0mopen\u001b[0m\u001b[1;33m(\u001b[0m\u001b[1;34m\"myfile.txt\"\u001b[0m\u001b[1;33m,\u001b[0m\u001b[1;34m\"x\"\u001b[0m\u001b[1;33m)\u001b[0m\u001b[1;33m\u001b[0m\u001b[1;33m\u001b[0m\u001b[0m\n\u001b[0m",
      "\u001b[1;31mFileExistsError\u001b[0m: [Errno 17] File exists: 'myfile.txt'"
     ]
    }
   ],
   "source": [
    "my_file = open(\"myfile.txt\",\"x\")"
   ]
  },
  {
   "cell_type": "code",
   "execution_count": 193,
   "id": "83bf9da2-c0bc-41d0-aead-b8eef5216f33",
   "metadata": {},
   "outputs": [],
   "source": [
    "my_new_file = open(\"mynewfile.txt\",\"x\")"
   ]
  },
  {
   "cell_type": "code",
   "execution_count": 194,
   "id": "e15a9157-d337-4db5-919e-06c5fcadd82a",
   "metadata": {},
   "outputs": [
    {
     "data": {
      "text/plain": [
       "30"
      ]
     },
     "execution_count": 194,
     "metadata": {},
     "output_type": "execute_result"
    }
   ],
   "source": [
    "my_new_file.write(\"This is the text for new file.\")"
   ]
  },
  {
   "cell_type": "code",
   "execution_count": 195,
   "id": "5f0cc709-bbd8-4a6f-9bf6-bf47d34c1a30",
   "metadata": {},
   "outputs": [],
   "source": [
    "my_new_file.close()"
   ]
  },
  {
   "cell_type": "code",
   "execution_count": 196,
   "id": "49bac40b-9f1f-4b53-92c0-7021ffe883db",
   "metadata": {},
   "outputs": [],
   "source": [
    "#Open a file for append\n",
    "my_file = open(\"myfile.txt\",\"a\")"
   ]
  },
  {
   "cell_type": "code",
   "execution_count": 198,
   "id": "df915bfe-6cf2-4288-99e3-5106f299a365",
   "metadata": {},
   "outputs": [
    {
     "data": {
      "text/plain": [
       "42"
      ]
     },
     "execution_count": 198,
     "metadata": {},
     "output_type": "execute_result"
    }
   ],
   "source": [
    "my_file.write(\"Python is an amazing programming language.\")"
   ]
  },
  {
   "cell_type": "code",
   "execution_count": 199,
   "id": "b2f84962-6695-432a-8a4f-69225c04496f",
   "metadata": {},
   "outputs": [],
   "source": [
    "my_file.close()"
   ]
  },
  {
   "cell_type": "code",
   "execution_count": null,
   "id": "ea2548eb-d1d9-412e-84ea-c4e3a3ee02cf",
   "metadata": {},
   "outputs": [],
   "source": []
  }
 ],
 "metadata": {
  "kernelspec": {
   "display_name": "Python 3",
   "language": "python",
   "name": "python3"
  },
  "language_info": {
   "codemirror_mode": {
    "name": "ipython",
    "version": 3
   },
   "file_extension": ".py",
   "mimetype": "text/x-python",
   "name": "python",
   "nbconvert_exporter": "python",
   "pygments_lexer": "ipython3",
   "version": "3.7.9"
  }
 },
 "nbformat": 4,
 "nbformat_minor": 5
}
