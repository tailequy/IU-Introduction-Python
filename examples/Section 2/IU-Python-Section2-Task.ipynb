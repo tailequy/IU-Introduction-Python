{
 "cells": [
  {
   "cell_type": "markdown",
   "id": "06a0411f-fc6e-4acf-8168-8f4409448aa3",
   "metadata": {},
   "source": [
    "### Task 1"
   ]
  },
  {
   "cell_type": "code",
   "execution_count": 3,
   "id": "d71e66dc-35ac-4960-8c6d-7c4f5b8b84c4",
   "metadata": {},
   "outputs": [
    {
     "name": "stdout",
     "output_type": "stream",
     "text": [
      "58\n"
     ]
    }
   ],
   "source": [
    "# Find the integer part and remainder of the division 1587÷27\n",
    "int_part = 1587//27\n",
    "print(int_part)"
   ]
  },
  {
   "cell_type": "code",
   "execution_count": 5,
   "id": "10a07b5e-766f-4efe-b141-69bb1b7fa60f",
   "metadata": {},
   "outputs": [
    {
     "name": "stdout",
     "output_type": "stream",
     "text": [
      "21\n"
     ]
    }
   ],
   "source": [
    "remainder = 1587%27\n",
    "print(remainder)"
   ]
  },
  {
   "cell_type": "code",
   "execution_count": null,
   "id": "91d33e45-5d50-405e-96ef-b362eec396fb",
   "metadata": {},
   "outputs": [],
   "source": [
    "# Get the unique values from the list [11, 21, 21, 5, 72, 81, 72, 5, 11, 21,72, 5]"
   ]
  },
  {
   "cell_type": "code",
   "execution_count": 6,
   "id": "266ba538-d992-405e-ad71-49721b1d4729",
   "metadata": {},
   "outputs": [],
   "source": [
    "my_list = [11, 21, 21, 5, 72, 81, 72, 5, 11, 21,72, 5]"
   ]
  },
  {
   "cell_type": "code",
   "execution_count": 7,
   "id": "698b6e2a-3524-44db-a734-784dacfc5fb4",
   "metadata": {},
   "outputs": [],
   "source": [
    "my_set = set(my_list)"
   ]
  },
  {
   "cell_type": "code",
   "execution_count": 8,
   "id": "7dacce7e-d602-4337-935f-30663ef0ce18",
   "metadata": {},
   "outputs": [
    {
     "name": "stdout",
     "output_type": "stream",
     "text": [
      "{5, 72, 11, 81, 21}\n"
     ]
    }
   ],
   "source": [
    "print(my_set)"
   ]
  },
  {
   "cell_type": "code",
   "execution_count": null,
   "id": "946ab717-4353-4507-8e64-07fd24f7441e",
   "metadata": {},
   "outputs": [],
   "source": [
    "# Display the first and last names of ‘Einstein, Albert’ and ‘Pasteur, Louis’"
   ]
  },
  {
   "cell_type": "code",
   "execution_count": 9,
   "id": "3e7d4719-ff6d-4d19-9058-3aeaeaa96d00",
   "metadata": {},
   "outputs": [],
   "source": [
    "name1 = 'Einstein, Albert'\n",
    "name2 = 'Pasteur, Louis'"
   ]
  },
  {
   "cell_type": "code",
   "execution_count": 16,
   "id": "4c450f9c-1da1-4bee-8728-99780768cda6",
   "metadata": {},
   "outputs": [],
   "source": [
    "first_name1 = name1[name1.index(\",\")+2:]\n",
    "last_name1 = name1[:name1.index(\",\")]"
   ]
  },
  {
   "cell_type": "code",
   "execution_count": 17,
   "id": "35fbbdb4-a654-48cb-bed9-96ab1e2c7ccb",
   "metadata": {},
   "outputs": [
    {
     "name": "stdout",
     "output_type": "stream",
     "text": [
      "Albert\n",
      "Einstein\n"
     ]
    }
   ],
   "source": [
    "print(first_name1)\n",
    "print(last_name1)"
   ]
  },
  {
   "cell_type": "code",
   "execution_count": 20,
   "id": "d50b3454-4d69-408c-b9f2-7580753ed126",
   "metadata": {},
   "outputs": [],
   "source": [
    "first_name2 = name2[name2.index(\",\")+2:]\n",
    "last_name2 = name2[:name2.index(\",\")]"
   ]
  },
  {
   "cell_type": "code",
   "execution_count": 21,
   "id": "b205ade0-0466-4949-bb9e-9b5d7fcc59fb",
   "metadata": {},
   "outputs": [
    {
     "name": "stdout",
     "output_type": "stream",
     "text": [
      "Louis\n",
      "Pasteur\n"
     ]
    }
   ],
   "source": [
    "print(first_name2)\n",
    "print(last_name2)"
   ]
  },
  {
   "cell_type": "markdown",
   "id": "e737066f-606b-4bd5-bccb-1c7739ae6a8d",
   "metadata": {},
   "source": [
    "### Task 2"
   ]
  },
  {
   "cell_type": "markdown",
   "id": "95240b43-2673-4507-8cc5-74f60b7f1180",
   "metadata": {},
   "source": [
    "Create a collection that stores the following information\n",
    "\n",
    "|Country| Population|Capital |Calling code|\n",
    "|---|---|---|---|\n",
    "|China |1,413 million |Beijing |+86|\n",
    "|Germany| 84.36 million |Berlin |+49|\n",
    "|India |1,408 million |New Delhi |+91|\n",
    "|United Kingdom |67.33 million |London |+44|"
   ]
  },
  {
   "cell_type": "code",
   "execution_count": 22,
   "id": "402c4ea9-3ca1-40bd-a762-dbf614da00f6",
   "metadata": {},
   "outputs": [],
   "source": [
    "data = [\n",
    "    {\"country\":\"China\",\"population\":\"1,413 million\",\"capital\":\"Beijing\",\"code\":\"+86\"},\n",
    "    {\"country\":\"Germany\",\"population\":\"84.36 million\",\"capital\":\"Berlin\",\"code\":\"+49\"},\n",
    "    {\"country\":\"India\",\"population\":\"1,408 million\",\"capital\":\"New Delhi\",\"code\":\"+91\"},\n",
    "    {\"country\":\"United Kingdom\",\"population\":\"67.33 million\",\"capital\":\"London\",\"code\":\"+44\"}    \n",
    "]"
   ]
  },
  {
   "cell_type": "code",
   "execution_count": 23,
   "id": "5c6a2723-4ed6-4874-b9ec-60651b0b09d0",
   "metadata": {},
   "outputs": [
    {
     "name": "stdout",
     "output_type": "stream",
     "text": [
      "[{'country': 'China', 'population': '1,413 million', 'capital': 'Beijing', 'code': '+86'}, {'country': 'Germany', 'population': '84.36 million', 'capital': 'Berlin', 'code': '+49'}, {'country': 'India', 'population': '1,408 million', 'capital': 'New Delhi', 'code': '+91'}, {'country': 'United Kingdom', 'population': '67.33 million', 'capital': 'London', 'code': '+44'}]\n"
     ]
    }
   ],
   "source": [
    "print(data)"
   ]
  },
  {
   "cell_type": "code",
   "execution_count": 24,
   "id": "f7b47a9c-7e00-4400-98b4-66d1543d8670",
   "metadata": {},
   "outputs": [
    {
     "data": {
      "text/plain": [
       "{'country': 'China',\n",
       " 'population': '1,413 million',\n",
       " 'capital': 'Beijing',\n",
       " 'code': '+86'}"
      ]
     },
     "execution_count": 24,
     "metadata": {},
     "output_type": "execute_result"
    }
   ],
   "source": [
    "data[0]"
   ]
  },
  {
   "cell_type": "code",
   "execution_count": 25,
   "id": "e23ef6c1-7e27-46fa-adfc-668f69457a84",
   "metadata": {},
   "outputs": [
    {
     "data": {
      "text/plain": [
       "'China'"
      ]
     },
     "execution_count": 25,
     "metadata": {},
     "output_type": "execute_result"
    }
   ],
   "source": [
    "data[0]['country']"
   ]
  },
  {
   "cell_type": "code",
   "execution_count": 1,
   "id": "d4aadf4d-dbfd-4e73-8aa5-8e3a4e7cb59a",
   "metadata": {},
   "outputs": [],
   "source": [
    "my_string = \"Python is so powerful!\""
   ]
  },
  {
   "cell_type": "code",
   "execution_count": 2,
   "id": "f3fa9964-bd3b-4fd4-badc-6c230d36d4fe",
   "metadata": {},
   "outputs": [
    {
     "data": {
      "text/plain": [
       "'is so'"
      ]
     },
     "execution_count": 2,
     "metadata": {},
     "output_type": "execute_result"
    }
   ],
   "source": [
    "my_string[my_string.index('is'):my_string.index('is')+5]"
   ]
  },
  {
   "cell_type": "code",
   "execution_count": null,
   "id": "a1794fea-e56a-4a37-b1c3-c82c9cb71063",
   "metadata": {},
   "outputs": [],
   "source": []
  }
 ],
 "metadata": {
  "kernelspec": {
   "display_name": "Python 3",
   "language": "python",
   "name": "python3"
  },
  "language_info": {
   "codemirror_mode": {
    "name": "ipython",
    "version": 3
   },
   "file_extension": ".py",
   "mimetype": "text/x-python",
   "name": "python",
   "nbconvert_exporter": "python",
   "pygments_lexer": "ipython3",
   "version": "3.7.9"
  }
 },
 "nbformat": 4,
 "nbformat_minor": 5
}
